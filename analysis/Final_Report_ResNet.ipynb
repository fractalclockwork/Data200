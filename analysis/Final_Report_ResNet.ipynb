{
 "cells": [
  {
   "cell_type": "markdown",
   "id": "f5f1d48b-60e8-4c10-a5b3-2affa236767d",
   "metadata": {},
   "source": [
    "# Classifying Damage Level Disaster-Induced Images Via Computer Vision\n",
    "\n",
    "\n",
    "https://www.overleaf.com/project/662998cb25dcfcdb03e5d57a\n",
    "\n",
    "Shirley Li, Kofi Mireku, Brent Thorne\n",
    "\n",
    "Data200S, UC Berkeley MSSE"
   ]
  },
  {
   "cell_type": "markdown",
   "id": "6e57012e-dd20-41da-8c48-d2e77f40d034",
   "metadata": {},
   "source": [
    "**Summary and Introduction**\n",
    "\n",
    "This notebook serves as a repository for collecting observations and results. It does not represent refinements to models and analyses conducted outside this notebook.\n",
    "\n",
    "    Model Selection:\n",
    "        The approach integrates predictive and inferential elements.\n",
    "        Two model choices:\n",
    "            Convolutional Neural Network (CNN): Effective for processing grid-like data (e.g., images) and extracting hierarchical features.\n",
    "            Singular Value Decomposition (SVD) or Principal Component Analysis (PCA): Computationally efficient, providing low-dimensional representations for large, high-dimensional datasets.\n",
    "\n",
    "    Hyperparameter Tuning:\n",
    "        The model does not require extensive tuning due to the use of convolutional layers.\n",
    "        Unlike Support Vector Machines, CNNs perform effectively without extensive hyperparameter adjustments.\n",
    "\n",
    "    Feature Engineering:\n",
    "        Image size selection within the interquartile range ensures a balanced and representative sample. (used in initial model, current dev is with weighted bottleneck, w/vgg16)\n",
    "        Augmentation techniques (flipping, rotation) enhance training data diversity.  (used in initial model, weighted bottleneck for vgg16).\n",
    "        Resizing images to a common aspect ratio reduces model complexity.\n",
    "\n",
    "    Cross-Validation:\n",
    "        Categorical cross-entropy loss function used during cross-validation.\n",
    "        F1 score is the primary metric for model comparison.\n",
    "        Precision, recall, and R2 scores provide comprehensive evaluation.\n",
    "\n",
    "    Bias-Variance Tradeoff and Overfitting:\n",
    "        Precision, recall, F1 scores, and R2 scores assess bias-variance tradeoff.\n",
    "        Monitoring training and validation loss helps detect overfitting.\n",
    "        SVD model uses condition numbers to manage complexity.\n",
    "\n",
    "    Model Improvement:\n",
    "        Address label imbalance by augmenting or dropping data based on outcomes.\n",
    "        Employ k-fold cross-validation for performance estimation on unseen data.\n",
    "        Use weighted bottleneck and vgg16.\n",
    "        Explore essemble VGG6, CNN, and SVG. \n",
    "\n",
    "    Further Extensions:\n",
    "        Investigating visualizations of intermediate activations in CNNs.\n",
    "        Interpreting dimensions of latent space using principal components.\n",
    "        Exploring Synthetic Minority Oversampling Technique (SMOTE) for data augmentation.\n"
   ]
  },
  {
   "cell_type": "markdown",
   "id": "1ae97256-32b7-4b35-b8a5-42060125ad32",
   "metadata": {},
   "source": [
    "## Library Import and Environment Configuration"
   ]
  },
  {
   "cell_type": "code",
   "execution_count": 1,
   "id": "97facbd2-8744-4997-a2ee-5d25712af811",
   "metadata": {},
   "outputs": [
    {
     "name": "stderr",
     "output_type": "stream",
     "text": [
      "2024-05-06 10:48:02.816538: I tensorflow/core/platform/cpu_feature_guard.cc:182] This TensorFlow binary is optimized to use available CPU instructions in performance-critical operations.\n",
      "To enable the following instructions: SSE4.1 SSE4.2 AVX, in other operations, rebuild TensorFlow with the appropriate compiler flags.\n"
     ]
    }
   ],
   "source": [
    "import cv2\n",
    "import re\n",
    "import io\n",
    "import os\n",
    "import pickle\n",
    "import zipfile\n",
    "import numpy as np\n",
    "import seaborn as sns\n",
    "from tqdm import tqdm\n",
    "import pandas as pd\n",
    "import matplotlib.pyplot as plt\n",
    "\n",
    "from utils import (\n",
    "    read_files_from_zip,\n",
    "    data2pd,\n",
    "    show_balance,\n",
    "    load_model_data,\n",
    "    save_model_data,\n",
    ")\n",
    "\n"
   ]
  },
  {
   "cell_type": "code",
   "execution_count": 2,
   "id": "9b6085d0-47b5-478c-bf35-581b33e84fbc",
   "metadata": {},
   "outputs": [
    {
     "name": "stdout",
     "output_type": "stream",
     "text": [
      "CPU times: user 469 ms, sys: 667 ms, total: 1.14 s\n",
      "Wall time: 1.77 s\n"
     ]
    }
   ],
   "source": [
    "%%time\n",
    "data_dir = '../data'\n",
    "\n",
    "# Pickle out data to speed this up\n",
    "train_df, test_df = [], []\n",
    "if (\n",
    "    os.path.exists(data_dir)\n",
    "    & os.path.isfile(f\"{data_dir}/train_df.pkl\")\n",
    "    & os.path.isfile(f\"{data_dir}/test_df.pkl\")\n",
    "):\n",
    "    train_df = pd.read_pickle(f\"{data_dir}/train_df.pkl\")\n",
    "    test_df = pd.read_pickle(f\"{data_dir}/test_df.pkl\")\n",
    "else:\n",
    "    # Load Test Images\n",
    "    test_data_images = read_files_from_zip(\n",
    "        data_file, r\"(test)_images_([\\w-]*)\\.npz\"\n",
    "    )\n",
    "\n",
    "    # Load Train Images and Labels\n",
    "    train_data_images = read_files_from_zip(\n",
    "        data_file, r\"satellite-image-data/([\\w-]*)/(train)_images\\.npz\"\n",
    "    )\n",
    "    train_data_labels = read_files_from_zip(\n",
    "        data_file, r\"satellite-image-data/([\\w-]*)/(train)_labels\\.npy\"\n",
    "    )\n",
    "\n",
    "    # Convert to Dataframe\n",
    "    train_df = data2pd(train_data_images, train_data_labels)\n",
    "    test_df = data2pd(test_data_images)\n",
    "\n",
    "    # Pickle DataFrame\n",
    "    train_df.to_pickle(f\"{data_dir}/train_df.pkl\")\n",
    "    test_df.to_pickle(f\"{data_dir}/test_df.pkl\")\n",
    "\n",
    "    # Clean up\n",
    "    del test_data_images\n",
    "    del train_data_images\n",
    "    del train_data_labels"
   ]
  },
  {
   "cell_type": "code",
   "execution_count": 3,
   "id": "bd184033-3ad0-4654-b769-af47c02fd5bd",
   "metadata": {},
   "outputs": [],
   "source": [
    "# Configure system type\n",
    "COLAB = False\n",
    "\n",
    "# Set data and system paths\n",
    "if COLAB:\n",
    "    import sys\n",
    "    from google.colab import drive\n",
    "\n",
    "    drive.mount(\"/content/drive\")\n",
    "    path = \"/content/drive/My Drive/Colab Notebooks/grad_project\"\n",
    "    data_dir = f\"{path}/data\"\n",
    "    sys.path.insert(\n",
    "        0, f\"{path}/Source\"\n",
    "    )  # for colab to see local libraries\n",
    "else:\n",
    "    data_dir = f\"../data\"\n",
    "    path = \".\"\n",
    "\n",
    "# Set Date Source\n",
    "data_file = f\"{data_dir}/sp24_grad_project_data.zip\"\n",
    "figure_path = f\"{path}/../figures\"\n",
    "\n",
    "# Set Default Image Size\n",
    "SIZE = 120"
   ]
  },
  {
   "cell_type": "markdown",
   "id": "2605243c-5878-49d7-bbe9-43895a0a5e77",
   "metadata": {},
   "source": [
    "## Task A"
   ]
  },
  {
   "cell_type": "markdown",
   "id": "bb8123e3-5620-4994-9010-c773405b5ef0",
   "metadata": {},
   "source": [
    "### Feature Engineering (Task A)"
   ]
  },
  {
   "cell_type": "code",
   "execution_count": 4,
   "id": "038a0b55-bcd2-4658-8eea-466abb68bb40",
   "metadata": {},
   "outputs": [
    {
     "data": {
      "text/plain": [
       "type   label\n",
       "fire   0        7204\n",
       "       3        1064\n",
       "       1          69\n",
       "       2          43\n",
       "flood  0        6734\n",
       "       1         114\n",
       "       2          97\n",
       "       3          59\n",
       "Name: count, dtype: int64"
      ]
     },
     "metadata": {},
     "output_type": "display_data"
    },
    {
     "data": {
      "text/plain": [
       "type   label\n",
       "fire   4        7204\n",
       "       7        1064\n",
       "       5          69\n",
       "       6          43\n",
       "flood  3        6734\n",
       "       2         114\n",
       "       1          97\n",
       "       0          59\n",
       "Name: count, dtype: int64"
      ]
     },
     "metadata": {},
     "output_type": "display_data"
    },
    {
     "data": {
      "text/plain": [
       "((15384, 5), (3847, 3))"
      ]
     },
     "execution_count": 4,
     "metadata": {},
     "output_type": "execute_result"
    }
   ],
   "source": [
    "# Select Dataset for Disaster Type Classification\n",
    "train_type_df = train_df[\n",
    "    ((train_df.type == \"fire\") | (train_df.type == \"flood\"))\n",
    "]  # & (train_df.label != 0)]\n",
    "test_type_df = test_df[\n",
    "    ((test_df.type == \"fire\") | (test_df.type == \"flood\"))\n",
    "]  # & (test_df.label != 0)]\n",
    "show_balance(train_type_df)\n",
    "\n",
    "# Encode labels\n",
    "def encode_label(type_df):\n",
    "    type_df = type_df.copy()\n",
    "    type_df[\"old_label\"] = type_df[\"label\"]\n",
    "    type_df[\"label\"] = (\n",
    "        type_df[[\"type\", \"old_label\"]]\n",
    "        .apply(\n",
    "            lambda df: (df[\"old_label\"] + 1)\n",
    "            if df[\"type\"] == \"fire\"\n",
    "            else -(df[\"old_label\"]),\n",
    "            axis=1,\n",
    "        )\n",
    "        .astype(\"int\")\n",
    "        + 3\n",
    "    )\n",
    "    return type_df\n",
    "\n",
    "\n",
    "train_type_df = encode_label(train_type_df)\n",
    "\n",
    "show_balance(train_type_df)\n",
    "train_type_df.shape, test_type_df.shape"
   ]
  },
  {
   "cell_type": "code",
   "execution_count": 5,
   "id": "88f73549-5f07-48a1-b669-19462f987d98",
   "metadata": {},
   "outputs": [],
   "source": [
    "# Verify class labels\n",
    "unique_labels = np.unique(train_type_df[\"label\"])\n",
    "expected_indices = np.arange(8)  # Indices for 8 classes (0 to 7)\n",
    "\n",
    "if not np.array_equal(unique_labels, expected_indices):\n",
    "    print(\n",
    "        \"Class labels do not match expected indices. Please verify your labels.\"\n",
    "    )"
   ]
  },
  {
   "cell_type": "code",
   "execution_count": 6,
   "id": "f9660ab3-6d4d-4609-87e7-66b329a2e873",
   "metadata": {},
   "outputs": [
    {
     "data": {
      "text/plain": [
       "(array([0, 1, 2, 3, 4, 5, 6, 7]), array([0, 1, 2, 3, 4, 5, 6, 7]))"
      ]
     },
     "execution_count": 6,
     "metadata": {},
     "output_type": "execute_result"
    }
   ],
   "source": [
    "unique_labels, expected_indices"
   ]
  },
  {
   "cell_type": "markdown",
   "id": "fba15304-3956-4563-b44f-80cf81d72cb4",
   "metadata": {},
   "source": [
    "### Model CNN, ResNet50 (Task A)"
   ]
  },
  {
   "cell_type": "code",
   "execution_count": 7,
   "id": "4f4f750e-ff7c-4a26-9229-55dbf68bb17b",
   "metadata": {},
   "outputs": [
    {
     "name": "stdout",
     "output_type": "stream",
     "text": [
      "CPU times: user 4.11 s, sys: 1.35 s, total: 5.45 s\n",
      "Wall time: 5.51 s\n"
     ]
    }
   ],
   "source": [
    "%%time\n",
    "\n",
    "import tensorflow as tf\n",
    "from tensorflow import keras\n",
    "from tensorflow.keras import layers\n",
    "import pandas as pd\n",
    "from sklearn.model_selection import train_test_split\n",
    "\n",
    "SIZE = 120\n",
    "\n",
    "def resize_images(df, size=(SIZE, SIZE)):\n",
    "    resized_images = []\n",
    "    for i in range(len(df)):\n",
    "        img = df['image'].iloc[i]\n",
    "        #img_resized = cv2.resize(img, size)/255.0  # for positive definateness\n",
    "        img_resized = cv2.resize(img, size, interpolation= cv2.INTER_LINEAR)/255.0\n",
    "        #img_resized = img_resized.flatten() # Flatten the images\n",
    "        resized_images.append(img_resized)\n",
    "    return np.array(resized_images)\n",
    "\n",
    "\n",
    "# Prepare data\n",
    "df = train_type_df\n",
    "\n",
    "m_train_df, m_val_df = train_test_split(\n",
    "    df, test_size=0.2, stratify=df[\"label\"], random_state=42\n",
    ")\n",
    "\n",
    "X_train = resize_images(m_train_df)  # use image resizing and scaling\n",
    "Y_train = m_train_df[\"label\"].astype(int)\n",
    "\n",
    "X_val = resize_images(m_val_df)  # use image resizing and scaling\n",
    "Y_val = m_val_df[\"label\"].astype(int)"
   ]
  },
  {
   "cell_type": "code",
   "execution_count": 8,
   "id": "611236e9-b020-439f-941a-bd9df6690243",
   "metadata": {},
   "outputs": [],
   "source": [
    "dnn_model = keras.Sequential()\n",
    "imported_model= tf.keras.applications.ResNet50(include_top=False,\n",
    "input_shape=(SIZE,SIZE,3),\n",
    "pooling='avg',classes=8,\n",
    "weights='imagenet')\n",
    "for layer in imported_model.layers:\n",
    "    layer.trainable=False"
   ]
  },
  {
   "cell_type": "code",
   "execution_count": 9,
   "id": "1b60a47c-a4ed-41be-b54b-17b1b0303a95",
   "metadata": {},
   "outputs": [],
   "source": [
    "from tensorflow.python.keras.layers import Dense, Flatten\n",
    "\n",
    "dnn_model.add(imported_model)\n",
    "dnn_model.add(Flatten())\n",
    "dnn_model.add(Dense(256, activation='relu'))\n",
    "dnn_model.add(Dense(8, activation='softmax'))"
   ]
  },
  {
   "cell_type": "code",
   "execution_count": 10,
   "id": "d026c351-700c-4e1b-a369-36e2f39df78f",
   "metadata": {},
   "outputs": [
    {
     "name": "stdout",
     "output_type": "stream",
     "text": [
      "Model: \"sequential\"\n",
      "_________________________________________________________________\n",
      " Layer (type)                Output Shape              Param #   \n",
      "=================================================================\n",
      " resnet50 (Functional)       (None, 2048)              23587712  \n",
      "                                                                 \n",
      " module_wrapper (ModuleWrap  (None, 2048)              0         \n",
      " per)                                                            \n",
      "                                                                 \n",
      " module_wrapper_1 (ModuleWr  (None, 256)               524544    \n",
      " apper)                                                          \n",
      "                                                                 \n",
      " module_wrapper_2 (ModuleWr  (None, 8)                 2056      \n",
      " apper)                                                          \n",
      "                                                                 \n",
      "=================================================================\n",
      "Total params: 24114312 (91.99 MB)\n",
      "Trainable params: 526600 (2.01 MB)\n",
      "Non-trainable params: 23587712 (89.98 MB)\n",
      "_________________________________________________________________\n"
     ]
    }
   ],
   "source": [
    "dnn_model.summary()"
   ]
  },
  {
   "cell_type": "code",
   "execution_count": 11,
   "id": "01abd60a-7c7e-4902-96c1-58f8fea5af9f",
   "metadata": {},
   "outputs": [],
   "source": [
    "from tensorflow.keras.optimizers import Adam\n",
    "dnn_model.compile(optimizer=Adam(learning_rate=0.001),loss='sparse_categorical_crossentropy',metrics=['accuracy'])"
   ]
  },
  {
   "cell_type": "code",
   "execution_count": 12,
   "id": "e260e6ca-5b98-478a-8adf-ac9dab7e284a",
   "metadata": {},
   "outputs": [
    {
     "name": "stderr",
     "output_type": "stream",
     "text": [
      "2024-05-06 10:48:22.378613: W external/local_tsl/tsl/framework/cpu_allocator_impl.cc:83] Allocation of 2126649600 exceeds 10% of free system memory.\n"
     ]
    },
    {
     "name": "stdout",
     "output_type": "stream",
     "text": [
      "Epoch 1/10\n",
      "385/385 [==============================] - ETA: 0s - loss: 2.1321 - accuracy: 0.0424"
     ]
    },
    {
     "name": "stderr",
     "output_type": "stream",
     "text": [
      "2024-05-06 10:59:07.346829: W external/local_tsl/tsl/framework/cpu_allocator_impl.cc:83] Allocation of 531705600 exceeds 10% of free system memory.\n"
     ]
    },
    {
     "name": "stdout",
     "output_type": "stream",
     "text": [
      "385/385 [==============================] - 796s 2s/step - loss: 2.1321 - accuracy: 0.0424 - val_loss: 1.9897 - val_accuracy: 0.0078\n",
      "Epoch 2/10\n",
      "385/385 [==============================] - 825s 2s/step - loss: 2.0877 - accuracy: 0.1142 - val_loss: 2.0798 - val_accuracy: 0.3126\n",
      "Epoch 3/10\n",
      "385/385 [==============================] - 826s 2s/step - loss: 2.0789 - accuracy: 0.3500 - val_loss: 2.0695 - val_accuracy: 0.4582\n",
      "Epoch 4/10\n",
      "385/385 [==============================] - 870s 2s/step - loss: 2.0739 - accuracy: 0.4718 - val_loss: 2.0399 - val_accuracy: 0.4417\n",
      "Epoch 5/10\n",
      "385/385 [==============================] - 853s 2s/step - loss: 2.0679 - accuracy: 0.4950 - val_loss: 2.0147 - val_accuracy: 0.6594\n",
      "Epoch 6/10\n",
      "385/385 [==============================] - 839s 2s/step - loss: 2.0556 - accuracy: 0.5007 - val_loss: 1.9838 - val_accuracy: 0.6074\n",
      "Epoch 7/10\n",
      "385/385 [==============================] - 833s 2s/step - loss: 2.0432 - accuracy: 0.5741 - val_loss: 1.7732 - val_accuracy: 0.5931\n",
      "Epoch 8/10\n",
      "385/385 [==============================] - 841s 2s/step - loss: 2.0382 - accuracy: 0.5548 - val_loss: 1.9578 - val_accuracy: 0.5944\n",
      "Epoch 9/10\n",
      "385/385 [==============================] - 852s 2s/step - loss: 2.0265 - accuracy: 0.6030 - val_loss: 1.9335 - val_accuracy: 0.5762\n",
      "Epoch 10/10\n",
      "385/385 [==============================] - 937s 2s/step - loss: 2.0217 - accuracy: 0.5750 - val_loss: 1.9465 - val_accuracy: 0.5463\n"
     ]
    }
   ],
   "source": [
    "from sklearn.utils import compute_class_weight\n",
    "# Calculate class weights for imbalanced labels\n",
    "train_classes = Y_train\n",
    "class_weights = compute_class_weight(\n",
    "    class_weight=\"balanced\",\n",
    "    classes=np.unique(train_classes),\n",
    "    y=train_classes,\n",
    ")\n",
    "class_weights_dict = {i: weight for i, weight in enumerate(class_weights)}\n",
    "\n",
    "history = dnn_model.fit(\n",
    "    X_train, Y_train,\n",
    "    validation_data=(X_val, Y_val),\n",
    "    epochs=10,\n",
    "    batch_size=32,\n",
    "    class_weight=class_weights_dict,\n",
    ")"
   ]
  },
  {
   "cell_type": "code",
   "execution_count": 16,
   "id": "1d73ccf4-34e9-49c3-acac-a670f25af38d",
   "metadata": {},
   "outputs": [
    {
     "data": {
      "image/png": "[encoded data removed]",
      "text/plain": [
       "<Figure size 1500x600 with 2 Axes>"
      ]
     },
     "metadata": {},
     "output_type": "display_data"
    }
   ],
   "source": [
    "def plot_loss(History):\n",
    "    history = History.history\n",
    "    N = len(history[\"loss\"])\n",
    "    plt.figure(figsize=(15, 6))\n",
    "    plt.subplot(1, 2, 1)\n",
    "    plt.plot(np.arange(0, N), history[\"loss\"], label=\"train_loss\", ls=\"--\")\n",
    "    plt.plot(\n",
    "        np.arange(0, N), history[\"val_loss\"], label=\"val_loss\", ls=\"--\"\n",
    "    )\n",
    "    plt.title(\"Loss\")\n",
    "    plt.xlabel(\"Epoch\")\n",
    "    plt.ylabel(\"Loss\")\n",
    "    plt.legend(loc=\"upper left\")\n",
    "    plt.grid()\n",
    "\n",
    "    plt.subplot(1, 2, 2)\n",
    "    plt.plot(\n",
    "        np.arange(0, N),\n",
    "        history[\"accuracy\"],\n",
    "        label=\"train_laccuracy\",\n",
    "        ls=\"--\",\n",
    "    )\n",
    "    plt.plot(\n",
    "        np.arange(0, N),\n",
    "        history[\"val_accuracy\"],\n",
    "        label=\"val_accuracy\",\n",
    "        ls=\"--\",\n",
    "    )\n",
    "    # plt.yscale('log')\n",
    "    plt.title(\"Accuracy\")\n",
    "    plt.xlabel(\"Epoch\")\n",
    "    plt.ylabel(\"Accuracy\")\n",
    "    plt.legend(loc=\"upper left\")\n",
    "    plt.grid()\n",
    "\n",
    "model_history = history\n",
    "plot_loss(model_history)"
   ]
  },
  {
   "cell_type": "code",
   "execution_count": 19,
   "id": "3e70f013-7b1d-4eae-94d9-0f1ff29992f4",
   "metadata": {},
   "outputs": [
    {
     "name": "stderr",
     "output_type": "stream",
     "text": [
      "2024-05-06 13:11:20.385019: W external/local_tsl/tsl/framework/cpu_allocator_impl.cc:83] Allocation of 531705600 exceeds 10% of free system memory.\n"
     ]
    },
    {
     "name": "stdout",
     "output_type": "stream",
     "text": [
      "97/97 [==============================] - 187s 2s/step\n"
     ]
    },
    {
     "data": {
      "text/plain": [
       "0.7065323366915827"
      ]
     },
     "execution_count": 19,
     "metadata": {},
     "output_type": "execute_result"
    }
   ],
   "source": [
    "def custom_activation(y):\n",
    "    return np.where(y > 3.5, 1, 0)\n",
    "    \n",
    "model = dnn_model\n",
    "Y_pred = model.predict(X_val)  # much slower making predictions than our custom vgg16\n",
    "Y_pred = custom_activation(np.argmax(Y_pred, axis=1))\n",
    "Y_actual = custom_activation(m_val_df[\"label\"].to_numpy())\n",
    "\n",
    "sum(Y_pred == Y_actual) / len(Y_actual) # Show how did"
   ]
  },
  {
   "cell_type": "code",
   "execution_count": 20,
   "id": "e7d47f8c-ed82-42d2-802b-582ab4d08ecc",
   "metadata": {},
   "outputs": [
    {
     "name": "stdout",
     "output_type": "stream",
     "text": [
      "              precision    recall  f1-score   support\n",
      "\n",
      "           0     0.8176    0.4575    0.5867      1401\n",
      "           1     0.6686    0.9147    0.7725      1676\n",
      "\n",
      "    accuracy                         0.7065      3077\n",
      "   macro avg     0.7431    0.6861    0.6796      3077\n",
      "weighted avg     0.7364    0.7065    0.6879      3077\n",
      "\n"
     ]
    },
    {
     "data": {
      "image/png": "[encoded data removed]",
      "text/plain": [
       "<Figure size 800x500 with 2 Axes>"
      ]
     },
     "metadata": {},
     "output_type": "display_data"
    }
   ],
   "source": [
    "# Evaluate our model based on precision, recall, and f1-score\n",
    "from sklearn.metrics import classification_report\n",
    "from sklearn.metrics import confusion_matrix\n",
    "import seaborn as sns\n",
    "\n",
    "# Printing the classification report\n",
    "print(classification_report(Y_actual, Y_pred, digits=4))\n",
    "\n",
    "# Plotting the heatmap using confusion matrix\n",
    "cm = confusion_matrix(Y_actual, Y_pred)\n",
    "plt.figure(figsize=(8, 5))\n",
    "sns.heatmap(\n",
    "    cm,\n",
    "    annot=True,\n",
    "    fmt=\".0f\",\n",
    "    xticklabels=[\"flood\", \"fire\"],\n",
    "    yticklabels=[\"flood\", \"fire\"],\n",
    ")\n",
    "plt.ylabel(\"Actual\")\n",
    "plt.xlabel(\"Predicted\")\n",
    "plt.show()"
   ]
  },
  {
   "cell_type": "code",
   "execution_count": 14,
   "id": "1f18d3cf-ace4-4c5f-b7e3-2718c8d9a697",
   "metadata": {},
   "outputs": [
    {
     "ename": "AssertionError",
     "evalue": "",
     "output_type": "error",
     "traceback": [
      "\u001b[0;31m---------------------------------------------------------------------------\u001b[0m",
      "\u001b[0;31mAssertionError\u001b[0m                            Traceback (most recent call last)",
      "Cell \u001b[0;32mIn[14], line 1\u001b[0m\n\u001b[0;32m----> 1\u001b[0m \u001b[38;5;28;01massert\u001b[39;00m \u001b[38;5;28;01mFalse\u001b[39;00m\n",
      "\u001b[0;31mAssertionError\u001b[0m: "
     ]
    }
   ],
   "source": [
    "assert False"
   ]
  },
  {
   "cell_type": "markdown",
   "id": "ffb46e21-0972-46b3-87a6-58336d80a3db",
   "metadata": {},
   "source": [
    "### Model CNN, VGG (Task A)\n",
    "\n",
    "We utilize a pretrained vgg16 network to create bottleneck features then a simple fully-connected model for classification.\n",
    "This choice was make to accelerate testing of various classification models but reuse of the bottleneck features can take a rather long time (~1.5hrs) to create, while the classification models take only few seconds to train and test.\n",
    "\n",
    "see also: https://blog.keras.io/building-powerful-image-classification-models-using-very-little-data.html"
   ]
  },
  {
   "cell_type": "code",
   "execution_count": null,
   "id": "c171d7fa-6794-4d6b-b78b-3ec9634861dd",
   "metadata": {},
   "outputs": [],
   "source": [
    "train_type_df.columns"
   ]
  },
  {
   "cell_type": "code",
   "execution_count": null,
   "id": "899a9c02-2db2-42e4-91ec-db12fcf6b9c4",
   "metadata": {},
   "outputs": [],
   "source": [
    "from tensorflow.keras import backend\n",
    "\n",
    "backend.clear_session()  # clear model\n",
    "SIZE =120"
   ]
  },
  {
   "cell_type": "code",
   "execution_count": null,
   "id": "e66fa28c-c9b6-4eab-9c3f-feb79b53c043",
   "metadata": {},
   "outputs": [],
   "source": [
    "import numpy as np\n",
    "import pandas as pd\n",
    "import tensorflow as tf\n",
    "from tensorflow.keras.applications.vgg16 import VGG16\n",
    "from tensorflow.keras.models import Sequential\n",
    "from tensorflow.keras.layers import Dense, Flatten, Dropout, Conv2D\n",
    "from sklearn.model_selection import train_test_split\n",
    "\n",
    "# from sklearn.utils import class_weight\n",
    "from sklearn.utils import compute_class_weight\n",
    "\n",
    "\n",
    "SIZE = 120  # Set image size\n",
    "\n",
    "# Load Our DataFrame\n",
    "df = train_type_df\n",
    "\n",
    "# Note that 'image' column contains RGB images as numpy arrays\n",
    "# and 'label' column contains values (-3, -2, -1, 0, 1, 2, 3),\n",
    "# Nope... [0,1,2,3,4,5,6,7], where >3.5 is fire\n",
    "\n",
    "# Split data into training and validation sets\n",
    "m_train_df, m_val_df = train_test_split(\n",
    "    df, test_size=0.2, stratify=df[\"label\"], random_state=42\n",
    ")\n",
    "\n",
    "# Load VGG16 model with pre-trained weights (excluding top layers)\n",
    "vgg16 = VGG16(\n",
    "    weights=\"imagenet\", include_top=False, input_shape=(SIZE, SIZE, 3)\n",
    ")\n",
    "\n",
    "# Extract bottleneck features for training data\n",
    "def extract_bottleneck_features(dataframe):\n",
    "    features = []\n",
    "    for img_array in tqdm(dataframe[\"image\"]):\n",
    "        img_array = tf.image.resize(\n",
    "            img_array, (SIZE, SIZE)\n",
    "        )  # Resize to VGG16 input size\n",
    "        img_array = tf.keras.applications.vgg16.preprocess_input(img_array)\n",
    "        bottleneck_feature = vgg16.predict(\n",
    "            np.expand_dims(img_array, axis=0), verbose=0\n",
    "        )\n",
    "        features.append(bottleneck_feature.flatten())\n",
    "    return np.array(features)\n",
    "\n",
    "\n",
    "train_features, val_features = [], []\n",
    "if (\n",
    "    os.path.exists(data_dir)\n",
    "    & os.path.isfile(f\"{data_dir}/task_A_train_features.npy\")\n",
    "    & os.path.isfile(f\"{data_dir}/task_A_test_features.npy\")\n",
    "    & os.path.isfile(f\"{data_dir}/task_A_val_features.npy\")\n",
    "):\n",
    "    train_features = np.load(f\"{data_dir}/task_A_train_features.npy\")\n",
    "    test_features = np.load(f\"{data_dir}/task_A_test_features.npy\")\n",
    "    val_features = np.load(f\"{data_dir}/task_A_val_features.npy\")\n",
    "else:\n",
    "    train_features = extract_bottleneck_features(m_train_df)\n",
    "    test_features = extract_bottleneck_features(test_type_df)\n",
    "    val_features = extract_bottleneck_features(m_val_df)\n",
    "    np.save(f\"{data_dir}/task_A_train_features.npy\", train_features)\n",
    "    np.save(f\"{data_dir}/task_A_test_features.npy\", test_features)\n",
    "    np.save(f\"{data_dir}/task_A_val_features.npy\", val_features)\n",
    "\n",
    "# Create a simple fully-connected model\n",
    "model = Sequential()\n",
    "model.add(Flatten(input_shape=train_features.shape[1:]))\n",
    "model.add(Dense(128, activation=\"relu\"))\n",
    "# model.add(Dropout(0.01)),\n",
    "model.add(Dense(64, activation=\"relu\"))\n",
    "# model.add(Dropout(0.0001)),\n",
    "model.add(Dense(8, activation=\"softmax\"))  # 8 classes\n",
    "\n",
    "# Compile the model\n",
    "model.compile(\n",
    "    optimizer=\"adam\",\n",
    "    loss=\"sparse_categorical_crossentropy\",\n",
    "    metrics=[\"accuracy\"],\n",
    ")\n",
    "\n",
    "# Calculate class weights for imbalanced labels\n",
    "train_classes = m_train_df[\"label\"]\n",
    "class_weights = compute_class_weight(\n",
    "    class_weight=\"balanced\",\n",
    "    classes=np.unique(train_classes),\n",
    "    y=train_classes,\n",
    ")\n",
    "class_weights_dict = {i: weight for i, weight in enumerate(class_weights)}\n",
    "\n",
    "# Save the model\n",
    "model_name = \"task_A_vgg16_model_dropout\"\n",
    "model_0, history_0, notes_0 = load_model_data(model_name, path=data_dir)\n",
    "if model_0 != None:\n",
    "    model, model_history, notes = model_0, history_0, notes_0\n",
    "else:\n",
    "    # Train the model\n",
    "    model_history = model.fit(\n",
    "        train_features,\n",
    "        m_train_df[\"label\"],\n",
    "        validation_data=(val_features, m_val_df[\"label\"]),\n",
    "        epochs=10,\n",
    "        batch_size=128,\n",
    "        class_weight=class_weights_dict,\n",
    "    )\n",
    "    # Save, one and done.\n",
    "    save_model_data(\n",
    "        model_name,\n",
    "        model,\n",
    "        model_history,\n",
    "        \"trained on weighted labels\",\n",
    "        path=data_dir,\n",
    "    )"
   ]
  },
  {
   "cell_type": "markdown",
   "id": "f4bbb663-0133-4023-a43b-cc4ebc9aa499",
   "metadata": {},
   "source": [
    "#### Model Summary (Task A)"
   ]
  },
  {
   "cell_type": "code",
   "execution_count": null,
   "id": "59eb9f81-7f8b-4d00-abbf-21b54686b56b",
   "metadata": {},
   "outputs": [],
   "source": [
    "vgg16.summary()\n",
    "model.summary()"
   ]
  },
  {
   "cell_type": "code",
   "execution_count": null,
   "id": "db646715-644e-461e-b193-899a415a5caa",
   "metadata": {},
   "outputs": [],
   "source": [
    "# Save model and feature weights\n",
    "FREEZE = False\n",
    "if FREEZE:\n",
    "    model_name = \"task_A_vgg16_model\"\n",
    "    save_model_data(\n",
    "        model_name,\n",
    "        model,\n",
    "        model_history,\n",
    "        \"trained on weighted labels\",\n",
    "        path=data_dir,\n",
    "    )\n",
    "    np.save(f\"{data_dir}/task_A_train_features.npy\", train_features)\n",
    "    np.save(f\"{data_dir}/task_A_test_features.npy\", test_features)\n",
    "    np.save(f\"{data_dir}/task_A_val_features.npy\", val_features)\n",
    "\n",
    "# train_features = np.load(f'{data_dir}/train_features.npy')\n",
    "# val_features = np.load(f'{data_dir}/val_features.npy')\n",
    "train_features.shape, val_features.shape"
   ]
  },
  {
   "cell_type": "markdown",
   "id": "e84f136b-5058-41f5-bd1f-2b28ccda56a0",
   "metadata": {},
   "source": [
    "#### Model Evaluation (Task A)"
   ]
  },
  {
   "cell_type": "code",
   "execution_count": null,
   "id": "b0ed5de4-5da7-4acd-948e-6971ea6c4346",
   "metadata": {},
   "outputs": [],
   "source": [
    "def plot_loss(History):\n",
    "    history = History.history\n",
    "    N = len(history[\"loss\"])\n",
    "    plt.figure(figsize=(15, 6))\n",
    "    plt.subplot(1, 2, 1)\n",
    "    plt.plot(np.arange(0, N), history[\"loss\"], label=\"train_loss\", ls=\"--\")\n",
    "    plt.plot(\n",
    "        np.arange(0, N), history[\"val_loss\"], label=\"val_loss\", ls=\"--\"\n",
    "    )\n",
    "    plt.title(\"Loss\")\n",
    "    plt.xlabel(\"Epoch\")\n",
    "    plt.ylabel(\"Loss\")\n",
    "    plt.legend(loc=\"upper left\")\n",
    "    plt.grid()\n",
    "\n",
    "    plt.subplot(1, 2, 2)\n",
    "    plt.plot(\n",
    "        np.arange(0, N),\n",
    "        history[\"accuracy\"],\n",
    "        label=\"train_laccuracy\",\n",
    "        ls=\"--\",\n",
    "    )\n",
    "    plt.plot(\n",
    "        np.arange(0, N),\n",
    "        history[\"val_accuracy\"],\n",
    "        label=\"val_accuracy\",\n",
    "        ls=\"--\",\n",
    "    )\n",
    "    # plt.yscale('log')\n",
    "    plt.title(\"Accuracy\")\n",
    "    plt.xlabel(\"Epoch\")\n",
    "    plt.ylabel(\"Accuracy\")\n",
    "    plt.legend(loc=\"upper left\")\n",
    "    plt.grid()\n",
    "\n",
    "\n",
    "plot_loss(model_history)"
   ]
  },
  {
   "cell_type": "code",
   "execution_count": null,
   "id": "863ffa97-e00e-444f-8886-3ea00c99fdcf",
   "metadata": {},
   "outputs": [],
   "source": [
    "# Use Custom Activation\n",
    "def custom_activation(y):\n",
    "    return np.where(y > 3.5, 1, 0)"
   ]
  },
  {
   "cell_type": "code",
   "execution_count": null,
   "id": "c4342743-3b28-4a49-935e-3596561da1e6",
   "metadata": {},
   "outputs": [],
   "source": [
    "Y_pred = model.predict(val_features)\n",
    "# Y_pred = model.predict(train_features)\n",
    "Y_pred = custom_activation(np.argmax(Y_pred, axis=1))\n",
    "np.sum(Y_pred, axis=0) / len(Y_pred)\n",
    "Y_actual = custom_activation(m_val_df[\"label\"].to_numpy())\n",
    "sum(Y_pred == Y_actual) / len(Y_actual)"
   ]
  },
  {
   "cell_type": "code",
   "execution_count": null,
   "id": "269d53fb-bcd1-40f0-911d-65e6e5f313bf",
   "metadata": {},
   "outputs": [],
   "source": [
    "# Evaluate our model based on precision, recall, and f1-score\n",
    "from sklearn.metrics import classification_report\n",
    "from sklearn.metrics import confusion_matrix\n",
    "import seaborn as sns\n",
    "\n",
    "# Printing the classification report\n",
    "print(classification_report(Y_actual, Y_pred, digits=4))\n",
    "\n",
    "# Plotting the heatmap using confusion matrix\n",
    "cm = confusion_matrix(Y_actual, Y_pred)\n",
    "plt.figure(figsize=(8, 5))\n",
    "sns.heatmap(\n",
    "    cm,\n",
    "    annot=True,\n",
    "    fmt=\".0f\",\n",
    "    xticklabels=[\"flood\", \"fire\"],\n",
    "    yticklabels=[\"flood\", \"fire\"],\n",
    ")\n",
    "plt.ylabel(\"Actual\")\n",
    "plt.xlabel(\"Predicted\")\n",
    "plt.show()"
   ]
  },
  {
   "cell_type": "markdown",
   "id": "c86e564a-af94-426f-8dbf-696b45bb987c",
   "metadata": {},
   "source": [
    "#### Prediction (Task A)"
   ]
  },
  {
   "cell_type": "code",
   "execution_count": null,
   "id": "a1bf1763-f9f1-4ef4-b56b-cbd4ed18113c",
   "metadata": {},
   "outputs": [],
   "source": [
    "# Train on all data...\n",
    "combined_features = np.concatenate((train_features, val_features), axis=0)\n",
    "combined_targets = pd.concat([m_train_df[\"label\"], m_val_df[\"label\"]])\n",
    "combined_features.shape, combined_targets.shape"
   ]
  },
  {
   "cell_type": "code",
   "execution_count": null,
   "id": "3c367aba-f38f-44f3-a3b6-058aadafaf41",
   "metadata": {},
   "outputs": [],
   "source": [
    "# Calculate class weights for imbalanced labels\n",
    "class_weights = compute_class_weight(\n",
    "    class_weight=\"balanced\",\n",
    "    classes=np.unique(combined_targets),\n",
    "    y=train_classes,\n",
    ")\n",
    "\n",
    "class_weights_dict = {i: weight for i, weight in enumerate(class_weights)}"
   ]
  },
  {
   "cell_type": "code",
   "execution_count": null,
   "id": "35813696-17f5-402f-972f-7bf3b2333946",
   "metadata": {},
   "outputs": [],
   "source": [
    "backend.clear_session()  # clear model\n",
    "model_history = model.fit(\n",
    "    combined_features,\n",
    "    combined_targets.astype(float),\n",
    "    epochs=11,\n",
    "    batch_size=128,\n",
    "    class_weight=class_weights_dict,\n",
    ")"
   ]
  },
  {
   "cell_type": "code",
   "execution_count": null,
   "id": "f33fa0f6-bac0-4265-bbe0-638ff476bc97",
   "metadata": {},
   "outputs": [],
   "source": []
  },
  {
   "cell_type": "code",
   "execution_count": null,
   "id": "918c7bf3-8c01-404d-89e9-ed22b2ffccb7",
   "metadata": {},
   "outputs": [],
   "source": [
    "# Make prediction based on test data\n",
    "Y_pred = model.predict(test_features)\n",
    "\n",
    "prediction = custom_activation(np.argmax(Y_pred, axis=1))\n",
    "Y_pred_out = pd.DataFrame(prediction, columns=[\"pred\"])\n",
    "Y_pred_out.to_csv(\n",
    "    f\"{data_dir}/test_images_flooding-fire_predictions.csv\", index=False\n",
    ")"
   ]
  },
  {
   "cell_type": "code",
   "execution_count": null,
   "id": "cbe357ca-12ff-446d-be29-402ba98616dc",
   "metadata": {},
   "outputs": [],
   "source": [
    "np.sum(Y_pred_out, axis=0)  # 0.9586690927995841, 0.96517"
   ]
  },
  {
   "cell_type": "markdown",
   "id": "6b540433-5049-4e64-a990-545b1e1f105b",
   "metadata": {},
   "source": [
    "#### Predict Using Augmented Data"
   ]
  },
  {
   "cell_type": "code",
   "execution_count": null,
   "id": "55d8387a-3d4d-4cb6-8ff7-6047795ee93b",
   "metadata": {},
   "outputs": [],
   "source": [
    "from imblearn.over_sampling import SMOTE\n",
    "smote = SMOTE()\n",
    "X_smote, Y_smote = smote.fit_resample(combined_features, combined_targets.astype(int))"
   ]
  },
  {
   "cell_type": "code",
   "execution_count": null,
   "id": "720af880-7df4-48b3-b435-74915881386b",
   "metadata": {},
   "outputs": [],
   "source": [
    "Y_smote.shape, combined_targets.shape"
   ]
  },
  {
   "cell_type": "code",
   "execution_count": null,
   "id": "498891f3-a89e-4893-8017-2b167646694e",
   "metadata": {},
   "outputs": [],
   "source": [
    "backend.clear_session()  # clear model\n",
    "model_history = model.fit(\n",
    "    X_smote,\n",
    "    Y_smote,\n",
    "    epochs=20,\n",
    "    batch_size=128,\n",
    ")"
   ]
  },
  {
   "cell_type": "code",
   "execution_count": null,
   "id": "31dab94b-8936-4393-bd8a-39da0632db82",
   "metadata": {},
   "outputs": [],
   "source": [
    "# Make prediction based on test data\n",
    "Y_pred = model.predict(test_features)\n",
    "\n",
    "prediction = custom_activation(np.argmax(Y_pred, axis=1))\n",
    "Y_pred_out = pd.DataFrame(prediction, columns=[\"pred\"])\n",
    "Y_pred_out.to_csv(\n",
    "    f\"{data_dir}/test_images_flooding-fire_predictions.csv\", index=False\n",
    ")"
   ]
  },
  {
   "cell_type": "markdown",
   "id": "47e391f0-7a68-4537-976d-d6c862cf75e5",
   "metadata": {},
   "source": [
    "## Task B"
   ]
  },
  {
   "cell_type": "markdown",
   "id": "e136a8ac-c349-4b06-aebe-d192acd1feb4",
   "metadata": {},
   "source": [
    "### Feature Engineering (Task B)"
   ]
  },
  {
   "cell_type": "code",
   "execution_count": null,
   "id": "27a45458-3ec1-4057-baee-a36569847fa1",
   "metadata": {},
   "outputs": [],
   "source": [
    "# Select Dataset for Disaster Leve Classification\n",
    "train_level_df = train_df[(train_df.type == \"hurricane\")]\n",
    "test_level_df = test_df[(test_df.type == \"hurricane\")]\n",
    "show_balance(train_level_df)"
   ]
  },
  {
   "cell_type": "code",
   "execution_count": null,
   "id": "c9810dbb-ce5d-42d1-bd95-5f0f8018755a",
   "metadata": {},
   "outputs": [],
   "source": [
    "train_level_df.type.unique()"
   ]
  },
  {
   "cell_type": "code",
   "execution_count": null,
   "id": "0186be89-c4ef-4112-8754-832ca477a0e5",
   "metadata": {},
   "outputs": [],
   "source": [
    "train_level_df.columns"
   ]
  },
  {
   "cell_type": "markdown",
   "id": "1a78d939-ac7e-4643-9265-ee5cb3efbca5",
   "metadata": {},
   "source": [
    "### Model CNN (TaskB)"
   ]
  },
  {
   "cell_type": "code",
   "execution_count": null,
   "id": "2df52d01-ec99-4529-b353-f2897fb54f82",
   "metadata": {},
   "outputs": [],
   "source": [
    "backend.clear_session()  # clear model"
   ]
  },
  {
   "cell_type": "code",
   "execution_count": null,
   "id": "3d7e29a0-3ca4-40ba-80a6-a944a5e30812",
   "metadata": {},
   "outputs": [],
   "source": [
    "import numpy as np\n",
    "import pandas as pd\n",
    "import tensorflow as tf\n",
    "from tensorflow.keras.applications.vgg16 import VGG16\n",
    "from tensorflow.keras.models import Sequential\n",
    "from tensorflow.keras.layers import Dense, Flatten, Dropout, Conv2D\n",
    "from sklearn.model_selection import train_test_split\n",
    "from sklearn.utils import compute_class_weight\n",
    "\n",
    "# Set image size\n",
    "SIZE = 120  \n",
    "\n",
    "# Load Our DataFrame\n",
    "df = train_level_df\n",
    "\n",
    "# Note that 'image' column contains RGB images as numpy arrays\n",
    "# and 'label' column contains values (0,1,2,3)\n",
    "\n",
    "# Split data into training and validation sets\n",
    "m_train_df, m_val_df = train_test_split(\n",
    "    df, test_size=0.2, stratify=df[\"label\"], random_state=42\n",
    ")\n",
    "\n",
    "# Load VGG16 model with pre-trained weights (excluding top layers)\n",
    "vgg16 = VGG16(\n",
    "    weights=\"imagenet\", include_top=False, input_shape=(SIZE, SIZE, 3)\n",
    ")\n",
    "\n",
    "# Extract bottleneck features for training data\n",
    "def extract_bottleneck_features(dataframe):\n",
    "    features = []\n",
    "    for img_array in tqdm(dataframe[\"image\"]):\n",
    "        img_array = tf.image.resize(\n",
    "            img_array, (SIZE, SIZE)\n",
    "        )  # Resize to VGG16 input size\n",
    "        img_array = tf.keras.applications.vgg16.preprocess_input(img_array)\n",
    "        bottleneck_feature = vgg16.predict(\n",
    "            np.expand_dims(img_array, axis=0), verbose=0\n",
    "        )\n",
    "        features.append(bottleneck_feature.flatten())\n",
    "    return np.array(features)\n",
    "\n",
    "\n",
    "train_features, val_features = [], []\n",
    "if (\n",
    "    os.path.exists(data_dir)\n",
    "    & os.path.isfile(f\"{data_dir}/task_B_train_features.npy\")\n",
    "    & os.path.isfile(f\"{data_dir}/task_B_test_features.npy\")\n",
    "    & os.path.isfile(f\"{data_dir}/task_B_val_features.npy\")\n",
    "):\n",
    "    train_features = np.load(f\"{data_dir}/task_B_train_features.npy\")\n",
    "    test_features = np.load(f\"{data_dir}/task_B_test_features.npy\")\n",
    "    val_features = np.load(f\"{data_dir}/task_B_val_features.npy\")\n",
    "else:  # FIXME!!\n",
    "    m_test_df = test_level_df\n",
    "    train_features = extract_bottleneck_features(m_train_df)\n",
    "    test_features = extract_bottleneck_features(m_test_df)\n",
    "    val_features = extract_bottleneck_features(m_val_df)\n",
    "    np.save(f\"{data_dir}/task_B_train_features.npy\", train_features)\n",
    "    np.save(f\"{data_dir}/task_B_test_features.npy\", test_features)\n",
    "    np.save(f\"{data_dir}/task_B_val_features.npy\", val_features)\n",
    "\n",
    "# Create a simple fully-connected model\n",
    "model = Sequential()\n",
    "model.add(Flatten(input_shape=train_features.shape[1:]))\n",
    "model.add(Dense(128, activation=\"relu\"))\n",
    "# model.add(Dropout(0.01)),\n",
    "model.add(Dense(64, activation=\"relu\"))\n",
    "# model.add(Dropout(0.0001)),\n",
    "model.add(Dense(4, activation=\"softmax\"))  # 4 classes\n",
    "\n",
    "# Compile the model\n",
    "model.compile(\n",
    "    optimizer=\"adam\",\n",
    "    loss=\"sparse_categorical_crossentropy\",\n",
    "    metrics=[\"accuracy\"],\n",
    ")\n",
    "\n",
    "# Calculate class weights for imbalanced labels\n",
    "train_classes = m_train_df[\"label\"]\n",
    "class_weights = compute_class_weight(\n",
    "    class_weight=\"balanced\",\n",
    "    classes=np.unique(train_classes),\n",
    "    y=train_classes,\n",
    ")\n",
    "class_weights_dict = {i: weight for i, weight in enumerate(class_weights)}\n",
    "\n",
    "# Save the model\n",
    "model_name = \"task_B_vgg16_model_dropout\"\n",
    "model_0, history_0, notes_0 = load_model_data(model_name, path=data_dir)\n",
    "if model_0 != None:\n",
    "    model, model_history, notes = model_0, history_0, notes_0\n",
    "else:\n",
    "    # Train the model\n",
    "    model_history = model.fit(\n",
    "        train_features,\n",
    "        m_train_df[\"label\"].astype(float),\n",
    "        validation_data=(val_features, m_val_df[\"label\"].astype(float)),\n",
    "        epochs=11,\n",
    "        batch_size=128,\n",
    "        class_weight=class_weights_dict,\n",
    "    )\n",
    "\n",
    "    # Save, one and done.\n",
    "    save_model_data(\n",
    "        model_name,\n",
    "        model,\n",
    "        model_history,\n",
    "        \"trained on weighted labels\",\n",
    "        path=data_dir,\n",
    "    )"
   ]
  },
  {
   "cell_type": "markdown",
   "id": "232a8556-4013-4e3e-a4fa-c305bfba141d",
   "metadata": {},
   "source": [
    "#### Model Summary (Task B)"
   ]
  },
  {
   "cell_type": "code",
   "execution_count": null,
   "id": "e9eb7b98-6bb1-4a4e-9e55-7597bd875f99",
   "metadata": {},
   "outputs": [],
   "source": [
    "vgg16.summary()\n",
    "model.summary()"
   ]
  },
  {
   "cell_type": "markdown",
   "id": "dd91eaa6-fc96-4731-a7d9-603b6ba624c2",
   "metadata": {},
   "source": [
    "#### Model Evaluation (Task B)"
   ]
  },
  {
   "cell_type": "code",
   "execution_count": null,
   "id": "29c65319-b264-4608-989e-af31b585ec6c",
   "metadata": {},
   "outputs": [],
   "source": [
    "def custom_activation(y):\n",
    "    return np.argmax(y, axis=1)"
   ]
  },
  {
   "cell_type": "code",
   "execution_count": null,
   "id": "13153d3f-09d3-4da8-9324-415d4e252a02",
   "metadata": {},
   "outputs": [],
   "source": [
    "Y_pred = model.predict(val_features)\n",
    "Y_pred = custom_activation(Y_pred)\n",
    "Y_actual = m_val_df[\"label\"].astype(int).to_numpy()"
   ]
  },
  {
   "cell_type": "code",
   "execution_count": null,
   "id": "0097cc53-16ef-454b-bb00-ecae2958c408",
   "metadata": {},
   "outputs": [],
   "source": [
    "sum(Y_pred == Y_actual) / len(Y_actual)"
   ]
  },
  {
   "cell_type": "code",
   "execution_count": null,
   "id": "d8560a57-7d0a-45bb-a4aa-b29d5af43c73",
   "metadata": {},
   "outputs": [],
   "source": [
    "class_weights_dict"
   ]
  },
  {
   "cell_type": "code",
   "execution_count": null,
   "id": "e8c8d5ae-d7c2-4495-9035-3c29a1a55fe7",
   "metadata": {},
   "outputs": [],
   "source": [
    "plot_loss(model_history)"
   ]
  },
  {
   "cell_type": "code",
   "execution_count": null,
   "id": "c32faa61-5c65-4c15-9437-d84390b8268e",
   "metadata": {},
   "outputs": [],
   "source": [
    "from sklearn.metrics import classification_report\n",
    "import numpy as np\n",
    "\n",
    "# Plotting the heatmap using confusion matrix\n",
    "cm = confusion_matrix(Y_actual, Y_pred)\n",
    "plt.figure(figsize=(8, 5))\n",
    "sns.heatmap(\n",
    "    cm,\n",
    "    annot=True,\n",
    "    fmt=\".0f\",\n",
    "    xticklabels=[\"0\", \"1\", \"2\", \"3\"],\n",
    "    yticklabels=[\"0\", \"1\", \"2\", \"3\"],\n",
    ")\n",
    "plt.ylabel(\"Actual\")\n",
    "plt.xlabel(\"Predicted\")\n",
    "plt.show()\n",
    "print(\n",
    "    classification_report(\n",
    "        Y_actual, Y_pred, target_names=[\"0\", \"1\", \"2\", \"3\"]\n",
    "    )\n",
    ")"
   ]
  },
  {
   "cell_type": "markdown",
   "id": "172727c6-cb3c-4b12-8de5-e490d36c8dcc",
   "metadata": {},
   "source": [
    "#### Prediction (Task B)"
   ]
  },
  {
   "cell_type": "code",
   "execution_count": null,
   "id": "e4a2729a-ea44-4d64-a89c-e4548e5724d8",
   "metadata": {},
   "outputs": [],
   "source": [
    "# Train on all data...\n",
    "combined_features = np.concatenate((train_features, val_features), axis=0)\n",
    "combined_targets = pd.concat([m_train_df[\"label\"], m_val_df[\"label\"]])\n",
    "\n",
    "combined_features.shape, combined_targets.shape"
   ]
  },
  {
   "cell_type": "code",
   "execution_count": null,
   "id": "f2048722-b969-4fe2-9c84-363b5e7c7eff",
   "metadata": {},
   "outputs": [],
   "source": [
    "# Calculate class weights for imbalanced labels\n",
    "class_weights = compute_class_weight(\n",
    "    class_weight=\"balanced\",\n",
    "    classes=np.unique(combined_targets),\n",
    "    y=train_classes,\n",
    ")\n",
    "class_weights_dict = {i: weight for i, weight in enumerate(class_weights)}"
   ]
  },
  {
   "cell_type": "code",
   "execution_count": null,
   "id": "0f6b7426-cf8c-4646-9581-81f211666069",
   "metadata": {},
   "outputs": [],
   "source": [
    "backend.clear_session()  # clear model"
   ]
  },
  {
   "cell_type": "code",
   "execution_count": null,
   "id": "8b936e02-b33e-4f6e-a8e7-ba635c450d23",
   "metadata": {},
   "outputs": [],
   "source": [
    "model_history = model.fit(\n",
    "    combined_features,\n",
    "    combined_targets.astype(float),\n",
    "    epochs=11,\n",
    "    batch_size=128,\n",
    "    class_weight=class_weights_dict,\n",
    ")"
   ]
  },
  {
   "cell_type": "code",
   "execution_count": null,
   "id": "554a1982-aa89-4901-b1eb-8e4d43356fd2",
   "metadata": {},
   "outputs": [],
   "source": [
    "# Make prediction based on test data\n",
    "Y_pred = model.predict(test_features)\n",
    "prediction = custom_activation(Y_pred)  # 0.53241 %\n",
    "Y_pred_out = pd.DataFrame(prediction, columns=[\"pred\"])\n",
    "Y_pred_out.to_csv(\n",
    "    f\"{data_dir}/test_images_hurricane-matthew_predictions.csv\",\n",
    "    index=False,\n",
    ")"
   ]
  },
  {
   "cell_type": "code",
   "execution_count": null,
   "id": "6768a70c-6654-4883-9c0b-98a26fd9ec37",
   "metadata": {},
   "outputs": [],
   "source": [
    "class_weights_dict"
   ]
  },
  {
   "cell_type": "markdown",
   "id": "8236af50-2454-4705-9b02-17cec45d8d28",
   "metadata": {},
   "source": [
    "#### Predict Using Augmented Data"
   ]
  },
  {
   "cell_type": "code",
   "execution_count": null,
   "id": "4b193f2f-0bf4-4fd5-ac75-f7da9271ebce",
   "metadata": {},
   "outputs": [],
   "source": [
    "from imblearn.over_sampling import SMOTE\n",
    "smote = SMOTE()\n",
    "X_smote, Y_smote = smote.fit_resample(combined_features, combined_targets.astype(int))"
   ]
  },
  {
   "cell_type": "code",
   "execution_count": null,
   "id": "b8012604-ec74-4fb7-8617-0d4ee43dcadd",
   "metadata": {},
   "outputs": [],
   "source": [
    "Y_smote.shape, combined_targets.shape"
   ]
  },
  {
   "cell_type": "code",
   "execution_count": null,
   "id": "bc58ed97-d6aa-4445-9829-7cb1407f2947",
   "metadata": {},
   "outputs": [],
   "source": [
    "backend.clear_session()  # clear model\n",
    "model_history = model.fit(\n",
    "    X_smote,\n",
    "    Y_smote,\n",
    "    epochs=11,\n",
    "    batch_size=128,\n",
    ")"
   ]
  },
  {
   "cell_type": "code",
   "execution_count": null,
   "id": "a39e5f57-0a54-4453-8fce-742b91e76856",
   "metadata": {},
   "outputs": [],
   "source": [
    "# Make prediction based on test data\n",
    "Y_pred = model.predict(test_features)\n",
    "prediction = custom_activation(Y_pred)  \n",
    "Y_pred_out = pd.DataFrame(prediction, columns=[\"pred\"])\n",
    "Y_pred_out.to_csv(\n",
    "    f\"{data_dir}/test_images_hurricane-matthew_predictions_smote.csv\",\n",
    "    index=False,\n",
    ")"
   ]
  },
  {
   "cell_type": "code",
   "execution_count": null,
   "id": "6cac20a7-b862-4f0c-8b17-443a97d40c77",
   "metadata": {},
   "outputs": [],
   "source": []
  }
 ],
 "metadata": {
  "kernelspec": {
   "display_name": "Python 3 (ipykernel)",
   "language": "python",
   "name": "python3"
  },
  "language_info": {
   "codemirror_mode": {
    "name": "ipython",
    "version": 3
   },
   "file_extension": ".py",
   "mimetype": "text/x-python",
   "name": "python",
   "nbconvert_exporter": "python",
   "pygments_lexer": "ipython3",
   "version": "3.11.8"
  }
 },
 "nbformat": 4,
 "nbformat_minor": 5
}
