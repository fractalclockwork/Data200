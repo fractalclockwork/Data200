{
 "cells": [
  {
   "cell_type": "markdown",
   "id": "86e0776d-00fe-4a89-a71b-2348bfe42f2f",
   "metadata": {},
   "source": [
    "# Checkpoint 2: Mandatory Check-In\n",
    "\n",
    "- Research Questions (1.5%).\n",
    "- Feature Engineering (2%).\n",
    "- Modeling Approaches (3%).\n",
    "- Preliminary Results (1%).\n"
   ]
  },
  {
   "cell_type": "markdown",
   "id": "ec7a8712-beb4-46cc-9081-b054f7cd97de",
   "metadata": {},
   "source": [
    "## Import data"
   ]
  },
  {
   "cell_type": "code",
   "execution_count": 37,
   "id": "5f809070-6be8-4922-9766-f7d6838f0930",
   "metadata": {},
   "outputs": [],
   "source": [
    "import zipfile\n",
    "import numpy as np\n",
    "import re\n",
    "import io\n",
    "from tqdm import tqdm"
   ]
  },
  {
   "cell_type": "code",
   "execution_count": null,
   "id": "56ea6f00-495c-42e3-94c4-faa9d5174b78",
   "metadata": {},
   "outputs": [],
   "source": [
    "!ls ../Data"
   ]
  },
  {
   "cell_type": "code",
   "execution_count": 40,
   "id": "bf23837a-4488-491a-af93-e31f95d3af11",
   "metadata": {},
   "outputs": [
    {
     "name": "stderr",
     "output_type": "stream",
     "text": [
      "Importing data: 100%|██████████| 3/3 [00:05<00:00,  1.88s/it]\n"
     ]
    },
    {
     "data": {
      "text/plain": [
       "{'socal-fire': {'type': 'train',\n",
       "  'file': 'sp24_grad_project_data/satellite-image-data/socal-fire/train_images.npz',\n",
       "  'data': NpzFile 'object' with keys: image_0, image_1, image_2, image_3, image_4...},\n",
       " 'midwest-flooding': {'type': 'train',\n",
       "  'file': 'sp24_grad_project_data/satellite-image-data/midwest-flooding/train_images.npz',\n",
       "  'data': NpzFile 'object' with keys: image_0, image_1, image_2, image_3, image_4...},\n",
       " 'hurricane-matthew': {'type': 'train',\n",
       "  'file': 'sp24_grad_project_data/satellite-image-data/hurricane-matthew/train_images.npz',\n",
       "  'data': NpzFile 'object' with keys: image_0, image_1, image_2, image_3, image_4...}}"
      ]
     },
     "execution_count": 40,
     "metadata": {},
     "output_type": "execute_result"
    }
   ],
   "source": [
    "def read_files_from_zip(zip_file_path, regex_pattern):\n",
    "    \"\"\"\n",
    "    This function reads files from a zip file that match a given regex pattern.\n",
    "    It assumes the regex pattern contains two groups (train|test) and a nominative group (some_name).\n",
    "    \n",
    "    Parameters:\n",
    "    zip_file_path (str): The path to the zip file.\n",
    "    regex_pattern (str): The regex pattern to match the files.\n",
    "\n",
    "    Returns:\n",
    "    dict: A dictionary with the name as key, and a sub-dictionary of type and file as value.\n",
    "    \"\"\"\n",
    "    data_dict = {}  # Dictionary with name as key, and sub-dict of type and file as value\n",
    "\n",
    "   # Open the zip file\n",
    "    with zipfile.ZipFile(zip_file_path, 'r') as zip_ref:\n",
    "        # List all files\n",
    "        all_files = zip_ref.namelist()\n",
    "\n",
    "        # Filter files based on the regex pattern and create a dictionary\n",
    "        for file in all_files:\n",
    "            match = re.search(regex_pattern, file)\n",
    "            if match:\n",
    "                filtered = list(match.groups())\n",
    "                data_type = [s for s in filtered if re.search(r'(test|train)', s)][0]\n",
    "                filtered.remove(data_type)\n",
    "                data_name = filtered[0]\n",
    "                data_dict[data_name] = {'type':data_type, 'file':file}\n",
    "\n",
    "        # Read in the data for each file\n",
    "        for name in tqdm(data_dict.keys(), desc=\"Importing data\"):         \n",
    "            with zip_ref.open(data_dict[name]['file']) as f:\n",
    "                bytes_io = io.BytesIO(f.read())\n",
    "                data_dict[name]['data'] = np.load(bytes_io)\n",
    "\n",
    "    return data_dict\n",
    "\n",
    "# Test\n",
    "#read_files_from_zip(data_file, r'(test)_images_([\\w-]*)\\.npz')\n",
    "\n",
    "#Train\n",
    "read_files_from_zip(data_file, r'satellite-image-data/([\\w-]*)/(train)_images\\.npz')\n",
    "#read_files_from_zip(data_file, r'satellite-image-data/([\\w-]*)/(train)_labels\\.npy')"
   ]
  },
  {
   "cell_type": "code",
   "execution_count": null,
   "id": "43691bf0-4ccc-4f8f-9b8d-d82c13725492",
   "metadata": {},
   "outputs": [],
   "source": []
  }
 ],
 "metadata": {
  "kernelspec": {
   "display_name": "Python 3 (ipykernel)",
   "language": "python",
   "name": "python3"
  },
  "language_info": {
   "codemirror_mode": {
    "name": "ipython",
    "version": 3
   },
   "file_extension": ".py",
   "mimetype": "text/x-python",
   "name": "python",
   "nbconvert_exporter": "python",
   "pygments_lexer": "ipython3",
   "version": "3.12.2"
  }
 },
 "nbformat": 4,
 "nbformat_minor": 5
}
