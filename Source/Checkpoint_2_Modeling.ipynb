{
 "cells": [
  {
   "cell_type": "markdown",
   "id": "86e0776d-00fe-4a89-a71b-2348bfe42f2f",
   "metadata": {
    "editable": true,
    "slideshow": {
     "slide_type": ""
    },
    "tags": []
   },
   "source": [
    "# Checkpoint 2: Mandatory Check-In\n",
    "\n",
    "- Research Questions (1.5%).\n",
    "- Feature Engineering (2%).\n",
    "- Modeling Approaches (3%).\n",
    "- Preliminary Results (1%).\n"
   ]
  },
  {
   "cell_type": "markdown",
   "id": "d1ef5ee1-56cd-485d-a3a0-8f768c11a934",
   "metadata": {},
   "source": [
    "## Import Libraries"
   ]
  },
  {
   "cell_type": "code",
   "execution_count": 1,
   "id": "5f809070-6be8-4922-9766-f7d6838f0930",
   "metadata": {},
   "outputs": [
    {
     "name": "stderr",
     "output_type": "stream",
     "text": [
      "2024-04-03 08:08:38.532035: I tensorflow/core/platform/cpu_feature_guard.cc:182] This TensorFlow binary is optimized to use available CPU instructions in performance-critical operations.\n",
      "To enable the following instructions: SSE4.1 SSE4.2 AVX, in other operations, rebuild TensorFlow with the appropriate compiler flags.\n"
     ]
    }
   ],
   "source": [
    "import re\n",
    "import io\n",
    "import os\n",
    "import pickle\n",
    "import zipfile\n",
    "import numpy as np\n",
    "from tqdm import tqdm\n",
    "import pandas as pd\n",
    "import matplotlib.pyplot as plt\n",
    "\n",
    "from data_utils import read_files_from_zip, data2pd, show_balance, load_model_data, save_model_data\n",
    "from feature_utils import crop_and_fill\n",
    "from eda_utils import show_image\n",
    "\n",
    "\n",
    "#%load_ext memory_profiler\n",
    "#from importlib import reload\n",
    "#reload(data_utils)"
   ]
  },
  {
   "cell_type": "markdown",
   "id": "ec7a8712-beb4-46cc-9081-b054f7cd97de",
   "metadata": {},
   "source": [
    "## Import data"
   ]
  },
  {
   "cell_type": "code",
   "execution_count": 2,
   "id": "bf23837a-4488-491a-af93-e31f95d3af11",
   "metadata": {},
   "outputs": [
    {
     "name": "stderr",
     "output_type": "stream",
     "text": [
      "Importing data from zip: 100%|██████████| 2/2 [00:03<00:00,  1.51s/it]\n"
     ]
    },
    {
     "name": "stdout",
     "output_type": "stream",
     "text": [
      "Found the following datasets:  ['hurricane-matthew', 'flooding-fire']\n"
     ]
    },
    {
     "name": "stderr",
     "output_type": "stream",
     "text": [
      "Importing data from zip: 100%|██████████| 3/3 [00:14<00:00,  4.89s/it]\n"
     ]
    },
    {
     "name": "stdout",
     "output_type": "stream",
     "text": [
      "Found the following datasets:  ['socal-fire', 'midwest-flooding', 'hurricane-matthew']\n"
     ]
    },
    {
     "name": "stderr",
     "output_type": "stream",
     "text": [
      "Importing data from zip: 100%|██████████| 3/3 [00:00<00:00, 1516.74it/s]"
     ]
    },
    {
     "name": "stdout",
     "output_type": "stream",
     "text": [
      "Found the following datasets:  ['socal-fire', 'midwest-flooding', 'hurricane-matthew']\n",
      "CPU times: user 15.6 s, sys: 1.37 s, total: 17 s\n",
      "Wall time: 17.8 s\n"
     ]
    },
    {
     "name": "stderr",
     "output_type": "stream",
     "text": [
      "\n"
     ]
    }
   ],
   "source": [
    "%%time\n",
    "\n",
    "# Set Date Source\n",
    "data_file = '../Data/sp24_grad_project_data.zip'\n",
    "\n",
    "# Load Test Images\n",
    "test_data_images = read_files_from_zip(data_file, r'(test)_images_([\\w-]*)\\.npz')\n",
    "\n",
    "# Load Train Images and Labels\n",
    "train_data_images = read_files_from_zip(data_file, r'satellite-image-data/([\\w-]*)/(train)_images\\.npz')\n",
    "train_data_labels = read_files_from_zip(data_file, r'satellite-image-data/([\\w-]*)/(train)_labels\\.npy')\n",
    "\n",
    "# Convert to Dataframe\n",
    "train_df = data2pd(train_data_images, train_data_labels)\n",
    "test_df = data2pd(test_data_images)\n",
    "\n",
    "# Clean up\n",
    "del(test_data_images)\n",
    "del(train_data_images)\n",
    "del(train_data_labels)"
   ]
  },
  {
   "cell_type": "code",
   "execution_count": 3,
   "id": "30322dcf-29e5-4eaa-a583-0ebbc605331b",
   "metadata": {
    "editable": true,
    "slideshow": {
     "slide_type": ""
    },
    "tags": []
   },
   "outputs": [
    {
     "name": "stdout",
     "output_type": "stream",
     "text": [
      "Train label balance:\n"
     ]
    },
    {
     "data": {
      "text/plain": [
       "type       label\n",
       "fire       0        7204\n",
       "           3        1064\n",
       "           1          69\n",
       "           2          43\n",
       "flood      0        6734\n",
       "           1         114\n",
       "           2          97\n",
       "           3          59\n",
       "hurricane  1        5236\n",
       "           0        2631\n",
       "           3        1740\n",
       "           2        1544\n",
       "Name: count, dtype: int64"
      ]
     },
     "metadata": {},
     "output_type": "display_data"
    }
   ],
   "source": [
    "print('Train label balance:')\n",
    "show_balance(train_df)"
   ]
  },
  {
   "cell_type": "markdown",
   "id": "401f294d-1884-4f3f-9668-9d01001b2394",
   "metadata": {},
   "source": [
    "## Data Cleansing Plan\n",
    "\n",
    "There are many potential enhancements, this seems a reasonable starting point.\n",
    "\n",
    " - Scale images to 180x180 (ResNet50 default)\n",
    " - Normalize pixel values from 0-255 to be float from 0-1\n",
    " - For Type Classifier, encode level+type to float between -1 and 1\n",
    " - For Level Classifier, ohe level to catagories 0-4\n",
    " - When undersampling, sample without replacement within innerquartile \n",
    " - When oversampling, include entire set then sample with replacement and augmentation \n"
   ]
  },
  {
   "cell_type": "markdown",
   "id": "16e9cd50-1e04-4762-9a55-872b5285928c",
   "metadata": {},
   "source": [
    "### Model Task A\n",
    "\n",
    "Data split and augmentation plan (Disaster Type Classification)\n",
    "\n",
    "We'll use a mix of oversampling and undersampling...\n",
    "\n",
    " - oversample the minority class using replacement\n",
    " - undersample by randomly delete rows from the majority class to match\n",
    " - think about how to use Neighborhood Cleaning Under Sampling...\n",
    "   \n",
    " - Validation:\n",
    "     - Sample without replacement 8 samples of each disaster type/level\n",
    " - Training:\n",
    "     - fire:3 has the most (1064-8) representation,\n",
    "     - flood:1 the next largest (114-8) representation and\n",
    "     - fire:2 has the least (43-8)."
   ]
  },
  {
   "cell_type": "code",
   "execution_count": 4,
   "id": "73d5e06d-bd20-44eb-8626-c8374d6a015a",
   "metadata": {
    "editable": true,
    "slideshow": {
     "slide_type": ""
    },
    "tags": []
   },
   "outputs": [
    {
     "name": "stdout",
     "output_type": "stream",
     "text": [
      "Index(['index', 'type', 'image', 'label', 'size'], dtype='object')\n"
     ]
    },
    {
     "data": {
      "text/html": [
       "<div>\n",
       "<style scoped>\n",
       "    .dataframe tbody tr th:only-of-type {\n",
       "        vertical-align: middle;\n",
       "    }\n",
       "\n",
       "    .dataframe tbody tr th {\n",
       "        vertical-align: top;\n",
       "    }\n",
       "\n",
       "    .dataframe thead th {\n",
       "        text-align: right;\n",
       "    }\n",
       "</style>\n",
       "<table border=\"1\" class=\"dataframe\">\n",
       "  <thead>\n",
       "    <tr style=\"text-align: right;\">\n",
       "      <th></th>\n",
       "      <th>count</th>\n",
       "      <th>mean</th>\n",
       "      <th>std</th>\n",
       "      <th>min</th>\n",
       "      <th>25%</th>\n",
       "      <th>50%</th>\n",
       "      <th>75%</th>\n",
       "      <th>max</th>\n",
       "    </tr>\n",
       "  </thead>\n",
       "  <tbody>\n",
       "    <tr>\n",
       "      <th>size</th>\n",
       "      <td>26535.0</td>\n",
       "      <td>8169.871867</td>\n",
       "      <td>12364.717747</td>\n",
       "      <td>84.0</td>\n",
       "      <td>1936.0</td>\n",
       "      <td>4340.0</td>\n",
       "      <td>10240.0</td>\n",
       "      <td>410464.0</td>\n",
       "    </tr>\n",
       "  </tbody>\n",
       "</table>\n",
       "</div>"
      ],
      "text/plain": [
       "        count         mean           std   min     25%     50%      75%  \\\n",
       "size  26535.0  8169.871867  12364.717747  84.0  1936.0  4340.0  10240.0   \n",
       "\n",
       "           max  \n",
       "size  410464.0  "
      ]
     },
     "execution_count": 4,
     "metadata": {},
     "output_type": "execute_result"
    }
   ],
   "source": [
    "# Feature Engineering\n",
    "\n",
    "# Add a size column\n",
    "def get_size(img):\n",
    "    dim = img.shape\n",
    "    return dim[0] * dim[1]\n",
    "train_df['size'] = train_df['image'].apply(get_size)\n",
    "\n",
    "# Show size feature and range\n",
    "print(train_df.columns)\n",
    "train_df[['size']].describe().T"
   ]
  },
  {
   "cell_type": "code",
   "execution_count": 5,
   "id": "7f0396ab-ee8e-47ca-8db5-d8ddf5425a6c",
   "metadata": {
    "editable": true,
    "slideshow": {
     "slide_type": ""
    },
    "tags": []
   },
   "outputs": [
    {
     "data": {
      "text/plain": [
       "type   label\n",
       "fire   0        7204\n",
       "       3        1064\n",
       "       1          69\n",
       "       2          43\n",
       "flood  0        6734\n",
       "       1         114\n",
       "       2          97\n",
       "       3          59\n",
       "Name: count, dtype: int64"
      ]
     },
     "metadata": {},
     "output_type": "display_data"
    },
    {
     "data": {
      "text/plain": [
       "(15384, 5)"
      ]
     },
     "execution_count": 5,
     "metadata": {},
     "output_type": "execute_result"
    }
   ],
   "source": [
    "# Create dataset for Disaster Type Classification\n",
    "classify_type_df = train_df[(train_df.type == 'fire') | (train_df.type == 'flood')]\n",
    "show_balance(classify_type_df)\n",
    "classify_type_df.shape"
   ]
  },
  {
   "cell_type": "code",
   "execution_count": 6,
   "id": "a23f76e2-3967-47f9-abc7-b22c620ca73a",
   "metadata": {
    "editable": true,
    "slideshow": {
     "slide_type": ""
    },
    "tags": []
   },
   "outputs": [
    {
     "name": "stdout",
     "output_type": "stream",
     "text": [
      "Before:  (15384, 5)\n"
     ]
    },
    {
     "data": {
      "text/plain": [
       "type   label\n",
       "fire   1        8\n",
       "       2        8\n",
       "       3        8\n",
       "       0        4\n",
       "flood  1        8\n",
       "       2        8\n",
       "       3        8\n",
       "       0        4\n",
       "Name: count, dtype: int64"
      ]
     },
     "metadata": {},
     "output_type": "display_data"
    },
    {
     "name": "stdout",
     "output_type": "stream",
     "text": [
      "Before:  (15328, 5)\n"
     ]
    },
    {
     "data": {
      "text/plain": [
       "type   label\n",
       "fire   1        8\n",
       "       2        8\n",
       "       3        8\n",
       "       0        4\n",
       "flood  1        8\n",
       "       2        8\n",
       "       3        8\n",
       "       0        4\n",
       "Name: count, dtype: int64"
      ]
     },
     "metadata": {},
     "output_type": "display_data"
    }
   ],
   "source": [
    "# Create validation set for modelling.\n",
    "\n",
    "# We would like for our test set to representive of our population so...\n",
    "# we'll limit it sizes in the innerquartile.\n",
    "#\n",
    "# Also, since we don't have must data we want to lose as litte as possible...\n",
    "# so, we do our validataion k-folds manually.\n",
    "#\n",
    "# We're also selecting only samples that have sizes within the \n",
    "# innerquartile to choose the 'most' representative.\n",
    "\n",
    "def get_validation_set(classify_type_df):\n",
    "    sample_size = 8\n",
    "    \n",
    "    classify_type_valid_df = pd.DataFrame()\n",
    "    print('Before: ',classify_type_df.shape)\n",
    "    for T in classify_type_df.type.unique(): # T for type\n",
    "        for L in classify_type_df.label.unique(): # L for label\n",
    "            if (L==0):\n",
    "                this_sample_size = sample_size//2\n",
    "            else:\n",
    "                this_sample_size = sample_size\n",
    "            sample_df =  classify_type_df[\n",
    "                    (classify_type_df['type'] == T) & (classify_type_df['label'] == L)\n",
    "                    & ((classify_type_df['size'] <= 10240) & (classify_type_df['size'] >= 1936)) \n",
    "                ].sample(this_sample_size)\n",
    "            classify_type_valid_df = pd.concat([sample_df, classify_type_valid_df])\n",
    "    classify_type_df = classify_type_df.drop(index=classify_type_valid_df.index)\n",
    "    return classify_type_valid_df, classify_type_df\n",
    "\n",
    "# We know emperically that there are only two unique validation splits\n",
    "# that statisfy our requirements.\n",
    "\n",
    "classify_type_valid_df = []\n",
    "residue_df = classify_type_df\n",
    "for i in range(2): \n",
    "    tmp_df, residue_df = get_validation_set(residue_df)\n",
    "    classify_type_valid_df.append(tmp_df)\n",
    "    show_balance(classify_type_valid_df[i])"
   ]
  },
  {
   "cell_type": "code",
   "execution_count": 7,
   "id": "76956fb0-856a-40ec-9ab9-9a7453bf1762",
   "metadata": {
    "editable": true,
    "slideshow": {
     "slide_type": ""
    },
    "tags": []
   },
   "outputs": [
    {
     "data": {
      "text/plain": [
       "type   label\n",
       "fire   1        150\n",
       "       2        150\n",
       "       3        150\n",
       "       0         75\n",
       "flood  1        150\n",
       "       2        150\n",
       "       3        150\n",
       "       0         75\n",
       "Name: count, dtype: int64"
      ]
     },
     "metadata": {},
     "output_type": "display_data"
    },
    {
     "data": {
      "text/plain": [
       "type   label\n",
       "fire   1        150\n",
       "       2        150\n",
       "       3        150\n",
       "       0         75\n",
       "flood  1        150\n",
       "       2        150\n",
       "       3        150\n",
       "       0         75\n",
       "Name: count, dtype: int64"
      ]
     },
     "metadata": {},
     "output_type": "display_data"
    }
   ],
   "source": [
    "from feature_utils import augment_image\n",
    "\n",
    "# Now augment data until balanced.\n",
    "# We'll use a mix of oversampling and undersampling...\n",
    "# - oversample the minority class using replacement\n",
    "# - undersample by randomly delete rows from the majority class to match\n",
    "\n",
    "def get_train_set(classify_type_df, classify_type_valid_df): \n",
    "    classify_type_train_df = pd.DataFrame()\n",
    "\n",
    "    # Drop the validation set before sampling\n",
    "    classify_type_df = classify_type_df.drop(index=classify_type_valid_df.index)\n",
    "    \n",
    "    # Set a reasonable argumentation limit\n",
    "    sample_size = 150 #int(114 * 1.32)\n",
    "    \n",
    "    # We apply flip, rotate augmentation to the\n",
    "    # sample with replacement samples.\n",
    "    # We might duplicate an augmentation if the\n",
    "    # same record is sampled and the augmentation\n",
    "    # is applied.\n",
    "    # Anyway... Cool thing is that we can get as many unique\n",
    "    # balanced training sets as we desire.\n",
    "    \n",
    "    for T in classify_type_df.type.unique():\n",
    "        for L in classify_type_df.label.unique():\n",
    "            if L==0:\n",
    "                this_sample_size = sample_size//2\n",
    "            else:\n",
    "                this_sample_size = sample_size\n",
    "            record_size = classify_type_df[(classify_type_df['type'] == T) & (classify_type_df['label'] == L)].shape[0]\n",
    "            if (record_size > this_sample_size):\n",
    "                sample_df = classify_type_df[(classify_type_df['type'] == T) & (classify_type_df['label'] == L)].sample(this_sample_size)\n",
    "            else:\n",
    "                sample_df = classify_type_df[(classify_type_df['type'] == T) & (classify_type_df['label'] == L)]\n",
    "                classify_type_train_df = pd.concat([sample_df, classify_type_train_df])\n",
    "                sample_df = classify_type_df[(classify_type_df['type'] == T) & (classify_type_df['label'] == L)].sample(this_sample_size-record_size, replace=True)\n",
    "                sample_df['image'] = sample_df['image'].apply(augment_image)\n",
    "            classify_type_train_df = pd.concat([sample_df, classify_type_train_df])\n",
    "    return classify_type_train_df\n",
    "\n",
    "# We are trying to squeeze out as much unique data as possible...\n",
    "# because there isn't much to work with.\n",
    "classify_type_train_df = []\n",
    "for i in range(2):\n",
    "    tmp_df = get_train_set(classify_type_df, classify_type_valid_df[i])\n",
    "    classify_type_train_df.append(tmp_df)\n",
    "    show_balance(classify_type_train_df[i])"
   ]
  },
  {
   "cell_type": "markdown",
   "id": "0052d829-0e89-499e-8294-fe7df8570250",
   "metadata": {},
   "source": [
    "\n",
    "### Model Task B\n",
    "\n",
    "Data split and augmentation plan (Disaster Level Classification)\n",
    "\n",
    "We'll use a mix of oversampling and undersampling...\n",
    " - oversample the minority class using replacement\n",
    " - undersample by randomly delete rows from the majority class to match\n",
    "\n",
    " - Validation:\n",
    "    - Sample without replacement N samples of each disaster level\n",
    " - Training:\n",
    "    - Select a sample size such that is a balance between drop/augment"
   ]
  },
  {
   "cell_type": "code",
   "execution_count": null,
   "id": "ed31d9a3-d81d-4683-bda7-06d84925d5d3",
   "metadata": {},
   "outputs": [],
   "source": [
    "# Create dataset for Disaster Type Classification\n",
    "\n",
    "# This dataset is a bit more balanced.\n",
    "classify_level_df = train_df[(train_df.type == 'hurricane')]\n",
    "show_balance(classify_level_df)"
   ]
  },
  {
   "cell_type": "code",
   "execution_count": 9,
   "id": "1ed65cf4-d32a-4928-85ef-637fc64c2d34",
   "metadata": {
    "editable": true,
    "slideshow": {
     "slide_type": ""
    },
    "tags": []
   },
   "outputs": [
    {
     "name": "stdout",
     "output_type": "stream",
     "text": [
      "300\n"
     ]
    }
   ],
   "source": [
    "# Find a good validation split size\n",
    "# We'll pick a whole number for our puny human brains.\n",
    "validation_sample_size = int(classify_level_df.groupby('type')['label'].value_counts().min() * .1945)\n",
    "print(validation_sample_size)"
   ]
  },
  {
   "cell_type": "code",
   "execution_count": 10,
   "id": "56d65fd1-98a7-47b2-9c6c-d82bf0974d55",
   "metadata": {},
   "outputs": [
    {
     "name": "stdout",
     "output_type": "stream",
     "text": [
      "2000\n"
     ]
    }
   ],
   "source": [
    "# Find a good augmentation size\n",
    "# We'll pick a whole number for our puny human brains.\n",
    "augmentation_size = int(classify_level_df.groupby('type')['label'].value_counts().min() * 1.2955)\n",
    "print(augmentation_size)"
   ]
  },
  {
   "cell_type": "code",
   "execution_count": 11,
   "id": "ca54a167-ee42-48b4-a7ee-b958c2f350d1",
   "metadata": {
    "editable": true,
    "slideshow": {
     "slide_type": ""
    },
    "tags": []
   },
   "outputs": [
    {
     "name": "stdout",
     "output_type": "stream",
     "text": [
      "Before:  (11151, 5)\n",
      "After:  (9951, 5)\n"
     ]
    }
   ],
   "source": [
    "# Create validation set for modelling.\n",
    "\n",
    "# We would like for our test set to representive\n",
    "# of our population so we'll limit it\n",
    "# sizes in the innerquartile.\n",
    "classify_level_valid_df = pd.DataFrame()\n",
    "print('Before: ',classify_level_df.shape)\n",
    "for T in classify_level_df.type.unique():\n",
    "    for L in classify_level_df.label.unique():\n",
    "        #print(f'{T}:{L}')\n",
    "        sample_df =  classify_level_df[(classify_level_df['type'] == T) & (classify_level_df['label'] == L)\n",
    "        & ((classify_level_df['size'] <= 10240) & (classify_level_df['size'] >= 1936)) \n",
    "        ].sample(validation_sample_size)\n",
    "        #display(sample_df.shape)\n",
    "        #print(type(sample_df))\n",
    "        classify_level_valid_df = pd.concat([sample_df, classify_level_valid_df])\n",
    "# drop our test sample from the parent df\n",
    "classify_level_df = classify_level_df.drop(index=classify_level_valid_df.index)       \n",
    "\n",
    "print('After: ',classify_level_df.shape)\n",
    "\n",
    "assert(9951 == classify_level_df.shape[0]), 'Invalid parent data size, something looks fishy.'"
   ]
  },
  {
   "cell_type": "code",
   "execution_count": 12,
   "id": "74ffb1ce-547f-46f3-88d6-aafd3410c4b3",
   "metadata": {
    "editable": true,
    "slideshow": {
     "slide_type": ""
    },
    "tags": []
   },
   "outputs": [
    {
     "data": {
      "text/plain": [
       "type       label\n",
       "hurricane  0        2000\n",
       "           1        2000\n",
       "           2        2000\n",
       "           3        2000\n",
       "Name: count, dtype: int64"
      ]
     },
     "metadata": {},
     "output_type": "display_data"
    }
   ],
   "source": [
    "from feature_utils import augment_image\n",
    "\n",
    "# Now augment data until balanced.\n",
    "# We'll use a mix of oversampling and undersampling...\n",
    "# - oversample the minority class using replacement\n",
    "# - undersample by randomly delete rows from the majority class to match\n",
    "\n",
    "classify_level_train_df = pd.DataFrame()\n",
    "\n",
    "# Set a reasonable argumentation limit\n",
    "sample_size = augmentation_size\n",
    "\n",
    "# We apply flip, rotate augmentation to the\n",
    "# sample with replacement samples.\n",
    "# We might duplicate an augmentation if the\n",
    "# same record is sampled and the augmentation\n",
    "# is applied.\n",
    "# Anyway... Cool thing is that we can get as many unique\n",
    "# balanced training sets as we desire.\n",
    "\n",
    "for T in classify_level_df.type.unique():\n",
    "    for L in classify_level_df.label.unique():\n",
    "        record_size = classify_level_df[\n",
    "        (classify_level_df['type'] == T) & (classify_level_df['label'] == L)].shape[0]\n",
    "        if (record_size > sample_size):\n",
    "            sample_df = classify_level_df[\n",
    "            (classify_level_df['type'] == T) & (classify_level_df['label'] == L)].sample(sample_size)\n",
    "        else:\n",
    "            sample_df = classify_level_df[\n",
    "            (classify_level_df['type'] == T) & (classify_level_df['label'] == L)]\n",
    "            classify_level_train_df = pd.concat([sample_df, classify_level_train_df])\n",
    "            sample_df = classify_level_df[\n",
    "            (classify_level_df['type'] == T) & (classify_level_df['label'] == L)].sample(\n",
    "                sample_size-record_size, replace=True)\n",
    "            sample_df['image'] = sample_df['image'].apply(augment_image)\n",
    "        classify_level_train_df = pd.concat([sample_df, classify_level_train_df])\n",
    "count_s = classify_level_train_df.groupby('type')['label'].value_counts()\n",
    "display(count_s)"
   ]
  },
  {
   "cell_type": "code",
   "execution_count": 13,
   "id": "ea2246c7-5725-465b-9044-e952ff4a5a44",
   "metadata": {},
   "outputs": [
    {
     "data": {
      "text/plain": [
       "type       label\n",
       "hurricane  0        300\n",
       "           1        300\n",
       "           2        300\n",
       "           3        300\n",
       "Name: count, dtype: int64"
      ]
     },
     "metadata": {},
     "output_type": "display_data"
    },
    {
     "data": {
      "text/plain": [
       "type       label\n",
       "hurricane  0        2000\n",
       "           1        2000\n",
       "           2        2000\n",
       "           3        2000\n",
       "Name: count, dtype: int64"
      ]
     },
     "metadata": {},
     "output_type": "display_data"
    }
   ],
   "source": [
    "# Now let's recap our datasets for task B\n",
    "show_balance(classify_level_valid_df)\n",
    "show_balance(classify_level_train_df)"
   ]
  },
  {
   "cell_type": "code",
   "execution_count": 14,
   "id": "455d6753-8d58-400b-9fb3-c9ec3830b0df",
   "metadata": {},
   "outputs": [
    {
     "data": {
      "text/plain": [
       "0.15"
      ]
     },
     "execution_count": 14,
     "metadata": {},
     "output_type": "execute_result"
    }
   ],
   "source": [
    "300/2000"
   ]
  },
  {
   "cell_type": "markdown",
   "id": "647b7540-40ef-414e-98a6-20634619fb54",
   "metadata": {},
   "source": [
    "---"
   ]
  },
  {
   "cell_type": "markdown",
   "id": "4436e110-a00e-4a2f-97e7-ad0c38146c0d",
   "metadata": {},
   "source": []
  },
  {
   "cell_type": "markdown",
   "id": "9be15434-8525-40d0-8e1b-c82390509cee",
   "metadata": {},
   "source": [
    "## Feature Engineering\n",
    "\n",
    "Recall our Tasks:\n",
    "\n",
    "**Disaster Type Classification**\n",
    " -  The goal is to build a classifier that can automatically categorize images based on the type of disaster scenario, such as flooding or fire.\n",
    "   \n",
    "**Damage Level Classification**\n",
    " - The objective is to create a classifier that can automatically determine the level of building damage following a disaster, specifically for hurricanes.\n",
    "\n",
    "For now we've only added size and used it for undersampling.\n",
    "These are images so we'll let Gauss do his thing...\n",
    "...try not to second guess Gauss.\n"
   ]
  },
  {
   "cell_type": "markdown",
   "id": "d8f5976e-79d4-4c52-b7d1-634f3a4a357d",
   "metadata": {},
   "source": [
    "## Modeling\n",
    "\n",
    "Let's cookup a the simplest model we can think of...\n",
    "For us this a autoencoder where we encoding our convolved image into a latent space then decode to our classes.\n",
    "\n",
    "**Task A**\n",
    " - Reshape (180x180, normalize for positive definteness)\n",
    " - Conv2d (180x180)\n",
    " - MaxPooling2D (60x60, Dense, ReLu)\n",
    " - Dropout\n",
    " - Flatten\n",
    " - Dense (10 classes) flood or fire and levels 0-3\n",
    "\n",
    "**Task B**\n",
    " - Reshape ((180x180, normalize for positive definteness)\n",
    " - Conv2d (180x180)\n",
    " - MaxPooling2D (60x60, Dense, ReLu)\n",
    " - Dropout\n",
    " - Flatten\n",
    " - Dense (4 classes) levels 0-3\n",
    "\n",
    "Consider augment the data with 0-45 degree rotataton and 100to120% scaling."
   ]
  },
  {
   "cell_type": "markdown",
   "id": "6e1f5e18-0619-447d-8c88-bc1845fa4383",
   "metadata": {},
   "source": [
    "### Model Task A"
   ]
  },
  {
   "cell_type": "code",
   "execution_count": 15,
   "id": "ccb6a1c8-d4f5-4dc7-ae5b-a264ad8a2993",
   "metadata": {},
   "outputs": [
    {
     "name": "stdout",
     "output_type": "stream",
     "text": [
      "56 1050\n",
      "56 1050\n",
      "1200 8000\n"
     ]
    }
   ],
   "source": [
    "# Recall our datasets\n",
    "\n",
    "for i in range(2):\n",
    "    print(len(classify_type_valid_df[i]), len(classify_type_train_df[i]))\n",
    "    \n",
    "print(len(classify_level_valid_df), len(classify_level_train_df))"
   ]
  },
  {
   "cell_type": "code",
   "execution_count": 16,
   "id": "9aaca417-de6c-4bd5-b4e6-8e0c209a25d8",
   "metadata": {},
   "outputs": [],
   "source": [
    "from tensorflow.keras import backend\n",
    "from tensorflow.keras.models import Sequential, load_model\n",
    "from tensorflow.keras.layers import Input, Conv2D, MaxPooling2D, Dense, Flatten, Dropout  \n",
    "from tensorflow.keras.callbacks import EarlyStopping, ModelCheckpoint\n",
    "from random import shuffle\n",
    "from sklearn.metrics import classification_report\n",
    "from sklearn.metrics import confusion_matrix\n",
    "from tensorflow.keras.utils import to_categorical"
   ]
  },
  {
   "cell_type": "markdown",
   "id": "89a5490f-66ed-4bff-a7f1-7978814004be",
   "metadata": {},
   "source": [
    "Encode Labels and Resize Images for modeling.\n",
    "\n",
    "Note: In general changing aspect ratios show little effect on the ablity of CNNs to learn.  We note changing the aspect ratio increases the number of epochs to train to some loss threshold.  This implies that for simpiler models might benifit from preserving the aspect ratio.\n",
    "\n",
    "Things to consider:\n",
    " - A model might memorize the low-dimension aspect-ratio rather than high-dimensional image-features.\n",
    " - Consider the balance of compute, memory and time it takes for model to converge.\n",
    " - Train with cropped large images and zero-background centered small images.\n",
    " - Make a more extractable model, for example use 2d convolution for each color then apply SVG. Plot labels using PCA dimensions."
   ]
  },
  {
   "cell_type": "code",
   "execution_count": 17,
   "id": "2159fd65-9025-4e85-861f-8094f7e74805",
   "metadata": {},
   "outputs": [],
   "source": [
    "# Encode Labels and Resize Images for modeling.\n",
    "import cv2\n",
    "\n",
    "def encode_type(type_df):\n",
    "    # -1:flood, +1:fire\n",
    "    type_df['type_code'] = type_df[['type','label']].apply(lambda df: df['label'] if df['type']=='fire' else -df['label'], axis=1)\n",
    "    type_df['type_code'] = type_df['type_code']/type_df['type_code'].abs().max()\n",
    "    X = type_df['image'].to_list()\n",
    "    X = np.array([cv2.resize(img, (180, 180)) for img in X])\n",
    "    Y = type_df['type_code']\n",
    "    return X,Y\n",
    "\n",
    "X_valid, Y_valid = [], []\n",
    "X_train, Y_train = [], []\n",
    "\n",
    "for i in range(2):\n",
    "    X_valid_tmp, Y_valid_tmp = encode_type(classify_type_valid_df[0])\n",
    "    X_train_tmp, Y_train_tmp = encode_type(classify_type_train_df[0])\n",
    "    X_valid.append(X_valid_tmp)\n",
    "    Y_valid.append(Y_valid_tmp)\n",
    "    X_train.append(X_train_tmp)\n",
    "    Y_train.append(Y_train_tmp)"
   ]
  },
  {
   "cell_type": "code",
   "execution_count": 18,
   "id": "3b33efe5-a331-45d6-beb1-dbccf46de733",
   "metadata": {},
   "outputs": [
    {
     "data": {
      "text/plain": [
       "(1050, (1050,), 1050, (1050,))"
      ]
     },
     "execution_count": 18,
     "metadata": {},
     "output_type": "execute_result"
    }
   ],
   "source": [
    "len(X_train[0]), Y_train[0].shape, len(X_train[1]), Y_train[1].shape"
   ]
  },
  {
   "cell_type": "code",
   "execution_count": 19,
   "id": "e61f48a3-b727-4df2-8c7d-fcd1a4d94b86",
   "metadata": {},
   "outputs": [],
   "source": [
    "backend.clear_session()  # clear model "
   ]
  },
  {
   "cell_type": "code",
   "execution_count": 20,
   "id": "22a410ed-0ff0-4ea9-8efe-a676150ea4fb",
   "metadata": {},
   "outputs": [
    {
     "name": "stdout",
     "output_type": "stream",
     "text": [
      "Model: \"sequential\"\n",
      "_________________________________________________________________\n",
      " Layer (type)                Output Shape              Param #   \n",
      "=================================================================\n",
      " rescaling (Rescaling)       (None, None, None, 3)     0         \n",
      "                                                                 \n",
      " resizing (Resizing)         (None, 180, 180, 3)       0         \n",
      "                                                                 \n",
      " conv2d (Conv2D)             (None, 178, 178, 32)      896       \n",
      "                                                                 \n",
      " max_pooling2d (MaxPooling2  (None, 89, 89, 32)        0         \n",
      " D)                                                              \n",
      "                                                                 \n",
      " dense (Dense)               (None, 89, 89, 64)        2112      \n",
      "                                                                 \n",
      " dropout (Dropout)           (None, 89, 89, 64)        0         \n",
      "                                                                 \n",
      " conv2d_1 (Conv2D)           (None, 87, 87, 32)        18464     \n",
      "                                                                 \n",
      " max_pooling2d_1 (MaxPoolin  (None, 43, 43, 32)        0         \n",
      " g2D)                                                            \n",
      "                                                                 \n",
      " dense_1 (Dense)             (None, 43, 43, 64)        2112      \n",
      "                                                                 \n",
      " dropout_1 (Dropout)         (None, 43, 43, 64)        0         \n",
      "                                                                 \n",
      " conv2d_2 (Conv2D)           (None, 41, 41, 32)        18464     \n",
      "                                                                 \n",
      " max_pooling2d_2 (MaxPoolin  (None, 20, 20, 32)        0         \n",
      " g2D)                                                            \n",
      "                                                                 \n",
      " dense_2 (Dense)             (None, 20, 20, 64)        2112      \n",
      "                                                                 \n",
      " dropout_2 (Dropout)         (None, 20, 20, 64)        0         \n",
      "                                                                 \n",
      " flatten (Flatten)           (None, 25600)             0         \n",
      "                                                                 \n",
      " dense_3 (Dense)             (None, 1)                 25601     \n",
      "                                                                 \n",
      "=================================================================\n",
      "Total params: 69761 (272.50 KB)\n",
      "Trainable params: 69761 (272.50 KB)\n",
      "Non-trainable params: 0 (0.00 Byte)\n",
      "_________________________________________________________________\n"
     ]
    }
   ],
   "source": [
    "import tensorflow as tf\n",
    "from tensorflow import keras\n",
    "from tensorflow.keras import layers\n",
    "from tensorflow.keras.models import Sequential\n",
    "from tensorflow.keras.utils import get_custom_objects\n",
    "\n",
    "# Define our custom activation function\n",
    "def custom_activation(y):\n",
    "    return tf.where(y > 0, 1, 0)\n",
    "\n",
    "# Get the custom activation function\n",
    "# Not required if we keep activation outside of model\n",
    "# get_custom_objects().update({'custom_activation': layers.Activation(custom_activation)}) \n",
    "\n",
    "# Define the model\n",
    "model = Sequential([\n",
    "    # Rescaling layer\n",
    "    layers.Rescaling(1./255, input_shape=(None, None, 3)),\n",
    "    \n",
    "    # Resize layer\n",
    "    layers.Resizing(180, 180),\n",
    "    \n",
    "    # Conv2D layer (1st)\n",
    "    layers.Conv2D(32, (3, 3), activation='relu'),\n",
    "    \n",
    "    # MaxPooling2D layer\n",
    "    layers.MaxPooling2D(pool_size=(2, 2)),\n",
    "    layers.Dense(64, activation='relu'),\n",
    "    \n",
    "    # Dropout layer\n",
    "    layers.Dropout(0.2),\n",
    "\n",
    "    # Conv2D layer (2nd)\n",
    "    layers.Conv2D(32, (3, 3), activation='relu'),\n",
    "    \n",
    "    # MaxPooling2D layer\n",
    "    layers.MaxPooling2D(pool_size=(2, 2)),\n",
    "    layers.Dense(64, activation='relu'),\n",
    "    \n",
    "    # Dropout layer\n",
    "    layers.Dropout(0.2),\n",
    "\n",
    "    # Conv2D layer (3rd)\n",
    "    layers.Conv2D(32, (3, 3), activation='relu'),\n",
    "    \n",
    "    # MaxPooling2D layer\n",
    "    layers.MaxPooling2D(pool_size=(2, 2)),\n",
    "    layers.Dense(64, activation='relu'),\n",
    "    \n",
    "    # Dropout layer\n",
    "    layers.Dropout(0.2),\n",
    "    \n",
    "    # Flatten layer\n",
    "    layers.Flatten(),\n",
    "    \n",
    "    # Dense layer with linear activation for regression\n",
    "    layers.Dense(1, activation='linear')\n",
    "])\n",
    "\n",
    "# Add in our custom activation layer\n",
    "# Nope... we want to keep this outside of the model...\n",
    "#model.add(layers.Activation(custom_activation))\n",
    "\n",
    "# Compile the model\n",
    "model.compile(loss='mean_squared_error', optimizer='adam')  # w/o custom layer\n",
    "#model.compile(optimizer='adam', loss='binary_crossentropy', metrics=['accuracy']) # Nope\n",
    "\n",
    "model.summary()"
   ]
  },
  {
   "cell_type": "code",
   "execution_count": 21,
   "id": "aa15a729-6f5e-4d71-9cb4-8a0841aec096",
   "metadata": {},
   "outputs": [
    {
     "name": "stdout",
     "output_type": "stream",
     "text": [
      "../Data/models/model_0\n",
      "../Data/models/model_0/history.pkl\n",
      "Gherkin injested.\n"
     ]
    }
   ],
   "source": [
    "# While we created two splits of the data it\n",
    "# cause some major overfitting problems, so\n",
    "# we'll train with just one.\n",
    "# We're getting 95% across the board as it, so well be fine.  ;-)\n",
    "\n",
    "\n",
    "# We use transfer leraning so that we only have to train once\n",
    "model_0, history_0, notes_0 = load_model_data('model_0')\n",
    "if model_0!=None:\n",
    "    model, model_history, notes = model_0, history_0, notes_0\n",
    "else:\n",
    "    # Fit\n",
    "    model_history = model.fit(X_train[0], Y_train[0],\n",
    "                              validation_data = (X_valid[0], Y_valid[0]),\n",
    "                              epochs=20, batch_size=132,\n",
    "                              verbose = 1)\n",
    "    # Save, one and done.\n",
    "    save_model_data('model_0', model, model_history, 'trained on balanced labels')"
   ]
  },
  {
   "cell_type": "code",
   "execution_count": 22,
   "id": "15868e4a-070a-402a-a2cc-7c8a9c43480a",
   "metadata": {},
   "outputs": [
    {
     "name": "stdout",
     "output_type": "stream",
     "text": [
      "2/2 [==============================] - 1s 484ms/step\n"
     ]
    }
   ],
   "source": [
    "def custom_activation(x):\n",
    "    return tf.where(x >= 0, 1, 0)\n",
    "\n",
    "prediction = model.predict(X_valid[1])\n",
    "prediction = tf.squeeze(custom_activation(prediction)) # sometimes to just want to hug a squeeze your tensors\n",
    "actual = custom_activation(Y_valid[1])"
   ]
  },
  {
   "cell_type": "code",
   "execution_count": 23,
   "id": "1155b93f-e9bd-418d-a34a-d6e8a19e4cf7",
   "metadata": {},
   "outputs": [
    {
     "data": {
      "text/plain": [
       "(<tf.Tensor: shape=(56,), dtype=int32, numpy=\n",
       " array([1, 0, 0, 0, 0, 1, 0, 1, 0, 0, 0, 0, 0, 0, 0, 0, 0, 0, 0, 0, 0, 0,\n",
       "        0, 0, 0, 0, 1, 0, 0, 1, 1, 1, 1, 1, 1, 1, 1, 1, 1, 1, 1, 1, 1, 1,\n",
       "        1, 1, 1, 1, 1, 1, 1, 1, 1, 1, 1, 1], dtype=int32)>,\n",
       " <tf.Tensor: shape=(56,), dtype=int32, numpy=\n",
       " array([0, 0, 0, 0, 0, 0, 0, 0, 0, 0, 0, 0, 0, 0, 0, 0, 0, 0, 0, 0, 0, 0,\n",
       "        0, 0, 1, 1, 1, 1, 1, 1, 1, 1, 1, 1, 1, 1, 1, 1, 1, 1, 1, 1, 1, 1,\n",
       "        1, 1, 1, 1, 1, 1, 1, 1, 1, 1, 1, 1], dtype=int32)>)"
      ]
     },
     "execution_count": 23,
     "metadata": {},
     "output_type": "execute_result"
    }
   ],
   "source": [
    "prediction, actual # visually this looks pretty good"
   ]
  },
  {
   "cell_type": "code",
   "execution_count": 24,
   "id": "0849acfd-6ec8-4aac-a114-f2a9a0761f70",
   "metadata": {},
   "outputs": [
    {
     "data": {
      "text/plain": [
       "(25, 31)"
      ]
     },
     "execution_count": 24,
     "metadata": {},
     "output_type": "execute_result"
    }
   ],
   "source": [
    "np.sum(prediction==0,axis=0), np.sum(prediction==1,axis=0) # nice an balances"
   ]
  },
  {
   "cell_type": "code",
   "execution_count": 25,
   "id": "5561c70f-e023-4cc2-97d6-ffef07317a37",
   "metadata": {},
   "outputs": [
    {
     "data": {
      "text/plain": [
       "(24, 32)"
      ]
     },
     "execution_count": 25,
     "metadata": {},
     "output_type": "execute_result"
    }
   ],
   "source": [
    "# remember our activation is greater than zero,\n",
    "# thus we have 8 more zero values, as expected.\n",
    "np.sum(actual==0,axis=0), np.sum(actual==1,axis=0) "
   ]
  },
  {
   "cell_type": "code",
   "execution_count": 26,
   "id": "8d0222db-6919-4b77-b4cd-d8237cd7938f",
   "metadata": {},
   "outputs": [],
   "source": [
    "def plot_loss(History):\n",
    "    history = History.history\n",
    "    N = len(history[\"loss\"])\n",
    "    plt.figure(figsize = (7, 7))\n",
    "    plt.plot(np.arange(0, N), history[\"loss\"], label = \"train_loss\", ls = '--')\n",
    "    plt.plot(np.arange(0, N), history[\"val_loss\"], label = \"val_loss\", ls = '--')\n",
    "    #plt.yscale('log')\n",
    "    plt.title(\"Loss vs Epoch\")\n",
    "    plt.xlabel(\"Epochs\")\n",
    "    plt.ylabel(\"Loss\")\n",
    "    plt.legend(loc=\"upper left\")\n",
    "    plt.grid()"
   ]
  },
  {
   "cell_type": "code",
   "execution_count": 27,
   "id": "8af13305-7e7e-402a-ad50-d71c366bb053",
   "metadata": {},
   "outputs": [
    {
     "data": {
      "image/png": "[encoded data removed]",
      "text/plain": [
       "<Figure size 700x700 with 1 Axes>"
      ]
     },
     "metadata": {},
     "output_type": "display_data"
    }
   ],
   "source": [
    "plot_loss(model_history)"
   ]
  },
  {
   "cell_type": "code",
   "execution_count": 28,
   "id": "3b33827b-87f6-4edb-8778-3fb6e117a4df",
   "metadata": {},
   "outputs": [
    {
     "data": {
      "text/plain": [
       "{'loss': [0.145144984126091,\n",
       "  0.1259644478559494,\n",
       "  0.11598270386457443,\n",
       "  0.11273834109306335,\n",
       "  0.11190943419933319,\n",
       "  0.11049861460924149,\n",
       "  0.10725978016853333,\n",
       "  0.10741430521011353,\n",
       "  0.10451320558786392,\n",
       "  0.10405810177326202,\n",
       "  0.10483407974243164,\n",
       "  0.10038083791732788,\n",
       "  0.100342757999897,\n",
       "  0.10010021179914474,\n",
       "  0.10177230089902878,\n",
       "  0.09833823144435883,\n",
       "  0.09838013350963593,\n",
       "  0.09952846169471741,\n",
       "  0.09732745587825775,\n",
       "  0.09625565260648727],\n",
       " 'val_loss': [0.14973923563957214,\n",
       "  0.15882229804992676,\n",
       "  0.13692304491996765,\n",
       "  0.13017943501472473,\n",
       "  0.1373695731163025,\n",
       "  0.13891592621803284,\n",
       "  0.129397913813591,\n",
       "  0.13218332827091217,\n",
       "  0.1302625983953476,\n",
       "  0.1326332539319992,\n",
       "  0.12748539447784424,\n",
       "  0.13089479506015778,\n",
       "  0.1279771775007248,\n",
       "  0.12766693532466888,\n",
       "  0.12784399092197418,\n",
       "  0.1280055195093155,\n",
       "  0.12798334658145905,\n",
       "  0.12705965340137482,\n",
       "  0.1315232217311859,\n",
       "  0.13090960681438446]}"
      ]
     },
     "execution_count": 28,
     "metadata": {},
     "output_type": "execute_result"
    }
   ],
   "source": [
    "model_history.history"
   ]
  },
  {
   "cell_type": "code",
   "execution_count": 29,
   "id": "f6f23eab-7ed9-4403-ba2d-3b04c6e1727f",
   "metadata": {},
   "outputs": [
    {
     "name": "stdout",
     "output_type": "stream",
     "text": [
      "              precision    recall  f1-score   support\n",
      "\n",
      "           0     0.8400    0.8750    0.8571        24\n",
      "           1     0.9032    0.8750    0.8889        32\n",
      "\n",
      "    accuracy                         0.8750        56\n",
      "   macro avg     0.8716    0.8750    0.8730        56\n",
      "weighted avg     0.8761    0.8750    0.8753        56\n",
      "\n"
     ]
    },
    {
     "data": {
      "image/png": "[encoded data removed]",
      "text/plain": [
       "<Figure size 800x500 with 2 Axes>"
      ]
     },
     "metadata": {},
     "output_type": "display_data"
    }
   ],
   "source": [
    "# Evaluate our model based on precision, recall, and f1-score\n",
    "\n",
    "from sklearn.metrics import classification_report\n",
    "from sklearn.metrics import confusion_matrix\n",
    "import seaborn as sns\n",
    "\n",
    "# Printing the classification report\n",
    "print(classification_report(actual, prediction, digits=4))\n",
    "\n",
    "# Plotting the heatmap using confusion matrix\n",
    "cm = confusion_matrix(actual, prediction)\n",
    "plt.figure(figsize = (8, 5))\n",
    "sns.heatmap(cm, annot = True,  fmt = '.0f', \n",
    "          xticklabels = ['flood', 'fire'],\n",
    "          yticklabels = ['flood', 'fire'])\n",
    "plt.ylabel('Actual')\n",
    "plt.xlabel('Predicted')\n",
    "plt.show()"
   ]
  },
  {
   "cell_type": "code",
   "execution_count": 30,
   "id": "d6aed2b6-ecf1-4624-b151-aefe93d7e569",
   "metadata": {},
   "outputs": [
    {
     "data": {
      "text/plain": [
       "type   label\n",
       "fire   3        1064\n",
       "       1          69\n",
       "       2          43\n",
       "flood  1         114\n",
       "       2          97\n",
       "       3          59\n",
       "Name: count, dtype: int64"
      ]
     },
     "metadata": {},
     "output_type": "display_data"
    }
   ],
   "source": [
    "# Create dataset for Disaster Type Classification\n",
    "actual_df = train_df[((train_df.type == 'fire') | (train_df.type == 'flood')) & (train_df.label != 0)].copy()\n",
    "show_balance(actual_df)"
   ]
  },
  {
   "cell_type": "code",
   "execution_count": 31,
   "id": "49150cf0-6727-43f4-b265-37a5c6818f74",
   "metadata": {},
   "outputs": [],
   "source": [
    "# FIXME!!! use encode_type()\n",
    "# -1:flood, +1:fire\n",
    "actual_df['type_code'] = actual_df[['type','label']].apply(lambda df: df['label'] if df['type']=='fire' else -df['label'], axis=1)\n",
    "actual_df['type_code'] = actual_df['type_code']/actual_df['type_code'].abs().max()\n",
    "\n",
    "X_actual = actual_df['image'].to_list()\n",
    "X_actual = np.array([cv2.resize(img, (180, 180)) for img in X_actual])\n",
    "Y_actual = actual_df['type_code']"
   ]
  },
  {
   "cell_type": "code",
   "execution_count": 32,
   "id": "5c7845c7-313c-4699-9541-c32b4d67b72a",
   "metadata": {},
   "outputs": [
    {
     "name": "stdout",
     "output_type": "stream",
     "text": [
      "46/46 [==============================] - 20s 430ms/step\n"
     ]
    }
   ],
   "source": [
    "prediction = model.predict(X_actual)\n",
    "prediction = tf.squeeze(custom_activation(prediction)) # give the tensor a hug and squeeze\n",
    "actual = custom_activation(Y_actual)"
   ]
  },
  {
   "cell_type": "code",
   "execution_count": 33,
   "id": "48bfa0b8-12f7-4fc9-b626-16a6b30b8e1f",
   "metadata": {},
   "outputs": [
    {
     "name": "stdout",
     "output_type": "stream",
     "text": [
      "              precision    recall  f1-score   support\n",
      "\n",
      "           0     0.9237    0.8519    0.8863       270\n",
      "           1     0.9666    0.9838    0.9751      1176\n",
      "\n",
      "    accuracy                         0.9592      1446\n",
      "   macro avg     0.9451    0.9178    0.9307      1446\n",
      "weighted avg     0.9586    0.9592    0.9586      1446\n",
      "\n"
     ]
    },
    {
     "data": {
      "image/png": "[encoded data removed]",
      "text/plain": [
       "<Figure size 800x500 with 2 Axes>"
      ]
     },
     "metadata": {},
     "output_type": "display_data"
    }
   ],
   "source": [
    "# Evaluate our model based on precision, recall, and f1-score\n",
    "\n",
    "from sklearn.metrics import classification_report\n",
    "from sklearn.metrics import confusion_matrix\n",
    "import seaborn as sns\n",
    "\n",
    "# Printing the classification report\n",
    "print(classification_report(actual, prediction, digits=4))\n",
    "\n",
    "# Plotting the heatmap using confusion matrix\n",
    "cm = confusion_matrix(actual, prediction)\n",
    "plt.figure(figsize = (8, 5))\n",
    "sns.heatmap(cm, annot = True,  fmt = '.0f', \n",
    "          xticklabels = ['flood', 'fire'],\n",
    "          yticklabels = ['flood', 'fire'])\n",
    "plt.ylabel('Actual')\n",
    "plt.xlabel('Predicted')\n",
    "plt.show()"
   ]
  },
  {
   "cell_type": "code",
   "execution_count": 34,
   "id": "1e1f7403-cc37-4ba2-a908-e614632db7b4",
   "metadata": {},
   "outputs": [
    {
     "name": "stdout",
     "output_type": "stream",
     "text": [
      "Model: \"sequential\"\n",
      "_________________________________________________________________\n",
      " Layer (type)                Output Shape              Param #   \n",
      "=================================================================\n",
      " rescaling (Rescaling)       (None, None, None, 3)     0         \n",
      "                                                                 \n",
      " resizing (Resizing)         (None, 180, 180, 3)       0         \n",
      "                                                                 \n",
      " conv2d (Conv2D)             (None, 178, 178, 32)      896       \n",
      "                                                                 \n",
      " max_pooling2d (MaxPooling2  (None, 89, 89, 32)        0         \n",
      " D)                                                              \n",
      "                                                                 \n",
      " dense (Dense)               (None, 89, 89, 64)        2112      \n",
      "                                                                 \n",
      " dropout (Dropout)           (None, 89, 89, 64)        0         \n",
      "                                                                 \n",
      " conv2d_1 (Conv2D)           (None, 87, 87, 32)        18464     \n",
      "                                                                 \n",
      " max_pooling2d_1 (MaxPoolin  (None, 43, 43, 32)        0         \n",
      " g2D)                                                            \n",
      "                                                                 \n",
      " dense_1 (Dense)             (None, 43, 43, 64)        2112      \n",
      "                                                                 \n",
      " dropout_1 (Dropout)         (None, 43, 43, 64)        0         \n",
      "                                                                 \n",
      " conv2d_2 (Conv2D)           (None, 41, 41, 32)        18464     \n",
      "                                                                 \n",
      " max_pooling2d_2 (MaxPoolin  (None, 20, 20, 32)        0         \n",
      " g2D)                                                            \n",
      "                                                                 \n",
      " dense_2 (Dense)             (None, 20, 20, 64)        2112      \n",
      "                                                                 \n",
      " dropout_2 (Dropout)         (None, 20, 20, 64)        0         \n",
      "                                                                 \n",
      " flatten (Flatten)           (None, 25600)             0         \n",
      "                                                                 \n",
      " dense_3 (Dense)             (None, 1)                 25601     \n",
      "                                                                 \n",
      "=================================================================\n",
      "Total params: 69761 (272.50 KB)\n",
      "Trainable params: 69761 (272.50 KB)\n",
      "Non-trainable params: 0 (0.00 Byte)\n",
      "_________________________________________________________________\n"
     ]
    }
   ],
   "source": [
    "model.summary() "
   ]
  },
  {
   "cell_type": "markdown",
   "id": "4085ce1f-51fe-4557-8af8-6354e1ab0e5e",
   "metadata": {},
   "source": [
    "### Model Task B"
   ]
  },
  {
   "cell_type": "code",
   "execution_count": 35,
   "id": "2aa6c002-7d2f-4f8c-ae0b-2d0429353005",
   "metadata": {},
   "outputs": [],
   "source": [
    "from tensorflow.keras.utils import to_categorical\n",
    "\n",
    "image_dim = 180\n",
    "\n",
    "# Encode Labels\n",
    "def encode_level(df):\n",
    "    X = df['image'].to_list()\n",
    "    X = np.array([cv2.resize(img, (image_dim, image_dim)) for img in X])\n",
    "    Y = to_categorical(df.label, num_classes=4) \n",
    "    return X,Y\n",
    "\n",
    "X_valid, Y_valid = encode_level(classify_level_valid_df)\n",
    "X_train, Y_train = encode_level(classify_level_train_df)"
   ]
  },
  {
   "cell_type": "code",
   "execution_count": 36,
   "id": "386c6c28-25ca-47dc-b779-45f9279d7164",
   "metadata": {},
   "outputs": [
    {
     "data": {
      "text/plain": [
       "array([[0., 0., 1., 0.],\n",
       "       [0., 0., 1., 0.],\n",
       "       [0., 0., 1., 0.],\n",
       "       ...,\n",
       "       [0., 0., 0., 1.],\n",
       "       [0., 0., 0., 1.],\n",
       "       [0., 0., 0., 1.]], dtype=float32)"
      ]
     },
     "execution_count": 36,
     "metadata": {},
     "output_type": "execute_result"
    }
   ],
   "source": [
    "Y_train"
   ]
  },
  {
   "cell_type": "code",
   "execution_count": 37,
   "id": "0f31df3f-3ee0-494b-bb51-7515da1de217",
   "metadata": {},
   "outputs": [
    {
     "name": "stdout",
     "output_type": "stream",
     "text": [
      "Model: \"sequential_1\"\n",
      "_________________________________________________________________\n",
      " Layer (type)                Output Shape              Param #   \n",
      "=================================================================\n",
      " rescaling_1 (Rescaling)     (None, None, None, 3)     0         \n",
      "                                                                 \n",
      " resizing_1 (Resizing)       (None, 180, 180, 3)       0         \n",
      "                                                                 \n",
      " conv2d_3 (Conv2D)           (None, 178, 178, 32)      896       \n",
      "                                                                 \n",
      " max_pooling2d_3 (MaxPoolin  (None, 89, 89, 32)        0         \n",
      " g2D)                                                            \n",
      "                                                                 \n",
      " dense_4 (Dense)             (None, 89, 89, 64)        2112      \n",
      "                                                                 \n",
      " dropout_3 (Dropout)         (None, 89, 89, 64)        0         \n",
      "                                                                 \n",
      " conv2d_4 (Conv2D)           (None, 87, 87, 32)        18464     \n",
      "                                                                 \n",
      " max_pooling2d_4 (MaxPoolin  (None, 43, 43, 32)        0         \n",
      " g2D)                                                            \n",
      "                                                                 \n",
      " dense_5 (Dense)             (None, 43, 43, 64)        2112      \n",
      "                                                                 \n",
      " dropout_4 (Dropout)         (None, 43, 43, 64)        0         \n",
      "                                                                 \n",
      " conv2d_5 (Conv2D)           (None, 41, 41, 32)        18464     \n",
      "                                                                 \n",
      " max_pooling2d_5 (MaxPoolin  (None, 20, 20, 32)        0         \n",
      " g2D)                                                            \n",
      "                                                                 \n",
      " dense_6 (Dense)             (None, 20, 20, 64)        2112      \n",
      "                                                                 \n",
      " dropout_5 (Dropout)         (None, 20, 20, 64)        0         \n",
      "                                                                 \n",
      " flatten_1 (Flatten)         (None, 25600)             0         \n",
      "                                                                 \n",
      " dense_7 (Dense)             (None, 4)                 102404    \n",
      "                                                                 \n",
      "=================================================================\n",
      "Total params: 146564 (572.52 KB)\n",
      "Trainable params: 146564 (572.52 KB)\n",
      "Non-trainable params: 0 (0.00 Byte)\n",
      "_________________________________________________________________\n"
     ]
    }
   ],
   "source": [
    "import tensorflow as tf\n",
    "from tensorflow import keras\n",
    "from tensorflow.keras import layers\n",
    "from tensorflow.keras.models import Sequential\n",
    "from tensorflow.keras.utils import get_custom_objects\n",
    "\n",
    "\n",
    "# Define the model\n",
    "model = Sequential([\n",
    "    # Rescaling layer\n",
    "    layers.Rescaling(1./255, input_shape=(None, None, 3)),\n",
    "    \n",
    "    # Resize layer\n",
    "    layers.Resizing(image_dim, image_dim),\n",
    "    \n",
    "    # Conv2D layer (1st)\n",
    "    layers.Conv2D(32, (3, 3), activation='relu'),\n",
    "    \n",
    "    # MaxPooling2D layer\n",
    "    layers.MaxPooling2D(pool_size=(2, 2)),\n",
    "    layers.Dense(64, activation='relu'),\n",
    "    \n",
    "    # Dropout layer\n",
    "    layers.Dropout(0.2),\n",
    "\n",
    "    # Conv2D layer (2nd)\n",
    "    layers.Conv2D(32, (3, 3), activation='relu'),\n",
    "    \n",
    "    # MaxPooling2D layer\n",
    "    layers.MaxPooling2D(pool_size=(2, 2)),\n",
    "    layers.Dense(64, activation='relu'),\n",
    "    \n",
    "    # Dropout layer\n",
    "    layers.Dropout(0.2),\n",
    "\n",
    "    # Conv2D layer (3rd)\n",
    "    layers.Conv2D(32, (3, 3), activation='relu'),\n",
    "    \n",
    "    # MaxPooling2D layer\n",
    "    layers.MaxPooling2D(pool_size=(2, 2)),\n",
    "    layers.Dense(64, activation='relu'),\n",
    "    \n",
    "    # Dropout layer\n",
    "    layers.Dropout(0.2),\n",
    "    \n",
    "    # Flatten layer\n",
    "    layers.Flatten(),\n",
    "\n",
    "    # Our model are basically the same so we ought to\n",
    "    # transfer learning  from our previous model... \n",
    "    \n",
    "    # Output layer with 4 units (for 4 categories)\n",
    "    layers.Dense(4)\n",
    "])\n",
    "\n",
    "# Compile the model\n",
    "model.compile(optimizer='adam',\n",
    "              loss=tf.keras.losses.CategoricalCrossentropy(from_logits=True),\n",
    "              metrics=['accuracy'])\n",
    "model.summary()"
   ]
  },
  {
   "cell_type": "code",
   "execution_count": 38,
   "id": "2d3287cc-b82c-4736-8008-cc779358fd8a",
   "metadata": {},
   "outputs": [
    {
     "name": "stdout",
     "output_type": "stream",
     "text": [
      "Epoch 1/30\n"
     ]
    },
    {
     "name": "stderr",
     "output_type": "stream",
     "text": [
      "2024-04-03 08:09:27.811448: W external/local_tsl/tsl/framework/cpu_allocator_impl.cc:83] Allocation of 777600000 exceeds 10% of free system memory.\n"
     ]
    },
    {
     "name": "stdout",
     "output_type": "stream",
     "text": [
      "800/800 [==============================] - 434s 540ms/step - loss: 1.3875 - accuracy: 0.2403 - val_loss: 1.3863 - val_accuracy: 0.2500\n",
      "Epoch 2/30\n",
      "800/800 [==============================] - 424s 530ms/step - loss: 1.3866 - accuracy: 0.2387 - val_loss: 1.3863 - val_accuracy: 0.2500\n",
      "Epoch 3/30\n",
      "800/800 [==============================] - 473s 592ms/step - loss: 1.3865 - accuracy: 0.2500 - val_loss: 1.3863 - val_accuracy: 0.2500\n",
      "Epoch 4/30\n",
      "800/800 [==============================] - 456s 570ms/step - loss: 1.3865 - accuracy: 0.2475 - val_loss: 1.3863 - val_accuracy: 0.2500\n",
      "Epoch 5/30\n",
      "800/800 [==============================] - 464s 580ms/step - loss: 1.3864 - accuracy: 0.2494 - val_loss: 1.3864 - val_accuracy: 0.2500\n",
      "Epoch 6/30\n",
      "800/800 [==============================] - ETA: 0s - loss: 1.3865 - accuracy: 0.2442"
     ]
    },
    {
     "ename": "KeyboardInterrupt",
     "evalue": "",
     "output_type": "error",
     "traceback": [
      "\u001b[0;31m---------------------------------------------------------------------------\u001b[0m",
      "\u001b[0;31mKeyboardInterrupt\u001b[0m                         Traceback (most recent call last)",
      "Cell \u001b[0;32mIn[38], line 11\u001b[0m\n\u001b[1;32m      2\u001b[0m callbacks \u001b[38;5;241m=\u001b[39m [\n\u001b[1;32m      3\u001b[0m     tf\u001b[38;5;241m.\u001b[39mkeras\u001b[38;5;241m.\u001b[39mcallbacks\u001b[38;5;241m.\u001b[39mEarlyStopping(monitor\u001b[38;5;241m=\u001b[39m\u001b[38;5;124m'\u001b[39m\u001b[38;5;124mval_loss\u001b[39m\u001b[38;5;124m'\u001b[39m, patience\u001b[38;5;241m=\u001b[39m\u001b[38;5;241m4\u001b[39m),\n\u001b[1;32m      4\u001b[0m     tf\u001b[38;5;241m.\u001b[39mkeras\u001b[38;5;241m.\u001b[39mcallbacks\u001b[38;5;241m.\u001b[39mModelCheckpoint(\u001b[38;5;124m'\u001b[39m\u001b[38;5;124mmodel.\u001b[39m\u001b[38;5;132;01m{epoch:02d}\u001b[39;00m\u001b[38;5;124m-\u001b[39m\u001b[38;5;132;01m{val_loss:.2f}\u001b[39;00m\u001b[38;5;124m.tf\u001b[39m\u001b[38;5;124m'\u001b[39m,\n\u001b[1;32m      5\u001b[0m                                        monitor\u001b[38;5;241m=\u001b[39m\u001b[38;5;124m'\u001b[39m\u001b[38;5;124mval_loss\u001b[39m\u001b[38;5;124m'\u001b[39m, save_best_only\u001b[38;5;241m=\u001b[39m\u001b[38;5;28;01mTrue\u001b[39;00m,\n\u001b[1;32m      6\u001b[0m                                        save_weights_only\u001b[38;5;241m=\u001b[39m\u001b[38;5;28;01mTrue\u001b[39;00m, mode\u001b[38;5;241m=\u001b[39m\u001b[38;5;124m'\u001b[39m\u001b[38;5;124mauto\u001b[39m\u001b[38;5;124m'\u001b[39m, save_freq\u001b[38;5;241m=\u001b[39m\u001b[38;5;124m'\u001b[39m\u001b[38;5;124mepoch\u001b[39m\u001b[38;5;124m'\u001b[39m)\n\u001b[1;32m      7\u001b[0m ]\n\u001b[1;32m      9\u001b[0m \u001b[38;5;66;03m# This will likely crash your laptop due to memory requirement!\u001b[39;00m\n\u001b[1;32m     10\u001b[0m \u001b[38;5;66;03m# Only run this on colab\u001b[39;00m\n\u001b[0;32m---> 11\u001b[0m model_history \u001b[38;5;241m=\u001b[39m \u001b[43mmodel\u001b[49m\u001b[38;5;241;43m.\u001b[39;49m\u001b[43mfit\u001b[49m\u001b[43m(\u001b[49m\u001b[43mX_train\u001b[49m\u001b[43m,\u001b[49m\u001b[43m \u001b[49m\u001b[43mY_train\u001b[49m\u001b[43m,\u001b[49m\n\u001b[1;32m     12\u001b[0m \u001b[43m                          \u001b[49m\u001b[43mvalidation_data\u001b[49m\u001b[43m \u001b[49m\u001b[38;5;241;43m=\u001b[39;49m\u001b[43m \u001b[49m\u001b[43m(\u001b[49m\u001b[43mX_valid\u001b[49m\u001b[43m,\u001b[49m\u001b[43m \u001b[49m\u001b[43mY_valid\u001b[49m\u001b[43m)\u001b[49m\u001b[43m,\u001b[49m\n\u001b[1;32m     13\u001b[0m \u001b[43m                          \u001b[49m\u001b[43mepochs\u001b[49m\u001b[38;5;241;43m=\u001b[39;49m\u001b[38;5;241;43m30\u001b[39;49m\u001b[43m,\u001b[49m\u001b[43m \u001b[49m\u001b[43mbatch_size\u001b[49m\u001b[38;5;241;43m=\u001b[39;49m\u001b[38;5;241;43m10\u001b[39;49m\u001b[43m,\u001b[49m\n\u001b[1;32m     14\u001b[0m \u001b[43m                          \u001b[49m\u001b[43mcallbacks\u001b[49m\u001b[43m \u001b[49m\u001b[38;5;241;43m=\u001b[39;49m\u001b[43m \u001b[49m\u001b[43mcallbacks\u001b[49m\u001b[43m,\u001b[49m\n\u001b[1;32m     15\u001b[0m \u001b[43m                          \u001b[49m\u001b[43mverbose\u001b[49m\u001b[43m \u001b[49m\u001b[38;5;241;43m=\u001b[39;49m\u001b[43m \u001b[49m\u001b[38;5;241;43m1\u001b[39;49m\u001b[43m)\u001b[49m\n",
      "File \u001b[0;32m~/anaconda3/envs/data200s/lib/python3.11/site-packages/keras/src/utils/traceback_utils.py:65\u001b[0m, in \u001b[0;36mfilter_traceback.<locals>.error_handler\u001b[0;34m(*args, **kwargs)\u001b[0m\n\u001b[1;32m     63\u001b[0m filtered_tb \u001b[38;5;241m=\u001b[39m \u001b[38;5;28;01mNone\u001b[39;00m\n\u001b[1;32m     64\u001b[0m \u001b[38;5;28;01mtry\u001b[39;00m:\n\u001b[0;32m---> 65\u001b[0m     \u001b[38;5;28;01mreturn\u001b[39;00m \u001b[43mfn\u001b[49m\u001b[43m(\u001b[49m\u001b[38;5;241;43m*\u001b[39;49m\u001b[43margs\u001b[49m\u001b[43m,\u001b[49m\u001b[43m \u001b[49m\u001b[38;5;241;43m*\u001b[39;49m\u001b[38;5;241;43m*\u001b[39;49m\u001b[43mkwargs\u001b[49m\u001b[43m)\u001b[49m\n\u001b[1;32m     66\u001b[0m \u001b[38;5;28;01mexcept\u001b[39;00m \u001b[38;5;167;01mException\u001b[39;00m \u001b[38;5;28;01mas\u001b[39;00m e:\n\u001b[1;32m     67\u001b[0m     filtered_tb \u001b[38;5;241m=\u001b[39m _process_traceback_frames(e\u001b[38;5;241m.\u001b[39m__traceback__)\n",
      "File \u001b[0;32m~/anaconda3/envs/data200s/lib/python3.11/site-packages/keras/src/engine/training.py:1856\u001b[0m, in \u001b[0;36mModel.fit\u001b[0;34m(self, x, y, batch_size, epochs, verbose, callbacks, validation_split, validation_data, shuffle, class_weight, sample_weight, initial_epoch, steps_per_epoch, validation_steps, validation_batch_size, validation_freq, max_queue_size, workers, use_multiprocessing)\u001b[0m\n\u001b[1;32m   1840\u001b[0m \u001b[38;5;28;01mif\u001b[39;00m \u001b[38;5;28mgetattr\u001b[39m(\u001b[38;5;28mself\u001b[39m, \u001b[38;5;124m\"\u001b[39m\u001b[38;5;124m_eval_data_handler\u001b[39m\u001b[38;5;124m\"\u001b[39m, \u001b[38;5;28;01mNone\u001b[39;00m) \u001b[38;5;129;01mis\u001b[39;00m \u001b[38;5;28;01mNone\u001b[39;00m:\n\u001b[1;32m   1841\u001b[0m     \u001b[38;5;28mself\u001b[39m\u001b[38;5;241m.\u001b[39m_eval_data_handler \u001b[38;5;241m=\u001b[39m data_adapter\u001b[38;5;241m.\u001b[39mget_data_handler(\n\u001b[1;32m   1842\u001b[0m         x\u001b[38;5;241m=\u001b[39mval_x,\n\u001b[1;32m   1843\u001b[0m         y\u001b[38;5;241m=\u001b[39mval_y,\n\u001b[0;32m   (...)\u001b[0m\n\u001b[1;32m   1854\u001b[0m         pss_evaluation_shards\u001b[38;5;241m=\u001b[39m\u001b[38;5;28mself\u001b[39m\u001b[38;5;241m.\u001b[39m_pss_evaluation_shards,\n\u001b[1;32m   1855\u001b[0m     )\n\u001b[0;32m-> 1856\u001b[0m val_logs \u001b[38;5;241m=\u001b[39m \u001b[38;5;28;43mself\u001b[39;49m\u001b[38;5;241;43m.\u001b[39;49m\u001b[43mevaluate\u001b[49m\u001b[43m(\u001b[49m\n\u001b[1;32m   1857\u001b[0m \u001b[43m    \u001b[49m\u001b[43mx\u001b[49m\u001b[38;5;241;43m=\u001b[39;49m\u001b[43mval_x\u001b[49m\u001b[43m,\u001b[49m\n\u001b[1;32m   1858\u001b[0m \u001b[43m    \u001b[49m\u001b[43my\u001b[49m\u001b[38;5;241;43m=\u001b[39;49m\u001b[43mval_y\u001b[49m\u001b[43m,\u001b[49m\n\u001b[1;32m   1859\u001b[0m \u001b[43m    \u001b[49m\u001b[43msample_weight\u001b[49m\u001b[38;5;241;43m=\u001b[39;49m\u001b[43mval_sample_weight\u001b[49m\u001b[43m,\u001b[49m\n\u001b[1;32m   1860\u001b[0m \u001b[43m    \u001b[49m\u001b[43mbatch_size\u001b[49m\u001b[38;5;241;43m=\u001b[39;49m\u001b[43mvalidation_batch_size\u001b[49m\u001b[43m \u001b[49m\u001b[38;5;129;43;01mor\u001b[39;49;00m\u001b[43m \u001b[49m\u001b[43mbatch_size\u001b[49m\u001b[43m,\u001b[49m\n\u001b[1;32m   1861\u001b[0m \u001b[43m    \u001b[49m\u001b[43msteps\u001b[49m\u001b[38;5;241;43m=\u001b[39;49m\u001b[43mvalidation_steps\u001b[49m\u001b[43m,\u001b[49m\n\u001b[1;32m   1862\u001b[0m \u001b[43m    \u001b[49m\u001b[43mcallbacks\u001b[49m\u001b[38;5;241;43m=\u001b[39;49m\u001b[43mcallbacks\u001b[49m\u001b[43m,\u001b[49m\n\u001b[1;32m   1863\u001b[0m \u001b[43m    \u001b[49m\u001b[43mmax_queue_size\u001b[49m\u001b[38;5;241;43m=\u001b[39;49m\u001b[43mmax_queue_size\u001b[49m\u001b[43m,\u001b[49m\n\u001b[1;32m   1864\u001b[0m \u001b[43m    \u001b[49m\u001b[43mworkers\u001b[49m\u001b[38;5;241;43m=\u001b[39;49m\u001b[43mworkers\u001b[49m\u001b[43m,\u001b[49m\n\u001b[1;32m   1865\u001b[0m \u001b[43m    \u001b[49m\u001b[43muse_multiprocessing\u001b[49m\u001b[38;5;241;43m=\u001b[39;49m\u001b[43muse_multiprocessing\u001b[49m\u001b[43m,\u001b[49m\n\u001b[1;32m   1866\u001b[0m \u001b[43m    \u001b[49m\u001b[43mreturn_dict\u001b[49m\u001b[38;5;241;43m=\u001b[39;49m\u001b[38;5;28;43;01mTrue\u001b[39;49;00m\u001b[43m,\u001b[49m\n\u001b[1;32m   1867\u001b[0m \u001b[43m    \u001b[49m\u001b[43m_use_cached_eval_dataset\u001b[49m\u001b[38;5;241;43m=\u001b[39;49m\u001b[38;5;28;43;01mTrue\u001b[39;49;00m\u001b[43m,\u001b[49m\n\u001b[1;32m   1868\u001b[0m \u001b[43m\u001b[49m\u001b[43m)\u001b[49m\n\u001b[1;32m   1869\u001b[0m val_logs \u001b[38;5;241m=\u001b[39m {\n\u001b[1;32m   1870\u001b[0m     \u001b[38;5;124m\"\u001b[39m\u001b[38;5;124mval_\u001b[39m\u001b[38;5;124m\"\u001b[39m \u001b[38;5;241m+\u001b[39m name: val \u001b[38;5;28;01mfor\u001b[39;00m name, val \u001b[38;5;129;01min\u001b[39;00m val_logs\u001b[38;5;241m.\u001b[39mitems()\n\u001b[1;32m   1871\u001b[0m }\n\u001b[1;32m   1872\u001b[0m epoch_logs\u001b[38;5;241m.\u001b[39mupdate(val_logs)\n",
      "File \u001b[0;32m~/anaconda3/envs/data200s/lib/python3.11/site-packages/keras/src/utils/traceback_utils.py:65\u001b[0m, in \u001b[0;36mfilter_traceback.<locals>.error_handler\u001b[0;34m(*args, **kwargs)\u001b[0m\n\u001b[1;32m     63\u001b[0m filtered_tb \u001b[38;5;241m=\u001b[39m \u001b[38;5;28;01mNone\u001b[39;00m\n\u001b[1;32m     64\u001b[0m \u001b[38;5;28;01mtry\u001b[39;00m:\n\u001b[0;32m---> 65\u001b[0m     \u001b[38;5;28;01mreturn\u001b[39;00m \u001b[43mfn\u001b[49m\u001b[43m(\u001b[49m\u001b[38;5;241;43m*\u001b[39;49m\u001b[43margs\u001b[49m\u001b[43m,\u001b[49m\u001b[43m \u001b[49m\u001b[38;5;241;43m*\u001b[39;49m\u001b[38;5;241;43m*\u001b[39;49m\u001b[43mkwargs\u001b[49m\u001b[43m)\u001b[49m\n\u001b[1;32m     66\u001b[0m \u001b[38;5;28;01mexcept\u001b[39;00m \u001b[38;5;167;01mException\u001b[39;00m \u001b[38;5;28;01mas\u001b[39;00m e:\n\u001b[1;32m     67\u001b[0m     filtered_tb \u001b[38;5;241m=\u001b[39m _process_traceback_frames(e\u001b[38;5;241m.\u001b[39m__traceback__)\n",
      "File \u001b[0;32m~/anaconda3/envs/data200s/lib/python3.11/site-packages/keras/src/engine/training.py:2296\u001b[0m, in \u001b[0;36mModel.evaluate\u001b[0;34m(self, x, y, batch_size, verbose, sample_weight, steps, callbacks, max_queue_size, workers, use_multiprocessing, return_dict, **kwargs)\u001b[0m\n\u001b[1;32m   2292\u001b[0m             \u001b[38;5;28;01mwith\u001b[39;00m tf\u001b[38;5;241m.\u001b[39mprofiler\u001b[38;5;241m.\u001b[39mexperimental\u001b[38;5;241m.\u001b[39mTrace(\n\u001b[1;32m   2293\u001b[0m                 \u001b[38;5;124m\"\u001b[39m\u001b[38;5;124mtest\u001b[39m\u001b[38;5;124m\"\u001b[39m, step_num\u001b[38;5;241m=\u001b[39mstep, _r\u001b[38;5;241m=\u001b[39m\u001b[38;5;241m1\u001b[39m\n\u001b[1;32m   2294\u001b[0m             ):\n\u001b[1;32m   2295\u001b[0m                 callbacks\u001b[38;5;241m.\u001b[39mon_test_batch_begin(step)\n\u001b[0;32m-> 2296\u001b[0m                 logs \u001b[38;5;241m=\u001b[39m \u001b[43mtest_function_runner\u001b[49m\u001b[38;5;241;43m.\u001b[39;49m\u001b[43mrun_step\u001b[49m\u001b[43m(\u001b[49m\n\u001b[1;32m   2297\u001b[0m \u001b[43m                    \u001b[49m\u001b[43mdataset_or_iterator\u001b[49m\u001b[43m,\u001b[49m\n\u001b[1;32m   2298\u001b[0m \u001b[43m                    \u001b[49m\u001b[43mdata_handler\u001b[49m\u001b[43m,\u001b[49m\n\u001b[1;32m   2299\u001b[0m \u001b[43m                    \u001b[49m\u001b[43mstep\u001b[49m\u001b[43m,\u001b[49m\n\u001b[1;32m   2300\u001b[0m \u001b[43m                    \u001b[49m\u001b[38;5;28;43mself\u001b[39;49m\u001b[38;5;241;43m.\u001b[39;49m\u001b[43m_pss_evaluation_shards\u001b[49m\u001b[43m,\u001b[49m\n\u001b[1;32m   2301\u001b[0m \u001b[43m                \u001b[49m\u001b[43m)\u001b[49m\n\u001b[1;32m   2303\u001b[0m logs \u001b[38;5;241m=\u001b[39m tf_utils\u001b[38;5;241m.\u001b[39msync_to_numpy_or_python_type(logs)\n\u001b[1;32m   2304\u001b[0m \u001b[38;5;66;03m# Override with model metrics instead of last step logs\u001b[39;00m\n",
      "File \u001b[0;32m~/anaconda3/envs/data200s/lib/python3.11/site-packages/keras/src/engine/training.py:4108\u001b[0m, in \u001b[0;36m_TestFunction.run_step\u001b[0;34m(self, dataset_or_iterator, data_handler, step, unused_shards)\u001b[0m\n\u001b[1;32m   4107\u001b[0m \u001b[38;5;28;01mdef\u001b[39;00m \u001b[38;5;21mrun_step\u001b[39m(\u001b[38;5;28mself\u001b[39m, dataset_or_iterator, data_handler, step, unused_shards):\n\u001b[0;32m-> 4108\u001b[0m     tmp_logs \u001b[38;5;241m=\u001b[39m \u001b[38;5;28;43mself\u001b[39;49m\u001b[38;5;241;43m.\u001b[39;49m\u001b[43m_function\u001b[49m\u001b[43m(\u001b[49m\u001b[43mdataset_or_iterator\u001b[49m\u001b[43m)\u001b[49m\n\u001b[1;32m   4109\u001b[0m     \u001b[38;5;28;01mif\u001b[39;00m data_handler\u001b[38;5;241m.\u001b[39mshould_sync:\n\u001b[1;32m   4110\u001b[0m         context\u001b[38;5;241m.\u001b[39masync_wait()\n",
      "File \u001b[0;32m~/anaconda3/envs/data200s/lib/python3.11/site-packages/tensorflow/python/util/traceback_utils.py:150\u001b[0m, in \u001b[0;36mfilter_traceback.<locals>.error_handler\u001b[0;34m(*args, **kwargs)\u001b[0m\n\u001b[1;32m    148\u001b[0m filtered_tb \u001b[38;5;241m=\u001b[39m \u001b[38;5;28;01mNone\u001b[39;00m\n\u001b[1;32m    149\u001b[0m \u001b[38;5;28;01mtry\u001b[39;00m:\n\u001b[0;32m--> 150\u001b[0m   \u001b[38;5;28;01mreturn\u001b[39;00m \u001b[43mfn\u001b[49m\u001b[43m(\u001b[49m\u001b[38;5;241;43m*\u001b[39;49m\u001b[43margs\u001b[49m\u001b[43m,\u001b[49m\u001b[43m \u001b[49m\u001b[38;5;241;43m*\u001b[39;49m\u001b[38;5;241;43m*\u001b[39;49m\u001b[43mkwargs\u001b[49m\u001b[43m)\u001b[49m\n\u001b[1;32m    151\u001b[0m \u001b[38;5;28;01mexcept\u001b[39;00m \u001b[38;5;167;01mException\u001b[39;00m \u001b[38;5;28;01mas\u001b[39;00m e:\n\u001b[1;32m    152\u001b[0m   filtered_tb \u001b[38;5;241m=\u001b[39m _process_traceback_frames(e\u001b[38;5;241m.\u001b[39m__traceback__)\n",
      "File \u001b[0;32m~/anaconda3/envs/data200s/lib/python3.11/site-packages/tensorflow/python/eager/polymorphic_function/polymorphic_function.py:832\u001b[0m, in \u001b[0;36mFunction.__call__\u001b[0;34m(self, *args, **kwds)\u001b[0m\n\u001b[1;32m    829\u001b[0m compiler \u001b[38;5;241m=\u001b[39m \u001b[38;5;124m\"\u001b[39m\u001b[38;5;124mxla\u001b[39m\u001b[38;5;124m\"\u001b[39m \u001b[38;5;28;01mif\u001b[39;00m \u001b[38;5;28mself\u001b[39m\u001b[38;5;241m.\u001b[39m_jit_compile \u001b[38;5;28;01melse\u001b[39;00m \u001b[38;5;124m\"\u001b[39m\u001b[38;5;124mnonXla\u001b[39m\u001b[38;5;124m\"\u001b[39m\n\u001b[1;32m    831\u001b[0m \u001b[38;5;28;01mwith\u001b[39;00m OptionalXlaContext(\u001b[38;5;28mself\u001b[39m\u001b[38;5;241m.\u001b[39m_jit_compile):\n\u001b[0;32m--> 832\u001b[0m   result \u001b[38;5;241m=\u001b[39m \u001b[38;5;28;43mself\u001b[39;49m\u001b[38;5;241;43m.\u001b[39;49m\u001b[43m_call\u001b[49m\u001b[43m(\u001b[49m\u001b[38;5;241;43m*\u001b[39;49m\u001b[43margs\u001b[49m\u001b[43m,\u001b[49m\u001b[43m \u001b[49m\u001b[38;5;241;43m*\u001b[39;49m\u001b[38;5;241;43m*\u001b[39;49m\u001b[43mkwds\u001b[49m\u001b[43m)\u001b[49m\n\u001b[1;32m    834\u001b[0m new_tracing_count \u001b[38;5;241m=\u001b[39m \u001b[38;5;28mself\u001b[39m\u001b[38;5;241m.\u001b[39mexperimental_get_tracing_count()\n\u001b[1;32m    835\u001b[0m without_tracing \u001b[38;5;241m=\u001b[39m (tracing_count \u001b[38;5;241m==\u001b[39m new_tracing_count)\n",
      "File \u001b[0;32m~/anaconda3/envs/data200s/lib/python3.11/site-packages/tensorflow/python/eager/polymorphic_function/polymorphic_function.py:877\u001b[0m, in \u001b[0;36mFunction._call\u001b[0;34m(self, *args, **kwds)\u001b[0m\n\u001b[1;32m    874\u001b[0m \u001b[38;5;28mself\u001b[39m\u001b[38;5;241m.\u001b[39m_lock\u001b[38;5;241m.\u001b[39mrelease()\n\u001b[1;32m    875\u001b[0m \u001b[38;5;66;03m# In this case we have not created variables on the first call. So we can\u001b[39;00m\n\u001b[1;32m    876\u001b[0m \u001b[38;5;66;03m# run the first trace but we should fail if variables are created.\u001b[39;00m\n\u001b[0;32m--> 877\u001b[0m results \u001b[38;5;241m=\u001b[39m \u001b[43mtracing_compilation\u001b[49m\u001b[38;5;241;43m.\u001b[39;49m\u001b[43mcall_function\u001b[49m\u001b[43m(\u001b[49m\n\u001b[1;32m    878\u001b[0m \u001b[43m    \u001b[49m\u001b[43margs\u001b[49m\u001b[43m,\u001b[49m\u001b[43m \u001b[49m\u001b[43mkwds\u001b[49m\u001b[43m,\u001b[49m\u001b[43m \u001b[49m\u001b[38;5;28;43mself\u001b[39;49m\u001b[38;5;241;43m.\u001b[39;49m\u001b[43m_variable_creation_config\u001b[49m\n\u001b[1;32m    879\u001b[0m \u001b[43m\u001b[49m\u001b[43m)\u001b[49m\n\u001b[1;32m    880\u001b[0m \u001b[38;5;28;01mif\u001b[39;00m \u001b[38;5;28mself\u001b[39m\u001b[38;5;241m.\u001b[39m_created_variables:\n\u001b[1;32m    881\u001b[0m   \u001b[38;5;28;01mraise\u001b[39;00m \u001b[38;5;167;01mValueError\u001b[39;00m(\u001b[38;5;124m\"\u001b[39m\u001b[38;5;124mCreating variables on a non-first call to a function\u001b[39m\u001b[38;5;124m\"\u001b[39m\n\u001b[1;32m    882\u001b[0m                    \u001b[38;5;124m\"\u001b[39m\u001b[38;5;124m decorated with tf.function.\u001b[39m\u001b[38;5;124m\"\u001b[39m)\n",
      "File \u001b[0;32m~/anaconda3/envs/data200s/lib/python3.11/site-packages/tensorflow/python/eager/polymorphic_function/tracing_compilation.py:139\u001b[0m, in \u001b[0;36mcall_function\u001b[0;34m(args, kwargs, tracing_options)\u001b[0m\n\u001b[1;32m    137\u001b[0m bound_args \u001b[38;5;241m=\u001b[39m function\u001b[38;5;241m.\u001b[39mfunction_type\u001b[38;5;241m.\u001b[39mbind(\u001b[38;5;241m*\u001b[39margs, \u001b[38;5;241m*\u001b[39m\u001b[38;5;241m*\u001b[39mkwargs)\n\u001b[1;32m    138\u001b[0m flat_inputs \u001b[38;5;241m=\u001b[39m function\u001b[38;5;241m.\u001b[39mfunction_type\u001b[38;5;241m.\u001b[39munpack_inputs(bound_args)\n\u001b[0;32m--> 139\u001b[0m \u001b[38;5;28;01mreturn\u001b[39;00m \u001b[43mfunction\u001b[49m\u001b[38;5;241;43m.\u001b[39;49m\u001b[43m_call_flat\u001b[49m\u001b[43m(\u001b[49m\u001b[43m  \u001b[49m\u001b[38;5;66;43;03m# pylint: disable=protected-access\u001b[39;49;00m\n\u001b[1;32m    140\u001b[0m \u001b[43m    \u001b[49m\u001b[43mflat_inputs\u001b[49m\u001b[43m,\u001b[49m\u001b[43m \u001b[49m\u001b[43mcaptured_inputs\u001b[49m\u001b[38;5;241;43m=\u001b[39;49m\u001b[43mfunction\u001b[49m\u001b[38;5;241;43m.\u001b[39;49m\u001b[43mcaptured_inputs\u001b[49m\n\u001b[1;32m    141\u001b[0m \u001b[43m\u001b[49m\u001b[43m)\u001b[49m\n",
      "File \u001b[0;32m~/anaconda3/envs/data200s/lib/python3.11/site-packages/tensorflow/python/eager/polymorphic_function/concrete_function.py:1323\u001b[0m, in \u001b[0;36mConcreteFunction._call_flat\u001b[0;34m(self, tensor_inputs, captured_inputs)\u001b[0m\n\u001b[1;32m   1319\u001b[0m possible_gradient_type \u001b[38;5;241m=\u001b[39m gradients_util\u001b[38;5;241m.\u001b[39mPossibleTapeGradientTypes(args)\n\u001b[1;32m   1320\u001b[0m \u001b[38;5;28;01mif\u001b[39;00m (possible_gradient_type \u001b[38;5;241m==\u001b[39m gradients_util\u001b[38;5;241m.\u001b[39mPOSSIBLE_GRADIENT_TYPES_NONE\n\u001b[1;32m   1321\u001b[0m     \u001b[38;5;129;01mand\u001b[39;00m executing_eagerly):\n\u001b[1;32m   1322\u001b[0m   \u001b[38;5;66;03m# No tape is watching; skip to running the function.\u001b[39;00m\n\u001b[0;32m-> 1323\u001b[0m   \u001b[38;5;28;01mreturn\u001b[39;00m \u001b[38;5;28;43mself\u001b[39;49m\u001b[38;5;241;43m.\u001b[39;49m\u001b[43m_inference_function\u001b[49m\u001b[38;5;241;43m.\u001b[39;49m\u001b[43mcall_preflattened\u001b[49m\u001b[43m(\u001b[49m\u001b[43margs\u001b[49m\u001b[43m)\u001b[49m\n\u001b[1;32m   1324\u001b[0m forward_backward \u001b[38;5;241m=\u001b[39m \u001b[38;5;28mself\u001b[39m\u001b[38;5;241m.\u001b[39m_select_forward_and_backward_functions(\n\u001b[1;32m   1325\u001b[0m     args,\n\u001b[1;32m   1326\u001b[0m     possible_gradient_type,\n\u001b[1;32m   1327\u001b[0m     executing_eagerly)\n\u001b[1;32m   1328\u001b[0m forward_function, args_with_tangents \u001b[38;5;241m=\u001b[39m forward_backward\u001b[38;5;241m.\u001b[39mforward()\n",
      "File \u001b[0;32m~/anaconda3/envs/data200s/lib/python3.11/site-packages/tensorflow/python/eager/polymorphic_function/atomic_function.py:216\u001b[0m, in \u001b[0;36mAtomicFunction.call_preflattened\u001b[0;34m(self, args)\u001b[0m\n\u001b[1;32m    214\u001b[0m \u001b[38;5;28;01mdef\u001b[39;00m \u001b[38;5;21mcall_preflattened\u001b[39m(\u001b[38;5;28mself\u001b[39m, args: Sequence[core\u001b[38;5;241m.\u001b[39mTensor]) \u001b[38;5;241m-\u001b[39m\u001b[38;5;241m>\u001b[39m Any:\n\u001b[1;32m    215\u001b[0m \u001b[38;5;250m  \u001b[39m\u001b[38;5;124;03m\"\"\"Calls with flattened tensor inputs and returns the structured output.\"\"\"\u001b[39;00m\n\u001b[0;32m--> 216\u001b[0m   flat_outputs \u001b[38;5;241m=\u001b[39m \u001b[38;5;28;43mself\u001b[39;49m\u001b[38;5;241;43m.\u001b[39;49m\u001b[43mcall_flat\u001b[49m\u001b[43m(\u001b[49m\u001b[38;5;241;43m*\u001b[39;49m\u001b[43margs\u001b[49m\u001b[43m)\u001b[49m\n\u001b[1;32m    217\u001b[0m   \u001b[38;5;28;01mreturn\u001b[39;00m \u001b[38;5;28mself\u001b[39m\u001b[38;5;241m.\u001b[39mfunction_type\u001b[38;5;241m.\u001b[39mpack_output(flat_outputs)\n",
      "File \u001b[0;32m~/anaconda3/envs/data200s/lib/python3.11/site-packages/tensorflow/python/eager/polymorphic_function/atomic_function.py:251\u001b[0m, in \u001b[0;36mAtomicFunction.call_flat\u001b[0;34m(self, *args)\u001b[0m\n\u001b[1;32m    249\u001b[0m \u001b[38;5;28;01mwith\u001b[39;00m record\u001b[38;5;241m.\u001b[39mstop_recording():\n\u001b[1;32m    250\u001b[0m   \u001b[38;5;28;01mif\u001b[39;00m \u001b[38;5;28mself\u001b[39m\u001b[38;5;241m.\u001b[39m_bound_context\u001b[38;5;241m.\u001b[39mexecuting_eagerly():\n\u001b[0;32m--> 251\u001b[0m     outputs \u001b[38;5;241m=\u001b[39m \u001b[38;5;28;43mself\u001b[39;49m\u001b[38;5;241;43m.\u001b[39;49m\u001b[43m_bound_context\u001b[49m\u001b[38;5;241;43m.\u001b[39;49m\u001b[43mcall_function\u001b[49m\u001b[43m(\u001b[49m\n\u001b[1;32m    252\u001b[0m \u001b[43m        \u001b[49m\u001b[38;5;28;43mself\u001b[39;49m\u001b[38;5;241;43m.\u001b[39;49m\u001b[43mname\u001b[49m\u001b[43m,\u001b[49m\n\u001b[1;32m    253\u001b[0m \u001b[43m        \u001b[49m\u001b[38;5;28;43mlist\u001b[39;49m\u001b[43m(\u001b[49m\u001b[43margs\u001b[49m\u001b[43m)\u001b[49m\u001b[43m,\u001b[49m\n\u001b[1;32m    254\u001b[0m \u001b[43m        \u001b[49m\u001b[38;5;28;43mlen\u001b[39;49m\u001b[43m(\u001b[49m\u001b[38;5;28;43mself\u001b[39;49m\u001b[38;5;241;43m.\u001b[39;49m\u001b[43mfunction_type\u001b[49m\u001b[38;5;241;43m.\u001b[39;49m\u001b[43mflat_outputs\u001b[49m\u001b[43m)\u001b[49m\u001b[43m,\u001b[49m\n\u001b[1;32m    255\u001b[0m \u001b[43m    \u001b[49m\u001b[43m)\u001b[49m\n\u001b[1;32m    256\u001b[0m   \u001b[38;5;28;01melse\u001b[39;00m:\n\u001b[1;32m    257\u001b[0m     outputs \u001b[38;5;241m=\u001b[39m make_call_op_in_graph(\n\u001b[1;32m    258\u001b[0m         \u001b[38;5;28mself\u001b[39m,\n\u001b[1;32m    259\u001b[0m         \u001b[38;5;28mlist\u001b[39m(args),\n\u001b[1;32m    260\u001b[0m         \u001b[38;5;28mself\u001b[39m\u001b[38;5;241m.\u001b[39m_bound_context\u001b[38;5;241m.\u001b[39mfunction_call_options\u001b[38;5;241m.\u001b[39mas_attrs(),\n\u001b[1;32m    261\u001b[0m     )\n",
      "File \u001b[0;32m~/anaconda3/envs/data200s/lib/python3.11/site-packages/tensorflow/python/eager/context.py:1486\u001b[0m, in \u001b[0;36mContext.call_function\u001b[0;34m(self, name, tensor_inputs, num_outputs)\u001b[0m\n\u001b[1;32m   1484\u001b[0m cancellation_context \u001b[38;5;241m=\u001b[39m cancellation\u001b[38;5;241m.\u001b[39mcontext()\n\u001b[1;32m   1485\u001b[0m \u001b[38;5;28;01mif\u001b[39;00m cancellation_context \u001b[38;5;129;01mis\u001b[39;00m \u001b[38;5;28;01mNone\u001b[39;00m:\n\u001b[0;32m-> 1486\u001b[0m   outputs \u001b[38;5;241m=\u001b[39m \u001b[43mexecute\u001b[49m\u001b[38;5;241;43m.\u001b[39;49m\u001b[43mexecute\u001b[49m\u001b[43m(\u001b[49m\n\u001b[1;32m   1487\u001b[0m \u001b[43m      \u001b[49m\u001b[43mname\u001b[49m\u001b[38;5;241;43m.\u001b[39;49m\u001b[43mdecode\u001b[49m\u001b[43m(\u001b[49m\u001b[38;5;124;43m\"\u001b[39;49m\u001b[38;5;124;43mutf-8\u001b[39;49m\u001b[38;5;124;43m\"\u001b[39;49m\u001b[43m)\u001b[49m\u001b[43m,\u001b[49m\n\u001b[1;32m   1488\u001b[0m \u001b[43m      \u001b[49m\u001b[43mnum_outputs\u001b[49m\u001b[38;5;241;43m=\u001b[39;49m\u001b[43mnum_outputs\u001b[49m\u001b[43m,\u001b[49m\n\u001b[1;32m   1489\u001b[0m \u001b[43m      \u001b[49m\u001b[43minputs\u001b[49m\u001b[38;5;241;43m=\u001b[39;49m\u001b[43mtensor_inputs\u001b[49m\u001b[43m,\u001b[49m\n\u001b[1;32m   1490\u001b[0m \u001b[43m      \u001b[49m\u001b[43mattrs\u001b[49m\u001b[38;5;241;43m=\u001b[39;49m\u001b[43mattrs\u001b[49m\u001b[43m,\u001b[49m\n\u001b[1;32m   1491\u001b[0m \u001b[43m      \u001b[49m\u001b[43mctx\u001b[49m\u001b[38;5;241;43m=\u001b[39;49m\u001b[38;5;28;43mself\u001b[39;49m\u001b[43m,\u001b[49m\n\u001b[1;32m   1492\u001b[0m \u001b[43m  \u001b[49m\u001b[43m)\u001b[49m\n\u001b[1;32m   1493\u001b[0m \u001b[38;5;28;01melse\u001b[39;00m:\n\u001b[1;32m   1494\u001b[0m   outputs \u001b[38;5;241m=\u001b[39m execute\u001b[38;5;241m.\u001b[39mexecute_with_cancellation(\n\u001b[1;32m   1495\u001b[0m       name\u001b[38;5;241m.\u001b[39mdecode(\u001b[38;5;124m\"\u001b[39m\u001b[38;5;124mutf-8\u001b[39m\u001b[38;5;124m\"\u001b[39m),\n\u001b[1;32m   1496\u001b[0m       num_outputs\u001b[38;5;241m=\u001b[39mnum_outputs,\n\u001b[0;32m   (...)\u001b[0m\n\u001b[1;32m   1500\u001b[0m       cancellation_manager\u001b[38;5;241m=\u001b[39mcancellation_context,\n\u001b[1;32m   1501\u001b[0m   )\n",
      "File \u001b[0;32m~/anaconda3/envs/data200s/lib/python3.11/site-packages/tensorflow/python/eager/execute.py:53\u001b[0m, in \u001b[0;36mquick_execute\u001b[0;34m(op_name, num_outputs, inputs, attrs, ctx, name)\u001b[0m\n\u001b[1;32m     51\u001b[0m \u001b[38;5;28;01mtry\u001b[39;00m:\n\u001b[1;32m     52\u001b[0m   ctx\u001b[38;5;241m.\u001b[39mensure_initialized()\n\u001b[0;32m---> 53\u001b[0m   tensors \u001b[38;5;241m=\u001b[39m \u001b[43mpywrap_tfe\u001b[49m\u001b[38;5;241;43m.\u001b[39;49m\u001b[43mTFE_Py_Execute\u001b[49m\u001b[43m(\u001b[49m\u001b[43mctx\u001b[49m\u001b[38;5;241;43m.\u001b[39;49m\u001b[43m_handle\u001b[49m\u001b[43m,\u001b[49m\u001b[43m \u001b[49m\u001b[43mdevice_name\u001b[49m\u001b[43m,\u001b[49m\u001b[43m \u001b[49m\u001b[43mop_name\u001b[49m\u001b[43m,\u001b[49m\n\u001b[1;32m     54\u001b[0m \u001b[43m                                      \u001b[49m\u001b[43minputs\u001b[49m\u001b[43m,\u001b[49m\u001b[43m \u001b[49m\u001b[43mattrs\u001b[49m\u001b[43m,\u001b[49m\u001b[43m \u001b[49m\u001b[43mnum_outputs\u001b[49m\u001b[43m)\u001b[49m\n\u001b[1;32m     55\u001b[0m \u001b[38;5;28;01mexcept\u001b[39;00m core\u001b[38;5;241m.\u001b[39m_NotOkStatusException \u001b[38;5;28;01mas\u001b[39;00m e:\n\u001b[1;32m     56\u001b[0m   \u001b[38;5;28;01mif\u001b[39;00m name \u001b[38;5;129;01mis\u001b[39;00m \u001b[38;5;129;01mnot\u001b[39;00m \u001b[38;5;28;01mNone\u001b[39;00m:\n",
      "\u001b[0;31mKeyboardInterrupt\u001b[0m: "
     ]
    }
   ],
   "source": [
    "# FIXME... add early exit callback\n",
    "callbacks = [\n",
    "    tf.keras.callbacks.EarlyStopping(monitor='val_loss', patience=4),\n",
    "    tf.keras.callbacks.ModelCheckpoint('model.{epoch:02d}-{val_loss:.2f}.tf',\n",
    "                                       monitor='val_loss', save_best_only=True,\n",
    "                                       save_weights_only=True, mode='auto', save_freq='epoch')\n",
    "]\n",
    "\n",
    "# This will likely crash your laptop due to memory requirement!\n",
    "# Only run this on colab\n",
    "model_history = model.fit(X_train, Y_train,\n",
    "                          validation_data = (X_valid, Y_valid),\n",
    "                          epochs=30, batch_size=10,\n",
    "                          callbacks = callbacks,\n",
    "                          verbose = 1)"
   ]
  },
  {
   "cell_type": "code",
   "execution_count": null,
   "id": "53e2d317-eac8-4bba-b727-8b7267f08047",
   "metadata": {},
   "outputs": [],
   "source": [
    "50*20/60 * 8 # estimated runtime of mobel B on cpu... don't got time for that"
   ]
  },
  {
   "cell_type": "markdown",
   "id": "1dea9a78-1d90-4386-9194-8f816d68758d",
   "metadata": {},
   "source": [
    "## Notes and Resources\n",
    "\n",
    "https://learningds.org/ch/19/class_pred.html\n",
    "\n",
    "https://neptune.ai/blog/keras-loss-functions\n",
    "\n",
    "https://www.h2kinfosys.com/blog/linear-classifier-with-tensorflow-keras/\n",
    "\n",
    "Deep Learning with Python, by François Chollet\n",
    "\n",
    "https://github.com/fchollet/deep-learning-with-python-notebooks/\n",
    "\n",
    "Python Data Science Handbook, by Jake VanderPlas\n",
    "\n",
    "https://github.com/jakevdp/PythonDataScienceHandbook"
   ]
  },
  {
   "cell_type": "code",
   "execution_count": null,
   "id": "c27e7c7f-4894-40b2-9b83-472b81cc4f15",
   "metadata": {},
   "outputs": [],
   "source": []
  }
 ],
 "metadata": {
  "kernelspec": {
   "display_name": "Python 3 (ipykernel)",
   "language": "python",
   "name": "python3"
  },
  "language_info": {
   "codemirror_mode": {
    "name": "ipython",
    "version": 3
   },
   "file_extension": ".py",
   "mimetype": "text/x-python",
   "name": "python",
   "nbconvert_exporter": "python",
   "pygments_lexer": "ipython3",
   "version": "3.11.8"
  }
 },
 "nbformat": 4,
 "nbformat_minor": 5
}
