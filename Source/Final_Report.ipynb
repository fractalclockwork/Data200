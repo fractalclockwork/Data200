{
 "cells": [
  {
   "cell_type": "markdown",
   "id": "f5f1d48b-60e8-4c10-a5b3-2affa236767d",
   "metadata": {},
   "source": [
    "# Classifying Damage Level Disaster-Induced Images Via Computer Vision\n",
    "\n",
    "\n",
    "https://www.overleaf.com/project/662998cb25dcfcdb03e5d57a\n",
    "\n",
    "Shirley Li, Kofi Mireku, Brent Thorne\n",
    "\n",
    "Data200S, UC Berkeley MSSE"
   ]
  },
  {
   "cell_type": "markdown",
   "id": "1ae97256-32b7-4b35-b8a5-42060125ad32",
   "metadata": {},
   "source": [
    "## Import Libraries and Setup Environment"
   ]
  },
  {
   "cell_type": "code",
   "execution_count": 1,
   "id": "97facbd2-8744-4997-a2ee-5d25712af811",
   "metadata": {},
   "outputs": [
    {
     "name": "stderr",
     "output_type": "stream",
     "text": [
      "2024-04-28 09:06:13.076723: I tensorflow/core/platform/cpu_feature_guard.cc:182] This TensorFlow binary is optimized to use available CPU instructions in performance-critical operations.\n",
      "To enable the following instructions: SSE4.1 SSE4.2 AVX, in other operations, rebuild TensorFlow with the appropriate compiler flags.\n"
     ]
    }
   ],
   "source": [
    "import cv2\n",
    "import re\n",
    "import io\n",
    "import os\n",
    "import pickle\n",
    "import zipfile\n",
    "import numpy as np\n",
    "from tqdm import tqdm\n",
    "import pandas as pd\n",
    "import matplotlib.pyplot as plt\n",
    "from utils import read_files_from_zip, data2pd, show_balance, load_model_data, save_model_data"
   ]
  },
  {
   "cell_type": "code",
   "execution_count": 2,
   "id": "bd184033-3ad0-4654-b769-af47c02fd5bd",
   "metadata": {},
   "outputs": [],
   "source": [
    "# Configure system type\n",
    "COLAB = False\n",
    "\n",
    "# Set data and system paths\n",
    "if COLAB:\n",
    "  import sys\n",
    "  from google.colab import drive\n",
    "  drive.mount('/content/drive')\n",
    "  path = '/content/drive/My Drive/Colab Notebooks/grad_project'\n",
    "  data_dir = f'{path}/Data'\n",
    "  sys.path.insert(0, f'{path}/Source') # for colab to see local libraries\n",
    "else:\n",
    "  data_dir = f'../Data'\n",
    "\n",
    "# Set Date Source\n",
    "data_file = f'{data_dir}/sp24_grad_project_data.zip'"
   ]
  },
  {
   "cell_type": "code",
   "execution_count": 3,
   "id": "9b6085d0-47b5-478c-bf35-581b33e84fbc",
   "metadata": {},
   "outputs": [
    {
     "name": "stdout",
     "output_type": "stream",
     "text": [
      "CPU times: user 577 ms, sys: 599 ms, total: 1.18 s\n",
      "Wall time: 2.03 s\n"
     ]
    }
   ],
   "source": [
    "%%time\n",
    "\n",
    "# Pickle out data to speed this up\n",
    "train_df, test_df = [], []\n",
    "if (\n",
    "    os.path.exists(data_dir) \n",
    "    & os.path.isfile(f'{data_dir}/train_df.pkl') \n",
    "    & os.path.isfile(f'{data_dir}/test_df.pkl')\n",
    "):\n",
    "    train_df = pd.read_pickle(f'{data_dir}/train_df.pkl')\n",
    "    test_df = pd.read_pickle(f'{data_dir}/test_df.pkl')\n",
    "else:\n",
    "    # Load Test Images\n",
    "    test_data_images = read_files_from_zip(data_file, r'(test)_images_([\\w-]*)\\.npz')\n",
    "    \n",
    "    # Load Train Images and Labels\n",
    "    train_data_images = read_files_from_zip(data_file, r'satellite-image-data/([\\w-]*)/(train)_images\\.npz')\n",
    "    train_data_labels = read_files_from_zip(data_file, r'satellite-image-data/([\\w-]*)/(train)_labels\\.npy')\n",
    "    \n",
    "    # Convert to Dataframe\n",
    "    train_df = data2pd(train_data_images, train_data_labels)\n",
    "    test_df = data2pd(test_data_images)\n",
    "\n",
    "    # Pickle DataFrame\n",
    "    train_df.to_pickle(f'{data_dir}/train_df.pkl')\n",
    "    test_df.to_pickle(f'{data_dir}/test_df.pkl')\n",
    "    \n",
    "    # Clean up\n",
    "    del(test_data_images)\n",
    "    del(train_data_images)\n",
    "    del(train_data_labels)"
   ]
  },
  {
   "cell_type": "markdown",
   "id": "bb8123e3-5620-4994-9010-c773405b5ef0",
   "metadata": {},
   "source": [
    "## Feature Engineering, Task A "
   ]
  },
  {
   "cell_type": "code",
   "execution_count": 4,
   "id": "038a0b55-bcd2-4658-8eea-466abb68bb40",
   "metadata": {},
   "outputs": [
    {
     "data": {
      "text/plain": [
       "type   label\n",
       "fire   0        7204\n",
       "       3        1064\n",
       "       1          69\n",
       "       2          43\n",
       "flood  0        6734\n",
       "       1         114\n",
       "       2          97\n",
       "       3          59\n",
       "Name: count, dtype: int64"
      ]
     },
     "metadata": {},
     "output_type": "display_data"
    },
    {
     "data": {
      "text/plain": [
       "type   label\n",
       "fire   4        7204\n",
       "       7        1064\n",
       "       5          69\n",
       "       6          43\n",
       "flood  3        6734\n",
       "       2         114\n",
       "       1          97\n",
       "       0          59\n",
       "Name: count, dtype: int64"
      ]
     },
     "metadata": {},
     "output_type": "display_data"
    },
    {
     "data": {
      "text/plain": [
       "((15384, 5), (3847, 3))"
      ]
     },
     "execution_count": 4,
     "metadata": {},
     "output_type": "execute_result"
    }
   ],
   "source": [
    "# Select Dataset for Disaster Type Classification\n",
    "train_type_df = train_df[((train_df.type == 'fire') | (train_df.type == 'flood')) ] # & (train_df.label != 0)]\n",
    "test_type_df = test_df[((test_df.type == 'fire') | (test_df.type == 'flood')) ] # & (test_df.label != 0)]\n",
    "show_balance(train_type_df)\n",
    "\n",
    "# Encode labels\n",
    "def encode_label(type_df):\n",
    "    type_df = type_df.copy()\n",
    "    type_df['old_label'] = type_df['label']\n",
    "    type_df['label'] = type_df[['type','old_label']].apply(\n",
    "            lambda df: (df['old_label']+1) if df['type']=='fire' else -(df['old_label']), axis=1).astype('int')+ 3 \n",
    "    return type_df\n",
    "    \n",
    "train_type_df = encode_label(train_type_df)\n",
    "\n",
    "show_balance(train_type_df)\n",
    "train_type_df.shape, test_type_df.shape"
   ]
  },
  {
   "cell_type": "code",
   "execution_count": 5,
   "id": "88f73549-5f07-48a1-b669-19462f987d98",
   "metadata": {},
   "outputs": [],
   "source": [
    "# Verify class labels\n",
    "unique_labels = np.unique(train_type_df['label']) #+3\n",
    "#expected_indices = np.arange(7)  # Indices for 7 classes (-3 to 3)\n",
    "expected_indices = np.arange(8)\n",
    "\n",
    "if not np.array_equal(unique_labels, expected_indices):\n",
    "    print(\"Class labels do not match expected indices. Please verify your labels.\")"
   ]
  },
  {
   "cell_type": "code",
   "execution_count": 6,
   "id": "f9660ab3-6d4d-4609-87e7-66b329a2e873",
   "metadata": {},
   "outputs": [
    {
     "data": {
      "text/plain": [
       "(array([0, 1, 2, 3, 4, 5, 6, 7]), array([0, 1, 2, 3, 4, 5, 6, 7]))"
      ]
     },
     "execution_count": 6,
     "metadata": {},
     "output_type": "execute_result"
    }
   ],
   "source": [
    "unique_labels, expected_indices"
   ]
  },
  {
   "cell_type": "markdown",
   "id": "ffb46e21-0972-46b3-87a6-58336d80a3db",
   "metadata": {},
   "source": [
    "## Model Task A\n",
    "\n",
    "see also: https://blog.keras.io/building-powerful-image-classification-models-using-very-little-data.html"
   ]
  },
  {
   "cell_type": "code",
   "execution_count": 7,
   "id": "c171d7fa-6794-4d6b-b78b-3ec9634861dd",
   "metadata": {},
   "outputs": [
    {
     "data": {
      "text/plain": [
       "Index(['index', 'type', 'image', 'label', 'old_label'], dtype='object')"
      ]
     },
     "execution_count": 7,
     "metadata": {},
     "output_type": "execute_result"
    }
   ],
   "source": [
    "train_type_df.columns"
   ]
  },
  {
   "cell_type": "code",
   "execution_count": 8,
   "id": "899a9c02-2db2-42e4-91ec-db12fcf6b9c4",
   "metadata": {},
   "outputs": [],
   "source": [
    "from tensorflow.keras import backend\n",
    "backend.clear_session()  # clear model"
   ]
  },
  {
   "cell_type": "code",
   "execution_count": 9,
   "id": "e66fa28c-c9b6-4eab-9c3f-feb79b53c043",
   "metadata": {},
   "outputs": [
    {
     "name": "stdout",
     "output_type": "stream",
     "text": [
      "../Data/models/task_A_vgg16_model_dropout\n",
      "../Data/models/task_A_vgg16_model_dropout/history.pkl\n",
      "Gherkin injested.\n"
     ]
    }
   ],
   "source": [
    "import numpy as np\n",
    "import pandas as pd\n",
    "import tensorflow as tf\n",
    "from tensorflow.keras.applications.vgg16 import VGG16\n",
    "from tensorflow.keras.models import Sequential\n",
    "from tensorflow.keras.layers import Dense, Flatten, Dropout, Conv2D\n",
    "from sklearn.model_selection import train_test_split\n",
    "#from sklearn.utils import class_weight\n",
    "from sklearn.utils import compute_class_weight\n",
    "\n",
    "\n",
    "SIZE = 120 # Set image size\n",
    "\n",
    "# Load Our DataFrame\n",
    "df = train_type_df\n",
    "\n",
    "# Note that 'image' column contains RGB images as numpy arrays\n",
    "# and 'label' column contains values (-3, -2, -1, 0, 1, 2, 3),\n",
    "# Nope... [0,1,2,3,4,5,6,7], where >3.5 is fire\n",
    "\n",
    "# Split data into training and validation sets\n",
    "m_train_df, m_val_df = train_test_split(df, test_size=0.2, stratify=df['label'], random_state=42)\n",
    "\n",
    "# Load VGG16 model with pre-trained weights (excluding top layers)\n",
    "vgg16 = VGG16(weights='imagenet', include_top=False, input_shape=(SIZE, SIZE, 3))\n",
    "\n",
    "# Extract bottleneck features for training data\n",
    "def extract_bottleneck_features(dataframe):\n",
    "    features = []\n",
    "    for img_array in tqdm(dataframe['image']):\n",
    "        img_array = tf.image.resize(img_array, (SIZE, SIZE))  # Resize to VGG16 input size\n",
    "        img_array = tf.keras.applications.vgg16.preprocess_input(img_array)\n",
    "        bottleneck_feature = vgg16.predict(np.expand_dims(img_array, axis=0), verbose=0)\n",
    "        features.append(bottleneck_feature.flatten())\n",
    "    return np.array(features)\n",
    "\n",
    "train_features, val_features = [],[]\n",
    "if (\n",
    "    os.path.exists(data_dir) \n",
    "    & os.path.isfile(f'{data_dir}/task_A_train_features.npy') \n",
    "    & os.path.isfile(f'{data_dir}/task_A_val_features.npy')\n",
    "):\n",
    "    train_features = np.load(f'{data_dir}/task_A_train_features.npy')\n",
    "    val_features = np.load(f'{data_dir}/task_A_val_features.npy')\n",
    "else:\n",
    "    train_features = extract_bottleneck_features(m_train_df)\n",
    "    val_features = extract_bottleneck_features(m_val_df)\n",
    "    np.save(f'{data_dir}/task_A_train_features.npy', train_features)\n",
    "    np.save(f'{data_dir}/task_A_val_features.npy', val_features)\n",
    "\n",
    "# Create a simple fully-connected model\n",
    "model = Sequential()\n",
    "model.add(Flatten(input_shape=train_features.shape[1:]))\n",
    "model.add(Dense(128, activation='relu'))\n",
    "#model.add(Dropout(0.01)),\n",
    "model.add(Dense(64, activation='relu'))\n",
    "#model.add(Dropout(0.0001)),\n",
    "model.add(Dense(8, activation='softmax'))  # 8 classes \n",
    "\n",
    "# Compile the model\n",
    "model.compile(optimizer='adam', loss='sparse_categorical_crossentropy', metrics=['accuracy'])\n",
    "\n",
    "# Calculate class weights for imbalanced labels\n",
    "train_classes = m_train_df['label']\n",
    "class_weights = compute_class_weight(class_weight='balanced', classes=np.unique(train_classes), y=train_classes)\n",
    "class_weights_dict = {i: weight for i, weight in enumerate(class_weights)}\n",
    "\n",
    "# Save the model\n",
    "model_name = 'task_A_vgg16_model_dropout'\n",
    "model_0, history_0, notes_0 = load_model_data(model_name, path=data_dir)\n",
    "if model_0 != None:\n",
    "    model, model_history, notes = model_0, history_0, notes_0\n",
    "else:\n",
    "    # Train the model\n",
    "    model_history = model.fit(train_features, m_train_df['label'], validation_data=(val_features, m_val_df['label']),\n",
    "          epochs=10, batch_size=128, class_weight=class_weights_dict)\n",
    "    # Save, one and done.\n",
    "    save_model_data(model_name, model, model_history, 'trained on weighted labels', path=data_dir)"
   ]
  },
  {
   "cell_type": "code",
   "execution_count": 10,
   "id": "db646715-644e-461e-b193-899a415a5caa",
   "metadata": {},
   "outputs": [],
   "source": [
    "# Save model and feature weights\n",
    "FREEZE = False\n",
    "if FREEZE:\n",
    "    model_name = 'task_A_vgg16_model'\n",
    "    save_model_data(model_name, model, model_history, 'trained on weighted labels', path=data_dir)\n",
    "    np.save(f'{data_dir}/task_A_train_features.npy', train_features)\n",
    "    np.save(f'{data_dir}/task_A_test_features.npy', test_features)\n",
    "    np.save(f'{data_dir}/task_A_val_features.npy', val_features)"
   ]
  },
  {
   "cell_type": "code",
   "execution_count": 11,
   "id": "b0ed5de4-5da7-4acd-948e-6971ea6c4346",
   "metadata": {},
   "outputs": [
    {
     "data": {
      "image/png": "[encoded data removed]",
      "text/plain": [
       "<Figure size 700x700 with 1 Axes>"
      ]
     },
     "metadata": {},
     "output_type": "display_data"
    }
   ],
   "source": [
    "def plot_loss(History):\n",
    "    history = History.history\n",
    "    N = len(history[\"loss\"])\n",
    "    plt.figure(figsize = (7, 7))\n",
    "    plt.plot(np.arange(0, N), history[\"loss\"], label = \"train_loss\", ls = '--')\n",
    "    plt.plot(np.arange(0, N), history[\"val_loss\"], label = \"val_loss\", ls = '--')\n",
    "    #plt.yscale('log')\n",
    "    plt.title(\"Loss vs Epoch\")\n",
    "    plt.xlabel(\"Epochs\")\n",
    "    plt.ylabel(\"Loss\")\n",
    "    plt.legend(loc=\"upper left\")\n",
    "    plt.grid()\n",
    "    \n",
    "plot_loss(model_history)"
   ]
  },
  {
   "cell_type": "code",
   "execution_count": 12,
   "id": "99831839-c1bf-4bda-b653-ef6df7346bf6",
   "metadata": {},
   "outputs": [
    {
     "data": {
      "text/plain": [
       "((12307, 4608), (3077, 4608))"
      ]
     },
     "execution_count": 12,
     "metadata": {},
     "output_type": "execute_result"
    }
   ],
   "source": [
    "#train_features = np.load(f'{data_dir}/train_features.npy')\n",
    "#val_features = np.load(f'{data_dir}/val_features.npy')\n",
    "train_features.shape, val_features.shape"
   ]
  },
  {
   "cell_type": "markdown",
   "id": "c86e564a-af94-426f-8dbf-696b45bb987c",
   "metadata": {},
   "source": [
    "## Prediction Task A"
   ]
  },
  {
   "cell_type": "code",
   "execution_count": 13,
   "id": "8c90354a-7627-4a4c-b92e-ad74ffdcf23c",
   "metadata": {},
   "outputs": [],
   "source": [
    "test_features = []\n",
    "if (\n",
    "    os.path.exists(data_dir) \n",
    "    & os.path.isfile(f'{data_dir}/task_A_test_features.npy') \n",
    "):\n",
    "    test_features = np.load(f'{data_dir}/task_A_test_features.npy')\n",
    "\n",
    "else:\n",
    "    test_features = extract_bottleneck_features(test_type_df)\n",
    "    np.save(f'{data_dir}/task_A_test_features.npy', test_features)"
   ]
  },
  {
   "cell_type": "code",
   "execution_count": 14,
   "id": "f33fa0f6-bac0-4265-bbe0-638ff476bc97",
   "metadata": {},
   "outputs": [
    {
     "name": "stdout",
     "output_type": "stream",
     "text": [
      "121/121 [==============================] - 1s 4ms/step\n"
     ]
    }
   ],
   "source": [
    "# Evaluate the model on test data \n",
    "Y_pred = model.predict(test_features)"
   ]
  },
  {
   "cell_type": "code",
   "execution_count": 15,
   "id": "0040b0f7-ad46-4b04-b8f2-71a2723e84cf",
   "metadata": {},
   "outputs": [
    {
     "data": {
      "text/plain": [
       "((3847, 4608), (3847, 8))"
      ]
     },
     "execution_count": 15,
     "metadata": {},
     "output_type": "execute_result"
    }
   ],
   "source": [
    "test_features.shape, Y_pred.shape"
   ]
  },
  {
   "cell_type": "code",
   "execution_count": 16,
   "id": "50c4ba88-93de-4ae8-ba9e-21f376a96a2d",
   "metadata": {},
   "outputs": [
    {
     "data": {
      "text/plain": [
       "(8.6899223e-35, 1.0)"
      ]
     },
     "execution_count": 16,
     "metadata": {},
     "output_type": "execute_result"
    }
   ],
   "source": [
    "Y_pred.min(), Y_pred.max()"
   ]
  },
  {
   "cell_type": "code",
   "execution_count": 17,
   "id": "918c7bf3-8c01-404d-89e9-ed22b2ffccb7",
   "metadata": {},
   "outputs": [],
   "source": [
    "def custom_activation(y):\n",
    "    return np.where(y > 3.5, 1, 0)\n",
    "\n",
    "#np.unique(np.argmax(Y_pred, axis=1))\n",
    "prediction = custom_activation(np.argmax(Y_pred, axis=1))\n",
    "\n",
    "Y_pred_out = pd.DataFrame(prediction, columns=['pred'])\n",
    "Y_pred_out.to_csv(f'{data_dir}/test_images_flooding-fire_predictions.csv', index=False)"
   ]
  },
  {
   "cell_type": "code",
   "execution_count": 18,
   "id": "28c32673-f1c5-44bf-80cf-6ce668051212",
   "metadata": {},
   "outputs": [
    {
     "data": {
      "text/plain": [
       "(3847, 1)"
      ]
     },
     "execution_count": 18,
     "metadata": {},
     "output_type": "execute_result"
    }
   ],
   "source": [
    "Y_pred_out.shape"
   ]
  },
  {
   "cell_type": "code",
   "execution_count": 19,
   "id": "cbe357ca-12ff-446d-be29-402ba98616dc",
   "metadata": {},
   "outputs": [
    {
     "data": {
      "text/plain": [
       "pred    2087\n",
       "dtype: int64"
      ]
     },
     "execution_count": 19,
     "metadata": {},
     "output_type": "execute_result"
    }
   ],
   "source": [
    "np.sum(Y_pred_out, axis=0) # 0.9586690927995841"
   ]
  },
  {
   "cell_type": "code",
   "execution_count": 20,
   "id": "a8d25c54-c07f-4189-80f5-c4513537c574",
   "metadata": {},
   "outputs": [
    {
     "data": {
      "text/plain": [
       "0.5443202495451"
      ]
     },
     "execution_count": 20,
     "metadata": {},
     "output_type": "execute_result"
    }
   ],
   "source": [
    "2094/3847"
   ]
  },
  {
   "cell_type": "code",
   "execution_count": 21,
   "id": "a17b5807-aa61-4400-99a4-8d2ce2ba1a0d",
   "metadata": {},
   "outputs": [
    {
     "name": "stdout",
     "output_type": "stream",
     "text": [
      "97/97 [==============================] - 0s 5ms/step\n"
     ]
    },
    {
     "data": {
      "text/plain": [
       "0.5485862853428665"
      ]
     },
     "execution_count": 21,
     "metadata": {},
     "output_type": "execute_result"
    }
   ],
   "source": [
    "Y_pred = model.predict(val_features)\n",
    "#Y_pred = model.predict(train_features)\n",
    "Y_pred = custom_activation(np.argmax(Y_pred, axis=1))\n",
    "np.sum(Y_pred, axis=0)/len(Y_pred)"
   ]
  },
  {
   "cell_type": "code",
   "execution_count": 22,
   "id": "37743822-f029-417a-8576-eb4ceb94190a",
   "metadata": {},
   "outputs": [],
   "source": [
    "Y_actual = custom_activation(m_val_df['label'].to_numpy())\n",
    "#Y_actual = custom_activation(m_train_df['label'].to_numpy())"
   ]
  },
  {
   "cell_type": "code",
   "execution_count": 23,
   "id": "ce064e8f-3df1-49e2-8796-b7f76e6865fe",
   "metadata": {},
   "outputs": [
    {
     "data": {
      "text/plain": [
       "0.9519012024699383"
      ]
     },
     "execution_count": 23,
     "metadata": {},
     "output_type": "execute_result"
    }
   ],
   "source": [
    "sum(Y_pred==Y_actual)/ len(Y_actual)"
   ]
  },
  {
   "cell_type": "markdown",
   "id": "9a276151-0e4e-436a-b041-af1a96e85146",
   "metadata": {},
   "source": [
    "## Model Evaluation, Task A\n",
    "\n",
    "Add detail!!!"
   ]
  },
  {
   "cell_type": "markdown",
   "id": "e136a8ac-c349-4b06-aebe-d192acd1feb4",
   "metadata": {},
   "source": [
    "## Feature Engineering, Task B"
   ]
  },
  {
   "cell_type": "code",
   "execution_count": 24,
   "id": "27a45458-3ec1-4057-baee-a36569847fa1",
   "metadata": {},
   "outputs": [
    {
     "data": {
      "text/plain": [
       "type       label\n",
       "hurricane  1        5236\n",
       "           0        2631\n",
       "           3        1740\n",
       "           2        1544\n",
       "Name: count, dtype: int64"
      ]
     },
     "metadata": {},
     "output_type": "display_data"
    }
   ],
   "source": [
    "# Select Dataset for Disaster Leve Classification\n",
    "train_level_df = train_df[(train_df.type == 'hurricane') ] \n",
    "test_level_df = test_df[(test_df.type == 'hurricane') ] \n",
    "show_balance(train_level_df)"
   ]
  },
  {
   "cell_type": "code",
   "execution_count": 25,
   "id": "c9810dbb-ce5d-42d1-bd95-5f0f8018755a",
   "metadata": {},
   "outputs": [
    {
     "data": {
      "text/plain": [
       "array(['hurricane'], dtype=object)"
      ]
     },
     "execution_count": 25,
     "metadata": {},
     "output_type": "execute_result"
    }
   ],
   "source": [
    "train_level_df.type.unique()"
   ]
  },
  {
   "cell_type": "code",
   "execution_count": 26,
   "id": "0186be89-c4ef-4112-8754-832ca477a0e5",
   "metadata": {},
   "outputs": [
    {
     "data": {
      "text/plain": [
       "Index(['index', 'type', 'image', 'label'], dtype='object')"
      ]
     },
     "execution_count": 26,
     "metadata": {},
     "output_type": "execute_result"
    }
   ],
   "source": [
    "train_level_df.columns"
   ]
  },
  {
   "cell_type": "code",
   "execution_count": 27,
   "id": "2df52d01-ec99-4529-b353-f2897fb54f82",
   "metadata": {},
   "outputs": [],
   "source": [
    "backend.clear_session()  # clear model"
   ]
  },
  {
   "cell_type": "code",
   "execution_count": 28,
   "id": "3d7e29a0-3ca4-40ba-80a6-a944a5e30812",
   "metadata": {},
   "outputs": [
    {
     "name": "stdout",
     "output_type": "stream",
     "text": [
      "../Data/models/task_B_vgg16_model_dropout\n",
      "../Data/models/task_B_vgg16_model_dropout/history.pkl\n",
      "Gherkin injested.\n"
     ]
    }
   ],
   "source": [
    "import numpy as np\n",
    "import pandas as pd\n",
    "import tensorflow as tf\n",
    "from tensorflow.keras.applications.vgg16 import VGG16\n",
    "from tensorflow.keras.models import Sequential\n",
    "from tensorflow.keras.layers import Dense, Flatten, Dropout, Conv2D\n",
    "from sklearn.model_selection import train_test_split\n",
    "#from sklearn.utils import class_weight\n",
    "from sklearn.utils import compute_class_weight\n",
    "\n",
    "\n",
    "SIZE = 120 # Set image size\n",
    "\n",
    "# Load Our DataFrame\n",
    "df = train_level_df\n",
    "\n",
    "# Note that 'image' column contains RGB images as numpy arrays\n",
    "# and 'label' column contains values (-3, -2, -1, 0, 1, 2, 3),\n",
    "# Nope... [0,1,2,3,4,5,6,7], where >3.5 is fire\n",
    "\n",
    "# Split data into training and validation sets\n",
    "m_train_df, m_val_df = train_test_split(df, test_size=0.2, stratify=df['label'], random_state=42)\n",
    "\n",
    "# Load VGG16 model with pre-trained weights (excluding top layers)\n",
    "vgg16 = VGG16(weights='imagenet', include_top=False, input_shape=(SIZE, SIZE, 3))\n",
    "\n",
    "# Extract bottleneck features for training data\n",
    "def extract_bottleneck_features(dataframe):\n",
    "    features = []\n",
    "    for img_array in tqdm(dataframe['image']):\n",
    "        img_array = tf.image.resize(img_array, (SIZE, SIZE))  # Resize to VGG16 input size\n",
    "        img_array = tf.keras.applications.vgg16.preprocess_input(img_array)\n",
    "        bottleneck_feature = vgg16.predict(np.expand_dims(img_array, axis=0), verbose=0)\n",
    "        features.append(bottleneck_feature.flatten())\n",
    "    return np.array(features)\n",
    "\n",
    "train_features, val_features = [],[]\n",
    "if (\n",
    "    os.path.exists(data_dir) \n",
    "    & os.path.isfile(f'{data_dir}/task_B_train_features.npy') \n",
    "    & os.path.isfile(f'{data_dir}/task_B_test_features.npy')\n",
    "    & os.path.isfile(f'{data_dir}/task_B_val_features.npy')\n",
    "):\n",
    "    train_features = np.load(f'{data_dir}/task_B_train_features.npy')\n",
    "    test_features = np.load(f'{data_dir}/task_B_test_features.npy')\n",
    "    val_features = np.load(f'{data_dir}/task_B_val_features.npy')\n",
    "else: #FIXME!!\n",
    "    m_test_df = test_level_df\n",
    "    train_features = extract_bottleneck_features(m_train_df)\n",
    "    test_features = extract_bottleneck_features(m_test_df)\n",
    "    val_features = extract_bottleneck_features(m_val_df)\n",
    "    np.save(f'{data_dir}/task_B_train_features.npy', train_features)\n",
    "    np.save(f'{data_dir}/task_B_test_features.npy', test_features)\n",
    "    np.save(f'{data_dir}/task_B_val_features.npy', val_features)\n",
    "\n",
    "# Create a simple fully-connected model\n",
    "model = Sequential()\n",
    "model.add(Flatten(input_shape=train_features.shape[1:]))\n",
    "model.add(Dense(128, activation='relu'))\n",
    "#model.add(Dropout(0.01)),\n",
    "model.add(Dense(64, activation='relu'))\n",
    "#model.add(Dropout(0.0001)),\n",
    "model.add(Dense(4, activation='softmax'))  # 4 classes \n",
    "\n",
    "# Compile the model\n",
    "model.compile(optimizer='adam', loss='sparse_categorical_crossentropy', metrics=['accuracy'])\n",
    "\n",
    "# Calculate class weights for imbalanced labels\n",
    "train_classes = m_train_df['label']\n",
    "class_weights = compute_class_weight(class_weight='balanced', classes=np.unique(train_classes), y=train_classes)\n",
    "class_weights_dict = {i: weight for i, weight in enumerate(class_weights)}\n",
    "\n",
    "# Save the model\n",
    "model_name = 'task_B_vgg16_model_dropout'\n",
    "model_0, history_0, notes_0 = load_model_data(model_name, path=data_dir)\n",
    "if model_0 != None:\n",
    "    model, model_history, notes = model_0, history_0, notes_0\n",
    "else:\n",
    "    # Train the model\n",
    "    model_history = model.fit(train_features, m_train_df['label'].astype(float), validation_data=(val_features, m_val_df['label'].astype(float)),\n",
    "          epochs=11, batch_size=128, class_weight=class_weights_dict)\n",
    "\n",
    "    # Save, one and done.\n",
    "    save_model_data(model_name, model, model_history, 'trained on weighted labels', path=data_dir)"
   ]
  },
  {
   "cell_type": "code",
   "execution_count": 29,
   "id": "29c65319-b264-4608-989e-af31b585ec6c",
   "metadata": {},
   "outputs": [
    {
     "name": "stdout",
     "output_type": "stream",
     "text": [
      "88/88 [==============================] - 0s 5ms/step\n"
     ]
    }
   ],
   "source": [
    "# Evaluate the model on test data \n",
    "Y_pred = model.predict(test_features)"
   ]
  },
  {
   "cell_type": "code",
   "execution_count": 38,
   "id": "554a1982-aa89-4901-b1eb-8e4d43356fd2",
   "metadata": {},
   "outputs": [],
   "source": [
    "def custom_activation(y):\n",
    "    return np.argmax(y, axis=1)\n",
    "\n",
    "prediction = custom_activation(Y_pred) # 0.53241 %\n",
    "\n",
    "Y_pred_out = pd.DataFrame(prediction, columns=['pred'])\n",
    "Y_pred_out.to_csv(f'{data_dir}/test_images_hurricane-matthew_predictions.csv', index=False)"
   ]
  },
  {
   "cell_type": "code",
   "execution_count": 39,
   "id": "e735a8b3-e515-4656-a434-56ae24784468",
   "metadata": {},
   "outputs": [
    {
     "data": {
      "text/plain": [
       "(9.996386e-20, 1.0, (2788, 4))"
      ]
     },
     "execution_count": 39,
     "metadata": {},
     "output_type": "execute_result"
    }
   ],
   "source": [
    "Y_pred.min(),Y_pred.max(), Y_pred.shape"
   ]
  },
  {
   "cell_type": "code",
   "execution_count": 40,
   "id": "b399b576-c49b-4d3c-965b-e29c174dd2a4",
   "metadata": {},
   "outputs": [
    {
     "data": {
      "text/plain": [
       "array([0, 0, 1, ..., 1, 3, 1])"
      ]
     },
     "execution_count": 40,
     "metadata": {},
     "output_type": "execute_result"
    }
   ],
   "source": [
    "Y_pred_out.pred.to_numpy()"
   ]
  },
  {
   "cell_type": "code",
   "execution_count": 43,
   "id": "13153d3f-09d3-4da8-9324-415d4e252a02",
   "metadata": {},
   "outputs": [
    {
     "name": "stdout",
     "output_type": "stream",
     "text": [
      "70/70 [==============================] - 0s 4ms/step\n"
     ]
    }
   ],
   "source": [
    "Y_pred = model.predict(val_features)\n",
    "Y_pred = custom_activation(Y_pred)"
   ]
  },
  {
   "cell_type": "code",
   "execution_count": 53,
   "id": "c32faa61-5c65-4c15-9437-d84390b8268e",
   "metadata": {},
   "outputs": [],
   "source": [
    "Y_actual =  m_val_df['label'].to_numpy()"
   ]
  },
  {
   "cell_type": "code",
   "execution_count": 54,
   "id": "0097cc53-16ef-454b-bb00-ecae2958c408",
   "metadata": {},
   "outputs": [
    {
     "data": {
      "text/plain": [
       "0.5544598834603317"
      ]
     },
     "execution_count": 54,
     "metadata": {},
     "output_type": "execute_result"
    }
   ],
   "source": [
    "sum(Y_pred==Y_actual)/ len(Y_actual)"
   ]
  },
  {
   "cell_type": "markdown",
   "id": "dd91eaa6-fc96-4731-a7d9-603b6ba624c2",
   "metadata": {},
   "source": [
    "# Model Evaluation, Task B\n",
    "\n",
    "Add detail!!!"
   ]
  },
  {
   "cell_type": "code",
   "execution_count": null,
   "id": "e5bbed90-f1c9-413d-b24b-97a47d1f0143",
   "metadata": {},
   "outputs": [],
   "source": []
  },
  {
   "cell_type": "code",
   "execution_count": null,
   "id": "8c935ca5-d1ad-4369-ba06-6e42e5d72958",
   "metadata": {},
   "outputs": [],
   "source": []
  }
 ],
 "metadata": {
  "kernelspec": {
   "display_name": "Python 3 (ipykernel)",
   "language": "python",
   "name": "python3"
  },
  "language_info": {
   "codemirror_mode": {
    "name": "ipython",
    "version": 3
   },
   "file_extension": ".py",
   "mimetype": "text/x-python",
   "name": "python",
   "nbconvert_exporter": "python",
   "pygments_lexer": "ipython3",
   "version": "3.11.8"
  }
 },
 "nbformat": 4,
 "nbformat_minor": 5
}
